{
 "cells": [
  {
   "cell_type": "code",
   "execution_count": 1,
   "id": "5fa76e26",
   "metadata": {
    "scrolled": true,
    "vscode": {
     "languageId": "r"
    }
   },
   "outputs": [
    {
     "name": "stderr",
     "output_type": "stream",
     "text": [
      "── \u001b[1mAttaching core tidyverse packages\u001b[22m ──────────────────────── tidyverse 2.0.0 ──\n",
      "\u001b[32m✔\u001b[39m \u001b[34mdplyr    \u001b[39m 1.1.3     \u001b[32m✔\u001b[39m \u001b[34mreadr    \u001b[39m 2.1.4\n",
      "\u001b[32m✔\u001b[39m \u001b[34mforcats  \u001b[39m 1.0.0     \u001b[32m✔\u001b[39m \u001b[34mstringr  \u001b[39m 1.5.0\n",
      "\u001b[32m✔\u001b[39m \u001b[34mggplot2  \u001b[39m 3.4.4     \u001b[32m✔\u001b[39m \u001b[34mtibble   \u001b[39m 3.2.1\n",
      "\u001b[32m✔\u001b[39m \u001b[34mlubridate\u001b[39m 1.9.3     \u001b[32m✔\u001b[39m \u001b[34mtidyr    \u001b[39m 1.3.0\n",
      "\u001b[32m✔\u001b[39m \u001b[34mpurrr    \u001b[39m 1.0.2     \n",
      "── \u001b[1mConflicts\u001b[22m ────────────────────────────────────────── tidyverse_conflicts() ──\n",
      "\u001b[31m✖\u001b[39m \u001b[34mdplyr\u001b[39m::\u001b[32mfilter()\u001b[39m masks \u001b[34mstats\u001b[39m::filter()\n",
      "\u001b[31m✖\u001b[39m \u001b[34mdplyr\u001b[39m::\u001b[32mlag()\u001b[39m    masks \u001b[34mstats\u001b[39m::lag()\n",
      "\u001b[36mℹ\u001b[39m Use the conflicted package (\u001b[3m\u001b[34m<http://conflicted.r-lib.org/>\u001b[39m\u001b[23m) to force all conflicts to become errors\n",
      "Warning message:\n",
      "“il pacchetto ‘tidytext’ è stato creato con R versione 4.3.3”\n",
      "Warning message:\n",
      "“il pacchetto ‘textstem’ è stato creato con R versione 4.3.3”\n",
      "Caricamento del pacchetto richiesto: koRpus.lang.en\n",
      "\n",
      "Caricamento del pacchetto richiesto: koRpus\n",
      "\n",
      "Caricamento del pacchetto richiesto: sylly\n",
      "\n",
      "For information on available language packages for 'koRpus', run\n",
      "\n",
      "  available.koRpus.lang()\n",
      "\n",
      "and see ?install.koRpus.lang()\n",
      "\n",
      "\n",
      "\n",
      "Caricamento pacchetto: ‘koRpus’\n",
      "\n",
      "\n",
      "Il seguente oggetto è mascherato da ‘package:readr’:\n",
      "\n",
      "    tokenize\n",
      "\n",
      "\n"
     ]
    }
   ],
   "source": [
    "library(tidyverse)\n",
    "library(tidytext)\n",
    "library(textstem)\n",
    "options(repr.plot.res=1000)"
   ]
  },
  {
   "cell_type": "markdown",
   "id": "e6120d6e-2127-4ffb-821f-021aef068b7e",
   "metadata": {},
   "source": [
    "# Multinomial Naive Bayes algorithm"
   ]
  },
  {
   "cell_type": "code",
   "execution_count": 2,
   "id": "f913dda2",
   "metadata": {
    "vscode": {
     "languageId": "r"
    }
   },
   "outputs": [
    {
     "data": {
      "text/html": [
       "<table class=\"dataframe\">\n",
       "<caption>A tibble: 6 × 2</caption>\n",
       "<thead>\n",
       "\t<tr><th scope=col>word</th><th scope=col>lexicon</th></tr>\n",
       "\t<tr><th scope=col>&lt;chr&gt;</th><th scope=col>&lt;chr&gt;</th></tr>\n",
       "</thead>\n",
       "<tbody>\n",
       "\t<tr><td>i     </td><td>snowball</td></tr>\n",
       "\t<tr><td>me    </td><td>snowball</td></tr>\n",
       "\t<tr><td>my    </td><td>snowball</td></tr>\n",
       "\t<tr><td>myself</td><td>snowball</td></tr>\n",
       "\t<tr><td>we    </td><td>snowball</td></tr>\n",
       "\t<tr><td>our   </td><td>snowball</td></tr>\n",
       "</tbody>\n",
       "</table>\n"
      ],
      "text/latex": [
       "A tibble: 6 × 2\n",
       "\\begin{tabular}{ll}\n",
       " word & lexicon\\\\\n",
       " <chr> & <chr>\\\\\n",
       "\\hline\n",
       "\t i      & snowball\\\\\n",
       "\t me     & snowball\\\\\n",
       "\t my     & snowball\\\\\n",
       "\t myself & snowball\\\\\n",
       "\t we     & snowball\\\\\n",
       "\t our    & snowball\\\\\n",
       "\\end{tabular}\n"
      ],
      "text/markdown": [
       "\n",
       "A tibble: 6 × 2\n",
       "\n",
       "| word &lt;chr&gt; | lexicon &lt;chr&gt; |\n",
       "|---|---|\n",
       "| i      | snowball |\n",
       "| me     | snowball |\n",
       "| my     | snowball |\n",
       "| myself | snowball |\n",
       "| we     | snowball |\n",
       "| our    | snowball |\n",
       "\n"
      ],
      "text/plain": [
       "  word   lexicon \n",
       "1 i      snowball\n",
       "2 me     snowball\n",
       "3 my     snowball\n",
       "4 myself snowball\n",
       "5 we     snowball\n",
       "6 our    snowball"
      ]
     },
     "metadata": {},
     "output_type": "display_data"
    }
   ],
   "source": [
    "garbage <- stop_words |> filter(lexicon=='snowball')\n",
    "head(garbage)"
   ]
  },
  {
   "cell_type": "code",
   "execution_count": 3,
   "id": "314540fa-fbab-48c2-a797-5c47d52cf3bf",
   "metadata": {},
   "outputs": [],
   "source": [
    "tokenise <- function(df, stopwords=garbage){\n",
    "    df |> mutate(\n",
    "        word=Text |>\n",
    "        str_to_lower() |>\n",
    "        str_remove_all(r\"(can't|n't|'s|'ve|'d|'ll|'re|'m|[[:punct:][:symbol:]])\") |>\n",
    "        str_extract_all(r\"([:alpha:]{2,})\")\n",
    "    ) |> unnest(word) |>\n",
    "    anti_join(stopwords, \"word\") |>\n",
    "    mutate(word=lemmatize_words(word))\n",
    "}\n",
    "\n",
    "\n",
    "\n",
    "trainMNB <- function(training_data, k=0){\n",
    "    N <- nrow(training_data)  # num docs\n",
    "    training_data <- training_data |> add_count(Labels, name=\"n.labels\")  # num docs by class\n",
    "    \n",
    "    tokens <- tokenise(training_data)\n",
    "\n",
    "    # feature selection\n",
    "    if (k != 0) {\n",
    "        # vocabulary\n",
    "        Nk <- N + 4\n",
    "        V <- tokens |> distinct() |> add_count(word, name=\"n.words\")  |>  # num docs with word\n",
    "            add_count(Labels, word, name=\"n11\") |>  # docs with t in c\n",
    "            distinct(word, Labels, .keep_all=T) |>  # drop duplicates not to hinder slice_max\n",
    "            mutate(n11=n11 + 1,\n",
    "                   n10=n.words - n11 + 1,  # docs with t not in c\n",
    "                   n01=n.labels - n11 + 1,  # docs w/o t in c\n",
    "                   n1.=n11 + n10, n.1=n11 + n01,\n",
    "                   n00=Nk - n1. - n01 + 1,  # docs w/o t not in c\n",
    "                   n0.=n00 + n01, n.0=n00 + n10,\n",
    "                   mi=(n11*log2(Nk*n11/n1./n.1) + n01*log2(Nk*n01/n0./n.1) + n10*log2(Nk*n10/n1./n.0) + n00*log2(Nk*n00/n0./n.0)) / Nk  # mutual information\n",
    "                  ) |> slice_max(mi, by=Labels, n=k) |> distinct(word)\n",
    "        \n",
    "        tokens <- tokens |> semi_join(V, \"word\")\n",
    "    } else {V <- tokens |> distinct(word)}\n",
    "\n",
    "\n",
    "    toklass <- tokens |> count(Labels, name=\"n.words.class\")\n",
    "    log.condprob <- tokens |> count(Labels, word, name=\"n.single.word.class\") |> complete(Labels, word, fill=list(n.single.word.class=0)) |> inner_join(toklass, \"Labels\") |>\n",
    "        mutate(prob=log((n.single.word.class + 1) / (n.words.class + nrow(V))), .keep=\"unused\")\n",
    "\n",
    "    log.prior <- training_data |> distinct(Labels, n.labels) |> mutate(prior=log(n.labels / N), .keep=\"unused\")\n",
    "    return (list(V, log.prior, log.condprob))  # Also returns the vocabulary following the pseudocode of reference, but unused\n",
    "}\n",
    "\n",
    "\n",
    "\n",
    "applyMNB <- function(data, log.prior, log.condprob, labels=F){\n",
    "    predict <- tokenise(data) |>\n",
    "        left_join(log.condprob, \"word\", relationship=\"many-to-many\") |> summarise(prob=sum(prob), .by=c(Text, Labels.y)) |>  # join condprob (sum of prob of each word for each label)\n",
    "        left_join(log.prior, join_by(Labels.y==Labels)) |> mutate(post=prob + prior) |>  # join prior and sum to condprob\n",
    "        slice_max(post, by=\"Text\") |>\n",
    "        replace_na(list(Labels.y=( (log.prior |> slice_max(prior))$Labels )))  # if the Text doesn't contain any usable word the most occuring class is selected\n",
    "\n",
    "    if(labels){predict <- predict |> inner_join(data, \"Text\")}\n",
    "    return (predict)\n",
    "}\n",
    "\n",
    "\n",
    "\n",
    "train.n.apply <- function(training, testing, k=0, labels=T){\n",
    "    MNB <- training |> trainMNB(k=k)\n",
    "    testing |> applyMNB(MNB[[2]], MNB[[3]], labels=labels)\n",
    "}\n",
    "\n",
    "\n",
    "\n",
    "feature.search <- function(training, validation, k){\n",
    "    mat <- matrix(, nrow=length(k), ncol=3)\n",
    "    for (i in seq_along(k)){cat(k[i], '')\n",
    "        flush.console()  # display cat on single row\n",
    "        pred <- train.n.apply(training, validation, k=k[i])\n",
    "        mat[i,] <- c(k[i], (pred |> filter(Labels==Labels.y) |> nrow()) / nrow(validation), pred |> filter(is.na(post)) |> nrow())  # k, overall accuracy, docs with no features\n",
    "        }\n",
    "    return(mat)\n",
    "}"
   ]
  },
  {
   "cell_type": "markdown",
   "id": "2bfca7cc-a1de-4ed1-9e9e-28cb71e19929",
   "metadata": {},
   "source": [
    "# [Multilabel Data](https://www.kaggle.com/datasets/anmolkumar/fake-news-content-detection)\n",
    "- True - 5\n",
    "- Not-Known - 4\n",
    "- Mostly-True - 3\n",
    "- Half-True - 2\n",
    "- False - 1\n",
    "- Barely-True - 0"
   ]
  },
  {
   "cell_type": "markdown",
   "id": "09467450-ce65-452f-8d1c-ca26d6da5690",
   "metadata": {},
   "source": [
    "## Preprocessing"
   ]
  },
  {
   "cell_type": "code",
   "execution_count": 2,
   "id": "765ccf8d",
   "metadata": {
    "vscode": {
     "languageId": "r"
    }
   },
   "outputs": [
    {
     "name": "stderr",
     "output_type": "stream",
     "text": [
      "\u001b[1mRows: \u001b[22m\u001b[34m10240\u001b[39m \u001b[1mColumns: \u001b[22m\u001b[34m3\u001b[39m\n",
      "\u001b[36m──\u001b[39m \u001b[1mColumn specification\u001b[22m \u001b[36m────────────────────────────────────────────────────────\u001b[39m\n",
      "\u001b[1mDelimiter:\u001b[22m \",\"\n",
      "\u001b[31mchr\u001b[39m (2): Text, Text_Tag\n",
      "\u001b[32mdbl\u001b[39m (1): Labels\n",
      "\n",
      "\u001b[36mℹ\u001b[39m Use `spec()` to retrieve the full column specification for this data.\n",
      "\u001b[36mℹ\u001b[39m Specify the column types or set `show_col_types = FALSE` to quiet this message.\n"
     ]
    },
    {
     "name": "stdout",
     "output_type": "stream",
     "text": [
      "tibble [10,240 × 2] (S3: tbl_df/tbl/data.frame)\n",
      " $ Labels: num [1:10240] 1 2 3 1 2 5 0 2 2 3 ...\n",
      " $ Text  : chr [1:10240] \"Says the Annies List political group supports third-trimester abortions on demand.\" \"When did the decline of coal start? It started when natural gas took off that started to begin in (President Ge\"| __truncated__ \"Hillary Clinton agrees with John McCain \\\"by voting to give George Bush the benefit of the doubt on Iran.\\\"\" \"Health care reform legislation is likely to mandate free sex change surgeries.\" ...\n"
     ]
    }
   ],
   "source": [
    "data <- read_csv('data/og/train.csv') |> select(Labels, Text)\n",
    "str(data)"
   ]
  },
  {
   "cell_type": "markdown",
   "id": "4a5535be-fb89-4cb8-9b34-d03d9d669089",
   "metadata": {},
   "source": [
    "Check missing values"
   ]
  },
  {
   "cell_type": "code",
   "execution_count": 8,
   "id": "978839c3",
   "metadata": {
    "vscode": {
     "languageId": "r"
    }
   },
   "outputs": [
    {
     "data": {
      "text/html": [
       "0"
      ],
      "text/latex": [
       "0"
      ],
      "text/markdown": [
       "0"
      ],
      "text/plain": [
       "[1] 0"
      ]
     },
     "metadata": {},
     "output_type": "display_data"
    }
   ],
   "source": [
    "sum(is.na(data))"
   ]
  },
  {
   "cell_type": "markdown",
   "id": "53d09566-8fc8-4a94-9d27-bdbff9c80ef5",
   "metadata": {},
   "source": [
    "We remove all the data labelled as \"Not known\" (some examples are shown in the cell below), and take care of duplicate rows."
   ]
  },
  {
   "cell_type": "code",
   "execution_count": 9,
   "id": "af3629a3-890f-4860-96a0-5845b9353f1f",
   "metadata": {},
   "outputs": [
    {
     "data": {
      "text/html": [
       "<table class=\"dataframe\">\n",
       "<caption>A tibble: 5 × 2</caption>\n",
       "<thead>\n",
       "\t<tr><th scope=col>Labels</th><th scope=col>Text</th></tr>\n",
       "\t<tr><th scope=col>&lt;dbl&gt;</th><th scope=col>&lt;chr&gt;</th></tr>\n",
       "</thead>\n",
       "<tbody>\n",
       "\t<tr><td>4</td><td>2014 Federal Tax Refunds To Be Delayed Until October 2015.                                                     </td></tr>\n",
       "\t<tr><td>4</td><td>Wendy Davis raised money for a U.S. House Democrat who is a member of a Democratic socialists group.           </td></tr>\n",
       "\t<tr><td>4</td><td>Says Ted Cruz just flip-flopped about the president needing to be U.S.-born.                                   </td></tr>\n",
       "\t<tr><td>4</td><td>Final election 2016 numbers: Trump won the popular vote.                                                       </td></tr>\n",
       "\t<tr><td>4</td><td>Says Barack Obama sold Chrysler to Italians who are going to build Jeeps in China at the cost of American jobs.</td></tr>\n",
       "</tbody>\n",
       "</table>\n"
      ],
      "text/latex": [
       "A tibble: 5 × 2\n",
       "\\begin{tabular}{ll}\n",
       " Labels & Text\\\\\n",
       " <dbl> & <chr>\\\\\n",
       "\\hline\n",
       "\t 4 & 2014 Federal Tax Refunds To Be Delayed Until October 2015.                                                     \\\\\n",
       "\t 4 & Wendy Davis raised money for a U.S. House Democrat who is a member of a Democratic socialists group.           \\\\\n",
       "\t 4 & Says Ted Cruz just flip-flopped about the president needing to be U.S.-born.                                   \\\\\n",
       "\t 4 & Final election 2016 numbers: Trump won the popular vote.                                                       \\\\\n",
       "\t 4 & Says Barack Obama sold Chrysler to Italians who are going to build Jeeps in China at the cost of American jobs.\\\\\n",
       "\\end{tabular}\n"
      ],
      "text/markdown": [
       "\n",
       "A tibble: 5 × 2\n",
       "\n",
       "| Labels &lt;dbl&gt; | Text &lt;chr&gt; |\n",
       "|---|---|\n",
       "| 4 | 2014 Federal Tax Refunds To Be Delayed Until October 2015.                                                      |\n",
       "| 4 | Wendy Davis raised money for a U.S. House Democrat who is a member of a Democratic socialists group.            |\n",
       "| 4 | Says Ted Cruz just flip-flopped about the president needing to be U.S.-born.                                    |\n",
       "| 4 | Final election 2016 numbers: Trump won the popular vote.                                                        |\n",
       "| 4 | Says Barack Obama sold Chrysler to Italians who are going to build Jeeps in China at the cost of American jobs. |\n",
       "\n"
      ],
      "text/plain": [
       "  Labels\n",
       "1 4     \n",
       "2 4     \n",
       "3 4     \n",
       "4 4     \n",
       "5 4     \n",
       "  Text                                                                                                           \n",
       "1 2014 Federal Tax Refunds To Be Delayed Until October 2015.                                                     \n",
       "2 Wendy Davis raised money for a U.S. House Democrat who is a member of a Democratic socialists group.           \n",
       "3 Says Ted Cruz just flip-flopped about the president needing to be U.S.-born.                                   \n",
       "4 Final election 2016 numbers: Trump won the popular vote.                                                       \n",
       "5 Says Barack Obama sold Chrysler to Italians who are going to build Jeeps in China at the cost of American jobs."
      ]
     },
     "metadata": {},
     "output_type": "display_data"
    }
   ],
   "source": [
    "data |> filter(Labels==4) |> slice_sample(n=5)"
   ]
  },
  {
   "cell_type": "code",
   "execution_count": 10,
   "id": "9e9861ea",
   "metadata": {
    "vscode": {
     "languageId": "r"
    }
   },
   "outputs": [
    {
     "name": "stdout",
     "output_type": "stream",
     "text": [
      "tibble [9,390 × 2] (S3: tbl_df/tbl/data.frame)\n",
      " $ Labels: num [1:9390] 1 2 3 1 2 5 0 2 2 3 ...\n",
      " $ Text  : chr [1:9390] \"Says the Annies List political group supports third-trimester abortions on demand.\" \"When did the decline of coal start? It started when natural gas took off that started to begin in (President Ge\"| __truncated__ \"Hillary Clinton agrees with John McCain \\\"by voting to give George Bush the benefit of the doubt on Iran.\\\"\" \"Health care reform legislation is likely to mandate free sex change surgeries.\" ...\n"
     ]
    }
   ],
   "source": [
    "data <- data |> filter(Labels != 4) |> distinct()\n",
    "str(data)"
   ]
  },
  {
   "cell_type": "markdown",
   "id": "9673ce01",
   "metadata": {},
   "source": [
    "Some entries come with different labels. Since we have no means to choose the correct one, we simply drop all instances."
   ]
  },
  {
   "cell_type": "code",
   "execution_count": 11,
   "id": "0de86a21-95af-4922-b4ce-9a50fe5a340c",
   "metadata": {},
   "outputs": [
    {
     "data": {
      "text/html": [
       "<table class=\"dataframe\">\n",
       "<caption>A tibble: 12 × 2</caption>\n",
       "<thead>\n",
       "\t<tr><th scope=col>Labels</th><th scope=col>Text</th></tr>\n",
       "\t<tr><th scope=col>&lt;dbl&gt;</th><th scope=col>&lt;chr&gt;</th></tr>\n",
       "</thead>\n",
       "<tbody>\n",
       "\t<tr><td>2</td><td>Four balanced budgets in a row, with no new taxes for anyone. The best job growth in 12 years. Nearly 130,000 new private-sector jobs. Merit pay to reward New Jerseys best teachers, and the most education funding ever.</td></tr>\n",
       "\t<tr><td>3</td><td>Four balanced budgets in a row, with no new taxes for anyone. The best job growth in 12 years. Nearly 130,000 new private-sector jobs. Merit pay to reward New Jerseys best teachers, and the most education funding ever.</td></tr>\n",
       "\t<tr><td>1</td><td>On abortion                                                                                                                                                                                                               </td></tr>\n",
       "\t<tr><td>2</td><td>On abortion                                                                                                                                                                                                               </td></tr>\n",
       "\t<tr><td>5</td><td>On support for gay marriage.                                                                                                                                                                                              </td></tr>\n",
       "\t<tr><td>1</td><td>On support for gay marriage.                                                                                                                                                                                              </td></tr>\n",
       "\t<tr><td>1</td><td>On the status of illegal immigrants                                                                                                                                                                                       </td></tr>\n",
       "\t<tr><td>2</td><td>On the status of illegal immigrants                                                                                                                                                                                       </td></tr>\n",
       "\t<tr><td>5</td><td>On torture.                                                                                                                                                                                                               </td></tr>\n",
       "\t<tr><td>2</td><td>On torture.                                                                                                                                                                                                               </td></tr>\n",
       "\t<tr><td>2</td><td>Some 20,000 Delphi salaried retirees lost up to 70 percent of their pensions as a result of political favoritism and backroom deals.                                                                                      </td></tr>\n",
       "\t<tr><td>0</td><td>Some 20,000 Delphi salaried retirees lost up to 70 percent of their pensions as a result of political favoritism and backroom deals.                                                                                      </td></tr>\n",
       "</tbody>\n",
       "</table>\n"
      ],
      "text/latex": [
       "A tibble: 12 × 2\n",
       "\\begin{tabular}{ll}\n",
       " Labels & Text\\\\\n",
       " <dbl> & <chr>\\\\\n",
       "\\hline\n",
       "\t 2 & Four balanced budgets in a row, with no new taxes for anyone. The best job growth in 12 years. Nearly 130,000 new private-sector jobs. Merit pay to reward New Jerseys best teachers, and the most education funding ever.\\\\\n",
       "\t 3 & Four balanced budgets in a row, with no new taxes for anyone. The best job growth in 12 years. Nearly 130,000 new private-sector jobs. Merit pay to reward New Jerseys best teachers, and the most education funding ever.\\\\\n",
       "\t 1 & On abortion                                                                                                                                                                                                               \\\\\n",
       "\t 2 & On abortion                                                                                                                                                                                                               \\\\\n",
       "\t 5 & On support for gay marriage.                                                                                                                                                                                              \\\\\n",
       "\t 1 & On support for gay marriage.                                                                                                                                                                                              \\\\\n",
       "\t 1 & On the status of illegal immigrants                                                                                                                                                                                       \\\\\n",
       "\t 2 & On the status of illegal immigrants                                                                                                                                                                                       \\\\\n",
       "\t 5 & On torture.                                                                                                                                                                                                               \\\\\n",
       "\t 2 & On torture.                                                                                                                                                                                                               \\\\\n",
       "\t 2 & Some 20,000 Delphi salaried retirees lost up to 70 percent of their pensions as a result of political favoritism and backroom deals.                                                                                      \\\\\n",
       "\t 0 & Some 20,000 Delphi salaried retirees lost up to 70 percent of their pensions as a result of political favoritism and backroom deals.                                                                                      \\\\\n",
       "\\end{tabular}\n"
      ],
      "text/markdown": [
       "\n",
       "A tibble: 12 × 2\n",
       "\n",
       "| Labels &lt;dbl&gt; | Text &lt;chr&gt; |\n",
       "|---|---|\n",
       "| 2 | Four balanced budgets in a row, with no new taxes for anyone. The best job growth in 12 years. Nearly 130,000 new private-sector jobs. Merit pay to reward New Jerseys best teachers, and the most education funding ever. |\n",
       "| 3 | Four balanced budgets in a row, with no new taxes for anyone. The best job growth in 12 years. Nearly 130,000 new private-sector jobs. Merit pay to reward New Jerseys best teachers, and the most education funding ever. |\n",
       "| 1 | On abortion                                                                                                                                                                                                                |\n",
       "| 2 | On abortion                                                                                                                                                                                                                |\n",
       "| 5 | On support for gay marriage.                                                                                                                                                                                               |\n",
       "| 1 | On support for gay marriage.                                                                                                                                                                                               |\n",
       "| 1 | On the status of illegal immigrants                                                                                                                                                                                        |\n",
       "| 2 | On the status of illegal immigrants                                                                                                                                                                                        |\n",
       "| 5 | On torture.                                                                                                                                                                                                                |\n",
       "| 2 | On torture.                                                                                                                                                                                                                |\n",
       "| 2 | Some 20,000 Delphi salaried retirees lost up to 70 percent of their pensions as a result of political favoritism and backroom deals.                                                                                       |\n",
       "| 0 | Some 20,000 Delphi salaried retirees lost up to 70 percent of their pensions as a result of political favoritism and backroom deals.                                                                                       |\n",
       "\n"
      ],
      "text/plain": [
       "   Labels\n",
       "1  2     \n",
       "2  3     \n",
       "3  1     \n",
       "4  2     \n",
       "5  5     \n",
       "6  1     \n",
       "7  1     \n",
       "8  2     \n",
       "9  5     \n",
       "10 2     \n",
       "11 2     \n",
       "12 0     \n",
       "   Text                                                                                                                                                                                                                      \n",
       "1  Four balanced budgets in a row, with no new taxes for anyone. The best job growth in 12 years. Nearly 130,000 new private-sector jobs. Merit pay to reward New Jerseys best teachers, and the most education funding ever.\n",
       "2  Four balanced budgets in a row, with no new taxes for anyone. The best job growth in 12 years. Nearly 130,000 new private-sector jobs. Merit pay to reward New Jerseys best teachers, and the most education funding ever.\n",
       "3  On abortion                                                                                                                                                                                                               \n",
       "4  On abortion                                                                                                                                                                                                               \n",
       "5  On support for gay marriage.                                                                                                                                                                                              \n",
       "6  On support for gay marriage.                                                                                                                                                                                              \n",
       "7  On the status of illegal immigrants                                                                                                                                                                                       \n",
       "8  On the status of illegal immigrants                                                                                                                                                                                       \n",
       "9  On torture.                                                                                                                                                                                                               \n",
       "10 On torture.                                                                                                                                                                                                               \n",
       "11 Some 20,000 Delphi salaried retirees lost up to 70 percent of their pensions as a result of political favoritism and backroom deals.                                                                                      \n",
       "12 Some 20,000 Delphi salaried retirees lost up to 70 percent of their pensions as a result of political favoritism and backroom deals.                                                                                      "
      ]
     },
     "metadata": {},
     "output_type": "display_data"
    },
    {
     "name": "stdout",
     "output_type": "stream",
     "text": [
      "tibble [9,378 × 2] (S3: tbl_df/tbl/data.frame)\n",
      " $ Labels: num [1:9378] 1 2 3 1 2 5 0 2 2 3 ...\n",
      " $ Text  : chr [1:9378] \"Says the Annies List political group supports third-trimester abortions on demand.\" \"When did the decline of coal start? It started when natural gas took off that started to begin in (President Ge\"| __truncated__ \"Hillary Clinton agrees with John McCain \\\"by voting to give George Bush the benefit of the doubt on Iran.\\\"\" \"Health care reform legislation is likely to mandate free sex change surgeries.\" ...\n"
     ]
    }
   ],
   "source": [
    "dobble <- data[duplicated(data$Text),] |> select(Text)\n",
    "data |> semi_join(dobble, \"Text\") |> arrange(Text)\n",
    "data <- data |> anti_join(dobble, \"Text\")\n",
    "str(data)"
   ]
  },
  {
   "cell_type": "code",
   "execution_count": 12,
   "id": "eb85dbc2-fa19-4449-ad65-581885c634c0",
   "metadata": {},
   "outputs": [
    {
     "data": {
      "text/html": [
       "<table class=\"dataframe\">\n",
       "<caption>A tibble: 5 × 2</caption>\n",
       "<thead>\n",
       "\t<tr><th scope=col>Labels</th><th scope=col>n</th></tr>\n",
       "\t<tr><th scope=col>&lt;dbl&gt;</th><th scope=col>&lt;int&gt;</th></tr>\n",
       "</thead>\n",
       "<tbody>\n",
       "\t<tr><td>0</td><td>1653</td></tr>\n",
       "\t<tr><td>1</td><td>1985</td></tr>\n",
       "\t<tr><td>2</td><td>2107</td></tr>\n",
       "\t<tr><td>3</td><td>1961</td></tr>\n",
       "\t<tr><td>5</td><td>1672</td></tr>\n",
       "</tbody>\n",
       "</table>\n"
      ],
      "text/latex": [
       "A tibble: 5 × 2\n",
       "\\begin{tabular}{ll}\n",
       " Labels & n\\\\\n",
       " <dbl> & <int>\\\\\n",
       "\\hline\n",
       "\t 0 & 1653\\\\\n",
       "\t 1 & 1985\\\\\n",
       "\t 2 & 2107\\\\\n",
       "\t 3 & 1961\\\\\n",
       "\t 5 & 1672\\\\\n",
       "\\end{tabular}\n"
      ],
      "text/markdown": [
       "\n",
       "A tibble: 5 × 2\n",
       "\n",
       "| Labels &lt;dbl&gt; | n &lt;int&gt; |\n",
       "|---|---|\n",
       "| 0 | 1653 |\n",
       "| 1 | 1985 |\n",
       "| 2 | 2107 |\n",
       "| 3 | 1961 |\n",
       "| 5 | 1672 |\n",
       "\n"
      ],
      "text/plain": [
       "  Labels n   \n",
       "1 0      1653\n",
       "2 1      1985\n",
       "3 2      2107\n",
       "4 3      1961\n",
       "5 5      1672"
      ]
     },
     "metadata": {},
     "output_type": "display_data"
    }
   ],
   "source": [
    "data |> count(Labels)"
   ]
  },
  {
   "cell_type": "markdown",
   "id": "a2502b62-aae2-4a48-b824-b579f9a51b63",
   "metadata": {},
   "source": [
    "Separate the sets, and save them to new files (the cell is in `Raw` mode to avoid accidentally running it)"
   ]
  },
  {
   "cell_type": "raw",
   "id": "57cf6692-2ab2-4657-8a9e-36af56f1fc8d",
   "metadata": {
    "vscode": {
     "languageId": "r"
    }
   },
   "source": [
    "test <- slice_sample(data, prop=.10)\n",
    "new_data <- setdiff(data, test)\n",
    "validation <- slice_sample(new_data, prop=.15)\n",
    "training <- setdiff(new_data, validation)\n",
    "\n",
    "dfs <- list(test=test, validation=validation, training=training)\n",
    "for (name in names(dfs)) write_csv(dfs[[name]], paste0('data/', name, '.csv'))"
   ]
  },
  {
   "cell_type": "markdown",
   "id": "f5e04a71-c3e5-4bed-b6ab-2c2f7f8d85c1",
   "metadata": {},
   "source": [
    "## Training"
   ]
  },
  {
   "cell_type": "code",
   "execution_count": 5,
   "id": "cc680b05",
   "metadata": {
    "vscode": {
     "languageId": "r"
    }
   },
   "outputs": [
    {
     "name": "stderr",
     "output_type": "stream",
     "text": [
      "\u001b[1mRows: \u001b[22m\u001b[34m7175\u001b[39m \u001b[1mColumns: \u001b[22m\u001b[34m2\u001b[39m\n",
      "\u001b[36m──\u001b[39m \u001b[1mColumn specification\u001b[22m \u001b[36m────────────────────────────────────────────────────────\u001b[39m\n",
      "\u001b[1mDelimiter:\u001b[22m \",\"\n",
      "\u001b[31mchr\u001b[39m (1): Text\n",
      "\u001b[32mdbl\u001b[39m (1): Labels\n",
      "\n",
      "\u001b[36mℹ\u001b[39m Use `spec()` to retrieve the full column specification for this data.\n",
      "\u001b[36mℹ\u001b[39m Specify the column types or set `show_col_types = FALSE` to quiet this message.\n",
      "\u001b[1mRows: \u001b[22m\u001b[34m1266\u001b[39m \u001b[1mColumns: \u001b[22m\u001b[34m2\u001b[39m\n",
      "\u001b[36m──\u001b[39m \u001b[1mColumn specification\u001b[22m \u001b[36m────────────────────────────────────────────────────────\u001b[39m\n",
      "\u001b[1mDelimiter:\u001b[22m \",\"\n",
      "\u001b[31mchr\u001b[39m (1): Text\n",
      "\u001b[32mdbl\u001b[39m (1): Labels\n",
      "\n",
      "\u001b[36mℹ\u001b[39m Use `spec()` to retrieve the full column specification for this data.\n",
      "\u001b[36mℹ\u001b[39m Specify the column types or set `show_col_types = FALSE` to quiet this message.\n",
      "\u001b[1mRows: \u001b[22m\u001b[34m937\u001b[39m \u001b[1mColumns: \u001b[22m\u001b[34m2\u001b[39m\n",
      "\u001b[36m──\u001b[39m \u001b[1mColumn specification\u001b[22m \u001b[36m────────────────────────────────────────────────────────\u001b[39m\n",
      "\u001b[1mDelimiter:\u001b[22m \",\"\n",
      "\u001b[31mchr\u001b[39m (1): Text\n",
      "\u001b[32mdbl\u001b[39m (1): Labels\n",
      "\n",
      "\u001b[36mℹ\u001b[39m Use `spec()` to retrieve the full column specification for this data.\n",
      "\u001b[36mℹ\u001b[39m Specify the column types or set `show_col_types = FALSE` to quiet this message.\n"
     ]
    }
   ],
   "source": [
    "training <- read_csv('data/training.csv')\n",
    "validation <- read_csv('data/validation.csv')\n",
    "test <- read_csv(\"data/test.csv\")"
   ]
  },
  {
   "cell_type": "code",
   "execution_count": 68,
   "id": "6dd920f5-b2cd-4fd3-b637-f50a229ae797",
   "metadata": {},
   "outputs": [
    {
     "data": {
      "text/html": [
       "<table class=\"dataframe\">\n",
       "<caption>A tibble: 5 × 2</caption>\n",
       "<thead>\n",
       "\t<tr><th scope=col>Labels</th><th scope=col>n</th></tr>\n",
       "\t<tr><th scope=col>&lt;dbl&gt;</th><th scope=col>&lt;int&gt;</th></tr>\n",
       "</thead>\n",
       "<tbody>\n",
       "\t<tr><td>0</td><td>3336</td></tr>\n",
       "\t<tr><td>1</td><td>3552</td></tr>\n",
       "\t<tr><td>2</td><td>3623</td></tr>\n",
       "\t<tr><td>3</td><td>3399</td></tr>\n",
       "\t<tr><td>5</td><td>3206</td></tr>\n",
       "</tbody>\n",
       "</table>\n"
      ],
      "text/latex": [
       "A tibble: 5 × 2\n",
       "\\begin{tabular}{ll}\n",
       " Labels & n\\\\\n",
       " <dbl> & <int>\\\\\n",
       "\\hline\n",
       "\t 0 & 3336\\\\\n",
       "\t 1 & 3552\\\\\n",
       "\t 2 & 3623\\\\\n",
       "\t 3 & 3399\\\\\n",
       "\t 5 & 3206\\\\\n",
       "\\end{tabular}\n"
      ],
      "text/markdown": [
       "\n",
       "A tibble: 5 × 2\n",
       "\n",
       "| Labels &lt;dbl&gt; | n &lt;int&gt; |\n",
       "|---|---|\n",
       "| 0 | 3336 |\n",
       "| 1 | 3552 |\n",
       "| 2 | 3623 |\n",
       "| 3 | 3399 |\n",
       "| 5 | 3206 |\n",
       "\n"
      ],
      "text/plain": [
       "  Labels n   \n",
       "1 0      3336\n",
       "2 1      3552\n",
       "3 2      3623\n",
       "4 3      3399\n",
       "5 5      3206"
      ]
     },
     "metadata": {},
     "output_type": "display_data"
    }
   ],
   "source": [
    "training |> tokenise() |> distinct(Labels, word) |> count(Labels)"
   ]
  },
  {
   "cell_type": "code",
   "execution_count": 69,
   "id": "e16419bd-9c53-429e-a305-4452f500c40d",
   "metadata": {
    "scrolled": true
   },
   "outputs": [
    {
     "name": "stdout",
     "output_type": "stream",
     "text": [
      "1 2 3 4 5 6 7 8 9 10 15 20 25 30 35 40 45 50 100 150 200 250 300 350 400 450 500 600 700 800 900 1000 1500 2000 2500 3000 "
     ]
    },
    {
     "data": {
      "text/html": [
       "<table class=\"dataframe\">\n",
       "<caption>A matrix: 36 × 3 of type dbl</caption>\n",
       "<tbody>\n",
       "\t<tr><td>3000</td><td>0.2511848</td><td>  0</td></tr>\n",
       "\t<tr><td> 250</td><td>0.2480253</td><td> 34</td></tr>\n",
       "\t<tr><td>1000</td><td>0.2464455</td><td>  3</td></tr>\n",
       "\t<tr><td> 200</td><td>0.2456556</td><td> 43</td></tr>\n",
       "\t<tr><td> 300</td><td>0.2440758</td><td> 21</td></tr>\n",
       "\t<tr><td> 900</td><td>0.2432859</td><td>  3</td></tr>\n",
       "\t<tr><td>1500</td><td>0.2424961</td><td>  1</td></tr>\n",
       "\t<tr><td> 800</td><td>0.2417062</td><td>  4</td></tr>\n",
       "\t<tr><td>2000</td><td>0.2409163</td><td>  1</td></tr>\n",
       "\t<tr><td>2500</td><td>0.2401264</td><td>  1</td></tr>\n",
       "\t<tr><td>   2</td><td>0.2385466</td><td>756</td></tr>\n",
       "\t<tr><td>   1</td><td>0.2377567</td><td>790</td></tr>\n",
       "\t<tr><td>   7</td><td>0.2377567</td><td>595</td></tr>\n",
       "\t<tr><td> 350</td><td>0.2377567</td><td> 11</td></tr>\n",
       "\t<tr><td> 700</td><td>0.2369668</td><td>  8</td></tr>\n",
       "\t<tr><td>   4</td><td>0.2361769</td><td>680</td></tr>\n",
       "\t<tr><td>   3</td><td>0.2353870</td><td>710</td></tr>\n",
       "\t<tr><td>  35</td><td>0.2353870</td><td>190</td></tr>\n",
       "\t<tr><td> 400</td><td>0.2345972</td><td> 10</td></tr>\n",
       "\t<tr><td> 450</td><td>0.2345972</td><td> 10</td></tr>\n",
       "\t<tr><td> 500</td><td>0.2345972</td><td> 10</td></tr>\n",
       "\t<tr><td> 600</td><td>0.2345972</td><td> 10</td></tr>\n",
       "\t<tr><td>  50</td><td>0.2338073</td><td>145</td></tr>\n",
       "\t<tr><td> 150</td><td>0.2330174</td><td> 57</td></tr>\n",
       "\t<tr><td>   6</td><td>0.2322275</td><td>647</td></tr>\n",
       "\t<tr><td>   5</td><td>0.2314376</td><td>676</td></tr>\n",
       "\t<tr><td>   8</td><td>0.2314376</td><td>552</td></tr>\n",
       "\t<tr><td>  45</td><td>0.2306477</td><td>155</td></tr>\n",
       "\t<tr><td> 100</td><td>0.2290679</td><td> 66</td></tr>\n",
       "\t<tr><td>  15</td><td>0.2282780</td><td>328</td></tr>\n",
       "\t<tr><td>  40</td><td>0.2282780</td><td>165</td></tr>\n",
       "\t<tr><td>  20</td><td>0.2251185</td><td>278</td></tr>\n",
       "\t<tr><td>  30</td><td>0.2243286</td><td>232</td></tr>\n",
       "\t<tr><td>  10</td><td>0.2227488</td><td>428</td></tr>\n",
       "\t<tr><td>  25</td><td>0.2211690</td><td>268</td></tr>\n",
       "\t<tr><td>   9</td><td>0.2187994</td><td>464</td></tr>\n",
       "</tbody>\n",
       "</table>\n"
      ],
      "text/latex": [
       "A matrix: 36 × 3 of type dbl\n",
       "\\begin{tabular}{lll}\n",
       "\t 3000 & 0.2511848 &   0\\\\\n",
       "\t  250 & 0.2480253 &  34\\\\\n",
       "\t 1000 & 0.2464455 &   3\\\\\n",
       "\t  200 & 0.2456556 &  43\\\\\n",
       "\t  300 & 0.2440758 &  21\\\\\n",
       "\t  900 & 0.2432859 &   3\\\\\n",
       "\t 1500 & 0.2424961 &   1\\\\\n",
       "\t  800 & 0.2417062 &   4\\\\\n",
       "\t 2000 & 0.2409163 &   1\\\\\n",
       "\t 2500 & 0.2401264 &   1\\\\\n",
       "\t    2 & 0.2385466 & 756\\\\\n",
       "\t    1 & 0.2377567 & 790\\\\\n",
       "\t    7 & 0.2377567 & 595\\\\\n",
       "\t  350 & 0.2377567 &  11\\\\\n",
       "\t  700 & 0.2369668 &   8\\\\\n",
       "\t    4 & 0.2361769 & 680\\\\\n",
       "\t    3 & 0.2353870 & 710\\\\\n",
       "\t   35 & 0.2353870 & 190\\\\\n",
       "\t  400 & 0.2345972 &  10\\\\\n",
       "\t  450 & 0.2345972 &  10\\\\\n",
       "\t  500 & 0.2345972 &  10\\\\\n",
       "\t  600 & 0.2345972 &  10\\\\\n",
       "\t   50 & 0.2338073 & 145\\\\\n",
       "\t  150 & 0.2330174 &  57\\\\\n",
       "\t    6 & 0.2322275 & 647\\\\\n",
       "\t    5 & 0.2314376 & 676\\\\\n",
       "\t    8 & 0.2314376 & 552\\\\\n",
       "\t   45 & 0.2306477 & 155\\\\\n",
       "\t  100 & 0.2290679 &  66\\\\\n",
       "\t   15 & 0.2282780 & 328\\\\\n",
       "\t   40 & 0.2282780 & 165\\\\\n",
       "\t   20 & 0.2251185 & 278\\\\\n",
       "\t   30 & 0.2243286 & 232\\\\\n",
       "\t   10 & 0.2227488 & 428\\\\\n",
       "\t   25 & 0.2211690 & 268\\\\\n",
       "\t    9 & 0.2187994 & 464\\\\\n",
       "\\end{tabular}\n"
      ],
      "text/markdown": [
       "\n",
       "A matrix: 36 × 3 of type dbl\n",
       "\n",
       "| 3000 | 0.2511848 |   0 |\n",
       "|  250 | 0.2480253 |  34 |\n",
       "| 1000 | 0.2464455 |   3 |\n",
       "|  200 | 0.2456556 |  43 |\n",
       "|  300 | 0.2440758 |  21 |\n",
       "|  900 | 0.2432859 |   3 |\n",
       "| 1500 | 0.2424961 |   1 |\n",
       "|  800 | 0.2417062 |   4 |\n",
       "| 2000 | 0.2409163 |   1 |\n",
       "| 2500 | 0.2401264 |   1 |\n",
       "|    2 | 0.2385466 | 756 |\n",
       "|    1 | 0.2377567 | 790 |\n",
       "|    7 | 0.2377567 | 595 |\n",
       "|  350 | 0.2377567 |  11 |\n",
       "|  700 | 0.2369668 |   8 |\n",
       "|    4 | 0.2361769 | 680 |\n",
       "|    3 | 0.2353870 | 710 |\n",
       "|   35 | 0.2353870 | 190 |\n",
       "|  400 | 0.2345972 |  10 |\n",
       "|  450 | 0.2345972 |  10 |\n",
       "|  500 | 0.2345972 |  10 |\n",
       "|  600 | 0.2345972 |  10 |\n",
       "|   50 | 0.2338073 | 145 |\n",
       "|  150 | 0.2330174 |  57 |\n",
       "|    6 | 0.2322275 | 647 |\n",
       "|    5 | 0.2314376 | 676 |\n",
       "|    8 | 0.2314376 | 552 |\n",
       "|   45 | 0.2306477 | 155 |\n",
       "|  100 | 0.2290679 |  66 |\n",
       "|   15 | 0.2282780 | 328 |\n",
       "|   40 | 0.2282780 | 165 |\n",
       "|   20 | 0.2251185 | 278 |\n",
       "|   30 | 0.2243286 | 232 |\n",
       "|   10 | 0.2227488 | 428 |\n",
       "|   25 | 0.2211690 | 268 |\n",
       "|    9 | 0.2187994 | 464 |\n",
       "\n"
      ],
      "text/plain": [
       "      [,1] [,2]      [,3]\n",
       " [1,] 3000 0.2511848   0 \n",
       " [2,]  250 0.2480253  34 \n",
       " [3,] 1000 0.2464455   3 \n",
       " [4,]  200 0.2456556  43 \n",
       " [5,]  300 0.2440758  21 \n",
       " [6,]  900 0.2432859   3 \n",
       " [7,] 1500 0.2424961   1 \n",
       " [8,]  800 0.2417062   4 \n",
       " [9,] 2000 0.2409163   1 \n",
       "[10,] 2500 0.2401264   1 \n",
       "[11,]    2 0.2385466 756 \n",
       "[12,]    1 0.2377567 790 \n",
       "[13,]    7 0.2377567 595 \n",
       "[14,]  350 0.2377567  11 \n",
       "[15,]  700 0.2369668   8 \n",
       "[16,]    4 0.2361769 680 \n",
       "[17,]    3 0.2353870 710 \n",
       "[18,]   35 0.2353870 190 \n",
       "[19,]  400 0.2345972  10 \n",
       "[20,]  450 0.2345972  10 \n",
       "[21,]  500 0.2345972  10 \n",
       "[22,]  600 0.2345972  10 \n",
       "[23,]   50 0.2338073 145 \n",
       "[24,]  150 0.2330174  57 \n",
       "[25,]    6 0.2322275 647 \n",
       "[26,]    5 0.2314376 676 \n",
       "[27,]    8 0.2314376 552 \n",
       "[28,]   45 0.2306477 155 \n",
       "[29,]  100 0.2290679  66 \n",
       "[30,]   15 0.2282780 328 \n",
       "[31,]   40 0.2282780 165 \n",
       "[32,]   20 0.2251185 278 \n",
       "[33,]   30 0.2243286 232 \n",
       "[34,]   10 0.2227488 428 \n",
       "[35,]   25 0.2211690 268 \n",
       "[36,]    9 0.2187994 464 "
      ]
     },
     "metadata": {},
     "output_type": "display_data"
    }
   ],
   "source": [
    "k <- c(1:10, seq.int(15, 50, by=5), seq.int(100, 500, by=50), seq.int(600, 1000, by=100), seq.int(1500, 3000, by=500))\n",
    "mat <- feature.search(training, validation, k)\n",
    "mat[order(desc(mat[,2])),]"
   ]
  },
  {
   "cell_type": "code",
   "execution_count": 70,
   "id": "b6902d93-bc0b-4896-955b-534fd0c33295",
   "metadata": {},
   "outputs": [
    {
     "data": {
      "text/html": [
       "0.251184834123223"
      ],
      "text/latex": [
       "0.251184834123223"
      ],
      "text/markdown": [
       "0.251184834123223"
      ],
      "text/plain": [
       "[1] 0.2511848"
      ]
     },
     "metadata": {},
     "output_type": "display_data"
    }
   ],
   "source": [
    "# Validation for k=0\n",
    "(train.n.apply(training, validation) |> filter(Labels==Labels.y) |> nrow()) / nrow(validation)"
   ]
  },
  {
   "cell_type": "markdown",
   "id": "d5a8496c-b31d-461e-a789-3064b19400e8",
   "metadata": {},
   "source": [
    "## Testing and results"
   ]
  },
  {
   "cell_type": "code",
   "execution_count": 71,
   "id": "13c8695e-64e6-402b-af23-c7dec01f165a",
   "metadata": {},
   "outputs": [],
   "source": [
    "result <- train.n.apply(training, test)"
   ]
  },
  {
   "cell_type": "code",
   "execution_count": 72,
   "id": "ea930d76-7d61-40e2-8dbc-bd7e3e3c490c",
   "metadata": {},
   "outputs": [
    {
     "data": {
      "text/html": [
       "0.24119530416222"
      ],
      "text/latex": [
       "0.24119530416222"
      ],
      "text/markdown": [
       "0.24119530416222"
      ],
      "text/plain": [
       "[1] 0.2411953"
      ]
     },
     "metadata": {},
     "output_type": "display_data"
    }
   ],
   "source": [
    "(result |> filter(Labels==Labels.y) |> nrow()) / nrow(test)"
   ]
  },
  {
   "cell_type": "code",
   "execution_count": 73,
   "id": "8578a117-77e2-444f-a50b-888aa03cdf97",
   "metadata": {},
   "outputs": [
    {
     "data": {
      "text/html": [
       "<table class=\"dataframe\">\n",
       "<caption>A data.frame: 5 × 5</caption>\n",
       "<thead>\n",
       "\t<tr><th></th><th scope=col>0</th><th scope=col>1</th><th scope=col>2</th><th scope=col>3</th><th scope=col>5</th></tr>\n",
       "\t<tr><th></th><th scope=col>&lt;int&gt;</th><th scope=col>&lt;int&gt;</th><th scope=col>&lt;int&gt;</th><th scope=col>&lt;int&gt;</th><th scope=col>&lt;int&gt;</th></tr>\n",
       "</thead>\n",
       "<tbody>\n",
       "\t<tr><th scope=row>0</th><td>30</td><td>34</td><td>58</td><td>30</td><td>14</td></tr>\n",
       "\t<tr><th scope=row>1</th><td>30</td><td>41</td><td>53</td><td>44</td><td>16</td></tr>\n",
       "\t<tr><th scope=row>2</th><td>30</td><td>36</td><td>78</td><td>43</td><td>18</td></tr>\n",
       "\t<tr><th scope=row>3</th><td>21</td><td>37</td><td>72</td><td>53</td><td>37</td></tr>\n",
       "\t<tr><th scope=row>5</th><td> 9</td><td>38</td><td>47</td><td>44</td><td>24</td></tr>\n",
       "</tbody>\n",
       "</table>\n"
      ],
      "text/latex": [
       "A data.frame: 5 × 5\n",
       "\\begin{tabular}{r|lllll}\n",
       "  & 0 & 1 & 2 & 3 & 5\\\\\n",
       "  & <int> & <int> & <int> & <int> & <int>\\\\\n",
       "\\hline\n",
       "\t0 & 30 & 34 & 58 & 30 & 14\\\\\n",
       "\t1 & 30 & 41 & 53 & 44 & 16\\\\\n",
       "\t2 & 30 & 36 & 78 & 43 & 18\\\\\n",
       "\t3 & 21 & 37 & 72 & 53 & 37\\\\\n",
       "\t5 &  9 & 38 & 47 & 44 & 24\\\\\n",
       "\\end{tabular}\n"
      ],
      "text/markdown": [
       "\n",
       "A data.frame: 5 × 5\n",
       "\n",
       "| <!--/--> | 0 &lt;int&gt; | 1 &lt;int&gt; | 2 &lt;int&gt; | 3 &lt;int&gt; | 5 &lt;int&gt; |\n",
       "|---|---|---|---|---|---|\n",
       "| 0 | 30 | 34 | 58 | 30 | 14 |\n",
       "| 1 | 30 | 41 | 53 | 44 | 16 |\n",
       "| 2 | 30 | 36 | 78 | 43 | 18 |\n",
       "| 3 | 21 | 37 | 72 | 53 | 37 |\n",
       "| 5 |  9 | 38 | 47 | 44 | 24 |\n",
       "\n"
      ],
      "text/plain": [
       "  0  1  2  3  5 \n",
       "0 30 34 58 30 14\n",
       "1 30 41 53 44 16\n",
       "2 30 36 78 43 18\n",
       "3 21 37 72 53 37\n",
       "5  9 38 47 44 24"
      ]
     },
     "metadata": {},
     "output_type": "display_data"
    }
   ],
   "source": [
    "# Confusion Matrix (rows are true labels)\n",
    "result |> count(Labels, Labels.y) |> pivot_wider(names_from=Labels.y, values_from=n) |> column_to_rownames(\"Labels\") "
   ]
  },
  {
   "cell_type": "markdown",
   "id": "df174386-8e4f-434d-bf7c-7331dddc0829",
   "metadata": {},
   "source": [
    "- True - 5\n",
    "- Mostly-True - 3\n",
    "- Half-True - 2\n",
    "- False - 1\n",
    "- Barely-True - 0"
   ]
  },
  {
   "cell_type": "markdown",
   "id": "87e7a474-56a5-4b58-ad28-1712650db481",
   "metadata": {},
   "source": [
    "### Plot"
   ]
  },
  {
   "cell_type": "code",
   "execution_count": 74,
   "id": "17a8d533-0ae6-488b-9f6f-332a0c1dd0da",
   "metadata": {},
   "outputs": [],
   "source": [
    "k0 <- (train.n.apply(training, validation) |> filter(Labels==Labels.y) |> nrow()) / nrow(validation)"
   ]
  },
  {
   "cell_type": "code",
   "execution_count": 77,
   "id": "1ac2d144-5723-4b41-9627-2fd496abcf08",
   "metadata": {},
   "outputs": [
    {
     "data": {
      "image/png": "[encoded data removed]",
      "text/plain": [
       "Plot with title “Validation Score”"
      ]
     },
     "metadata": {
      "image/png": {
       "height": 700,
       "width": 700
      }
     },
     "output_type": "display_data"
    }
   ],
   "source": [
    "# png(file=\"multiclass_validation.png\", width=800, height=800, pointsize=20)\n",
    "# options(repr.plot.res=1000)  # for presentation\n",
    "options(repr.plot.res=200)\n",
    "par(mar=c(5,5,4,1)+.1)\n",
    "plot(mat[,1], mat[,2], main=\"Validation Score\", xlab=\"Number of selected features\", ylab=\"Score\", log=\"x\", pch=20, cex.main=2.5, cex.lab=2, cex.axis=1.5, cex=2)\n",
    "grid()\n",
    "par(new=T, mar=c(5,5,4,1)+.1)\n",
    "plot(mat[,1], mat[,2], main=\"Validation Score\", xlab=\"Number of selected features\", ylab=\"Score\", log=\"x\", pch=20, cex.main=2.5, cex.lab=2, cex.axis=1.5, cex=2)\n",
    "abline(h=k0)\n",
    "legend(\"bottomright\", c(\"Mutual Information\", \"No Feature Selection\"), lty=c(NA, 1), pch=c(20, NA), cex=1.5)\n",
    "# dev.off()"
   ]
  },
  {
   "cell_type": "markdown",
   "id": "5595d345-932c-4624-b82f-118b58908751",
   "metadata": {},
   "source": [
    "---"
   ]
  },
  {
   "cell_type": "markdown",
   "id": "83414336-22fd-4854-92e1-e7545b14592c",
   "metadata": {},
   "source": [
    "# [Binary Dataset](https://www.kaggle.com/datasets/saurabhshahane/fake-news-classification)\n",
    "- 0 - True\n",
    "- 1 - Fake"
   ]
  },
  {
   "cell_type": "markdown",
   "id": "6d7832ad-008f-420a-9c58-538f523cc6fd",
   "metadata": {},
   "source": [
    "## Preprocessing"
   ]
  },
  {
   "cell_type": "code",
   "execution_count": 5,
   "id": "f1fd9b45-333d-4388-9fa4-4e45cefd0821",
   "metadata": {},
   "outputs": [],
   "source": [
    "data <- read.csv('data2/WELFake_Dataset.csv') |> select(Text=text, Labels=label)"
   ]
  },
  {
   "cell_type": "code",
   "execution_count": 57,
   "id": "544c147a-7a35-4d07-a17e-23644d68c907",
   "metadata": {},
   "outputs": [
    {
     "data": {
      "text/html": [
       "0"
      ],
      "text/latex": [
       "0"
      ],
      "text/markdown": [
       "0"
      ],
      "text/plain": [
       "[1] 0"
      ]
     },
     "metadata": {},
     "output_type": "display_data"
    }
   ],
   "source": [
    "sum(is.na(data))"
   ]
  },
  {
   "cell_type": "code",
   "execution_count": 12,
   "id": "29917a0c-598b-46d4-8690-a835a0b8b010",
   "metadata": {},
   "outputs": [
    {
     "data": {
      "text/html": [
       "<table class=\"dataframe\">\n",
       "<caption>A data.frame: 2 × 2</caption>\n",
       "<thead>\n",
       "\t<tr><th scope=col>Labels</th><th scope=col>n</th></tr>\n",
       "\t<tr><th scope=col>&lt;int&gt;</th><th scope=col>&lt;int&gt;</th></tr>\n",
       "</thead>\n",
       "<tbody>\n",
       "\t<tr><td>0</td><td>35028</td></tr>\n",
       "\t<tr><td>1</td><td>37106</td></tr>\n",
       "</tbody>\n",
       "</table>\n"
      ],
      "text/latex": [
       "A data.frame: 2 × 2\n",
       "\\begin{tabular}{ll}\n",
       " Labels & n\\\\\n",
       " <int> & <int>\\\\\n",
       "\\hline\n",
       "\t 0 & 35028\\\\\n",
       "\t 1 & 37106\\\\\n",
       "\\end{tabular}\n"
      ],
      "text/markdown": [
       "\n",
       "A data.frame: 2 × 2\n",
       "\n",
       "| Labels &lt;int&gt; | n &lt;int&gt; |\n",
       "|---|---|\n",
       "| 0 | 35028 |\n",
       "| 1 | 37106 |\n",
       "\n"
      ],
      "text/plain": [
       "  Labels n    \n",
       "1 0      35028\n",
       "2 1      37106"
      ]
     },
     "metadata": {},
     "output_type": "display_data"
    }
   ],
   "source": [
    "data |> count(Labels)"
   ]
  },
  {
   "cell_type": "code",
   "execution_count": 27,
   "id": "af0634cd-f0e5-4360-9be2-01a0ce997abf",
   "metadata": {},
   "outputs": [
    {
     "data": {
      "text/html": [
       "72134"
      ],
      "text/latex": [
       "72134"
      ],
      "text/markdown": [
       "72134"
      ],
      "text/plain": [
       "[1] 72134"
      ]
     },
     "metadata": {},
     "output_type": "display_data"
    },
    {
     "data": {
      "text/html": [
       "62720"
      ],
      "text/latex": [
       "62720"
      ],
      "text/markdown": [
       "62720"
      ],
      "text/plain": [
       "[1] 62720"
      ]
     },
     "metadata": {},
     "output_type": "display_data"
    }
   ],
   "source": [
    "data |> nrow()\n",
    "data |> distinct() |> nrow()"
   ]
  },
  {
   "cell_type": "code",
   "execution_count": 58,
   "id": "cd3e959e-9dfb-47bc-97cf-14cd5c65785d",
   "metadata": {
    "vscode": {
     "languageId": "r"
    }
   },
   "outputs": [
    {
     "data": {
      "text/html": [
       "62720"
      ],
      "text/latex": [
       "62720"
      ],
      "text/markdown": [
       "62720"
      ],
      "text/plain": [
       "[1] 62720"
      ]
     },
     "metadata": {},
     "output_type": "display_data"
    }
   ],
   "source": [
    "data <- data |> distinct()  # drop row duplicates (equal labels & Text)\n",
    "nrow(data)"
   ]
  },
  {
   "cell_type": "code",
   "execution_count": 59,
   "id": "5802077a-185b-4f1d-a8c9-2dfc0c3cae91",
   "metadata": {},
   "outputs": [
    {
     "data": {
      "text/html": [
       "<table class=\"dataframe\">\n",
       "<caption>A data.frame: 2 × 2</caption>\n",
       "<thead>\n",
       "\t<tr><th scope=col>Labels</th><th scope=col>n</th></tr>\n",
       "\t<tr><th scope=col>&lt;int&gt;</th><th scope=col>&lt;int&gt;</th></tr>\n",
       "</thead>\n",
       "<tbody>\n",
       "\t<tr><td>0</td><td>34621</td></tr>\n",
       "\t<tr><td>1</td><td>28099</td></tr>\n",
       "</tbody>\n",
       "</table>\n"
      ],
      "text/latex": [
       "A data.frame: 2 × 2\n",
       "\\begin{tabular}{ll}\n",
       " Labels & n\\\\\n",
       " <int> & <int>\\\\\n",
       "\\hline\n",
       "\t 0 & 34621\\\\\n",
       "\t 1 & 28099\\\\\n",
       "\\end{tabular}\n"
      ],
      "text/markdown": [
       "\n",
       "A data.frame: 2 × 2\n",
       "\n",
       "| Labels &lt;int&gt; | n &lt;int&gt; |\n",
       "|---|---|\n",
       "| 0 | 34621 |\n",
       "| 1 | 28099 |\n",
       "\n"
      ],
      "text/plain": [
       "  Labels n    \n",
       "1 0      34621\n",
       "2 1      28099"
      ]
     },
     "metadata": {},
     "output_type": "display_data"
    }
   ],
   "source": [
    "data |> count(Labels)"
   ]
  },
  {
   "cell_type": "code",
   "execution_count": 29,
   "id": "aca34feb-0d7f-43a7-ab23-486cde78d481",
   "metadata": {},
   "outputs": [
    {
     "data": {
      "text/html": [
       "' '"
      ],
      "text/latex": [
       "' '"
      ],
      "text/markdown": [
       "' '"
      ],
      "text/plain": [
       "[1] \" \""
      ]
     },
     "metadata": {},
     "output_type": "display_data"
    }
   ],
   "source": [
    "data[duplicated(data$Text),]$Text"
   ]
  },
  {
   "cell_type": "raw",
   "id": "97eab19e-da60-478e-93b6-1633fb296035",
   "metadata": {
    "vscode": {
     "languageId": "r"
    }
   },
   "source": [
    "# Separating the sets\n",
    "test <- slice_sample(data, prop=.10)\n",
    "new_data <- setdiff(data, test)\n",
    "validation <- slice_sample(new_data, prop=.15)\n",
    "training <- setdiff(new_data, validation)\n",
    "\n",
    "dfs <- list(test=test, validation=validation, training=training)\n",
    "for (name in names(dfs)) write_csv(dfs[[name]], paste0('data2/', name, '.csv'))"
   ]
  },
  {
   "cell_type": "markdown",
   "id": "2521b708-624d-4cec-92f4-2dc8d718c40f",
   "metadata": {},
   "source": [
    "## Training"
   ]
  },
  {
   "cell_type": "code",
   "execution_count": 84,
   "id": "5d9f066b-6eaa-483f-a2b5-7ed630b623d5",
   "metadata": {},
   "outputs": [
    {
     "name": "stderr",
     "output_type": "stream",
     "text": [
      "\u001b[1mRows: \u001b[22m\u001b[34m47981\u001b[39m \u001b[1mColumns: \u001b[22m\u001b[34m2\u001b[39m\n",
      "\u001b[36m──\u001b[39m \u001b[1mColumn specification\u001b[22m \u001b[36m────────────────────────────────────────────────────────\u001b[39m\n",
      "\u001b[1mDelimiter:\u001b[22m \",\"\n",
      "\u001b[31mchr\u001b[39m (1): Text\n",
      "\u001b[32mdbl\u001b[39m (1): Labels\n",
      "\n",
      "\u001b[36mℹ\u001b[39m Use `spec()` to retrieve the full column specification for this data.\n",
      "\u001b[36mℹ\u001b[39m Specify the column types or set `show_col_types = FALSE` to quiet this message.\n",
      "\u001b[1mRows: \u001b[22m\u001b[34m8467\u001b[39m \u001b[1mColumns: \u001b[22m\u001b[34m2\u001b[39m\n",
      "\u001b[36m──\u001b[39m \u001b[1mColumn specification\u001b[22m \u001b[36m────────────────────────────────────────────────────────\u001b[39m\n",
      "\u001b[1mDelimiter:\u001b[22m \",\"\n",
      "\u001b[31mchr\u001b[39m (1): Text\n",
      "\u001b[32mdbl\u001b[39m (1): Labels\n",
      "\n",
      "\u001b[36mℹ\u001b[39m Use `spec()` to retrieve the full column specification for this data.\n",
      "\u001b[36mℹ\u001b[39m Specify the column types or set `show_col_types = FALSE` to quiet this message.\n",
      "\u001b[1mRows: \u001b[22m\u001b[34m6272\u001b[39m \u001b[1mColumns: \u001b[22m\u001b[34m2\u001b[39m\n",
      "\u001b[36m──\u001b[39m \u001b[1mColumn specification\u001b[22m \u001b[36m────────────────────────────────────────────────────────\u001b[39m\n",
      "\u001b[1mDelimiter:\u001b[22m \",\"\n",
      "\u001b[31mchr\u001b[39m (1): Text\n",
      "\u001b[32mdbl\u001b[39m (1): Labels\n",
      "\n",
      "\u001b[36mℹ\u001b[39m Use `spec()` to retrieve the full column specification for this data.\n",
      "\u001b[36mℹ\u001b[39m Specify the column types or set `show_col_types = FALSE` to quiet this message.\n"
     ]
    }
   ],
   "source": [
    "training <- read_csv('data2/training.csv')\n",
    "validation <- read_csv('data2/validation.csv')\n",
    "test <- read_csv('data2/test.csv')"
   ]
  },
  {
   "cell_type": "code",
   "execution_count": 41,
   "id": "77c4e206-f81e-4af1-8b75-39037c55ec1c",
   "metadata": {},
   "outputs": [
    {
     "data": {
      "text/html": [
       "<table class=\"dataframe\">\n",
       "<caption>A tibble: 2 × 2</caption>\n",
       "<thead>\n",
       "\t<tr><th scope=col>Labels</th><th scope=col>n</th></tr>\n",
       "\t<tr><th scope=col>&lt;dbl&gt;</th><th scope=col>&lt;int&gt;</th></tr>\n",
       "</thead>\n",
       "<tbody>\n",
       "\t<tr><td>0</td><td>109728</td></tr>\n",
       "\t<tr><td>1</td><td>223206</td></tr>\n",
       "</tbody>\n",
       "</table>\n"
      ],
      "text/latex": [
       "A tibble: 2 × 2\n",
       "\\begin{tabular}{ll}\n",
       " Labels & n\\\\\n",
       " <dbl> & <int>\\\\\n",
       "\\hline\n",
       "\t 0 & 109728\\\\\n",
       "\t 1 & 223206\\\\\n",
       "\\end{tabular}\n"
      ],
      "text/markdown": [
       "\n",
       "A tibble: 2 × 2\n",
       "\n",
       "| Labels &lt;dbl&gt; | n &lt;int&gt; |\n",
       "|---|---|\n",
       "| 0 | 109728 |\n",
       "| 1 | 223206 |\n",
       "\n"
      ],
      "text/plain": [
       "  Labels n     \n",
       "1 0      109728\n",
       "2 1      223206"
      ]
     },
     "metadata": {},
     "output_type": "display_data"
    }
   ],
   "source": [
    "training |> tokenise() |> distinct(Labels, word) |> count(Labels)"
   ]
  },
  {
   "cell_type": "code",
   "execution_count": 59,
   "id": "0ac879e4-43d7-4bec-8a3b-57f0989a3614",
   "metadata": {
    "scrolled": true
   },
   "outputs": [
    {
     "name": "stdout",
     "output_type": "stream",
     "text": [
      "5 10 15 20 25 30 35 40 45 50 100 150 200 250 300 350 400 450 500 600 700 800 900 1000 1500 2000 2500 3000 3500 4000 4500 5000 5500 6000 6500 7000 7500 8000 8500 9000 9500 10000 20000 30000 40000 50000 60000 70000 80000 90000 1e+05 "
     ]
    },
    {
     "data": {
      "text/html": [
       "<table class=\"dataframe\">\n",
       "<caption>A matrix: 51 × 3 of type dbl</caption>\n",
       "<tbody>\n",
       "\t<tr><td> 50000</td><td>0.9007913</td><td>   2</td></tr>\n",
       "\t<tr><td> 60000</td><td>0.9007913</td><td>   2</td></tr>\n",
       "\t<tr><td> 70000</td><td>0.9007913</td><td>   2</td></tr>\n",
       "\t<tr><td> 80000</td><td>0.9007913</td><td>   2</td></tr>\n",
       "\t<tr><td> 90000</td><td>0.9007913</td><td>   2</td></tr>\n",
       "\t<tr><td>100000</td><td>0.9007913</td><td>   2</td></tr>\n",
       "\t<tr><td> 40000</td><td>0.8933507</td><td>   8</td></tr>\n",
       "\t<tr><td> 30000</td><td>0.8932325</td><td>  10</td></tr>\n",
       "\t<tr><td> 20000</td><td>0.8931144</td><td>  10</td></tr>\n",
       "\t<tr><td> 10000</td><td>0.8927601</td><td>  13</td></tr>\n",
       "\t<tr><td>  9500</td><td>0.8925239</td><td>  13</td></tr>\n",
       "\t<tr><td>  8500</td><td>0.8921696</td><td>  13</td></tr>\n",
       "\t<tr><td>  8000</td><td>0.8920515</td><td>  14</td></tr>\n",
       "\t<tr><td>  5000</td><td>0.8919334</td><td>  14</td></tr>\n",
       "\t<tr><td>  7500</td><td>0.8918153</td><td>  14</td></tr>\n",
       "\t<tr><td>  6000</td><td>0.8912248</td><td>  14</td></tr>\n",
       "\t<tr><td>  9000</td><td>0.8911066</td><td>  13</td></tr>\n",
       "\t<tr><td>  7000</td><td>0.8909885</td><td>  14</td></tr>\n",
       "\t<tr><td>  5500</td><td>0.8903980</td><td>  14</td></tr>\n",
       "\t<tr><td>  6500</td><td>0.8901618</td><td>  14</td></tr>\n",
       "\t<tr><td>  3500</td><td>0.8896894</td><td>  15</td></tr>\n",
       "\t<tr><td>  4500</td><td>0.8890989</td><td>  15</td></tr>\n",
       "\t<tr><td>  4000</td><td>0.8888626</td><td>  15</td></tr>\n",
       "\t<tr><td>  3000</td><td>0.8885083</td><td>  17</td></tr>\n",
       "\t<tr><td>  2500</td><td>0.8860281</td><td>  18</td></tr>\n",
       "\t<tr><td>  2000</td><td>0.8839022</td><td>  20</td></tr>\n",
       "\t<tr><td>  1500</td><td>0.8822487</td><td>  22</td></tr>\n",
       "\t<tr><td>  1000</td><td>0.8784694</td><td>  31</td></tr>\n",
       "\t<tr><td>   900</td><td>0.8779969</td><td>  35</td></tr>\n",
       "\t<tr><td>   800</td><td>0.8740994</td><td>  39</td></tr>\n",
       "\t<tr><td>   500</td><td>0.8723279</td><td>  71</td></tr>\n",
       "\t<tr><td>   600</td><td>0.8699657</td><td>  63</td></tr>\n",
       "\t<tr><td>   700</td><td>0.8699657</td><td>  60</td></tr>\n",
       "\t<tr><td>   450</td><td>0.8697295</td><td>  73</td></tr>\n",
       "\t<tr><td>   350</td><td>0.8655958</td><td>  85</td></tr>\n",
       "\t<tr><td>   400</td><td>0.8651234</td><td>  79</td></tr>\n",
       "\t<tr><td>   300</td><td>0.8645329</td><td>  95</td></tr>\n",
       "\t<tr><td>   250</td><td>0.8626432</td><td>  98</td></tr>\n",
       "\t<tr><td>   200</td><td>0.8600449</td><td> 106</td></tr>\n",
       "\t<tr><td>   150</td><td>0.8501240</td><td> 138</td></tr>\n",
       "\t<tr><td>   100</td><td>0.8411480</td><td> 163</td></tr>\n",
       "\t<tr><td>    50</td><td>0.8267391</td><td> 260</td></tr>\n",
       "\t<tr><td>    45</td><td>0.8210700</td><td> 269</td></tr>\n",
       "\t<tr><td>    40</td><td>0.8159915</td><td> 295</td></tr>\n",
       "\t<tr><td>    30</td><td>0.8157553</td><td> 338</td></tr>\n",
       "\t<tr><td>    35</td><td>0.8152829</td><td> 324</td></tr>\n",
       "\t<tr><td>    25</td><td>0.7959135</td><td> 467</td></tr>\n",
       "\t<tr><td>    20</td><td>0.7798512</td><td> 605</td></tr>\n",
       "\t<tr><td>    15</td><td>0.7786701</td><td> 797</td></tr>\n",
       "\t<tr><td>    10</td><td>0.7706390</td><td> 886</td></tr>\n",
       "\t<tr><td>     5</td><td>0.7513877</td><td>1046</td></tr>\n",
       "</tbody>\n",
       "</table>\n"
      ],
      "text/latex": [
       "A matrix: 51 × 3 of type dbl\n",
       "\\begin{tabular}{lll}\n",
       "\t  50000 & 0.9007913 &    2\\\\\n",
       "\t  60000 & 0.9007913 &    2\\\\\n",
       "\t  70000 & 0.9007913 &    2\\\\\n",
       "\t  80000 & 0.9007913 &    2\\\\\n",
       "\t  90000 & 0.9007913 &    2\\\\\n",
       "\t 100000 & 0.9007913 &    2\\\\\n",
       "\t  40000 & 0.8933507 &    8\\\\\n",
       "\t  30000 & 0.8932325 &   10\\\\\n",
       "\t  20000 & 0.8931144 &   10\\\\\n",
       "\t  10000 & 0.8927601 &   13\\\\\n",
       "\t   9500 & 0.8925239 &   13\\\\\n",
       "\t   8500 & 0.8921696 &   13\\\\\n",
       "\t   8000 & 0.8920515 &   14\\\\\n",
       "\t   5000 & 0.8919334 &   14\\\\\n",
       "\t   7500 & 0.8918153 &   14\\\\\n",
       "\t   6000 & 0.8912248 &   14\\\\\n",
       "\t   9000 & 0.8911066 &   13\\\\\n",
       "\t   7000 & 0.8909885 &   14\\\\\n",
       "\t   5500 & 0.8903980 &   14\\\\\n",
       "\t   6500 & 0.8901618 &   14\\\\\n",
       "\t   3500 & 0.8896894 &   15\\\\\n",
       "\t   4500 & 0.8890989 &   15\\\\\n",
       "\t   4000 & 0.8888626 &   15\\\\\n",
       "\t   3000 & 0.8885083 &   17\\\\\n",
       "\t   2500 & 0.8860281 &   18\\\\\n",
       "\t   2000 & 0.8839022 &   20\\\\\n",
       "\t   1500 & 0.8822487 &   22\\\\\n",
       "\t   1000 & 0.8784694 &   31\\\\\n",
       "\t    900 & 0.8779969 &   35\\\\\n",
       "\t    800 & 0.8740994 &   39\\\\\n",
       "\t    500 & 0.8723279 &   71\\\\\n",
       "\t    600 & 0.8699657 &   63\\\\\n",
       "\t    700 & 0.8699657 &   60\\\\\n",
       "\t    450 & 0.8697295 &   73\\\\\n",
       "\t    350 & 0.8655958 &   85\\\\\n",
       "\t    400 & 0.8651234 &   79\\\\\n",
       "\t    300 & 0.8645329 &   95\\\\\n",
       "\t    250 & 0.8626432 &   98\\\\\n",
       "\t    200 & 0.8600449 &  106\\\\\n",
       "\t    150 & 0.8501240 &  138\\\\\n",
       "\t    100 & 0.8411480 &  163\\\\\n",
       "\t     50 & 0.8267391 &  260\\\\\n",
       "\t     45 & 0.8210700 &  269\\\\\n",
       "\t     40 & 0.8159915 &  295\\\\\n",
       "\t     30 & 0.8157553 &  338\\\\\n",
       "\t     35 & 0.8152829 &  324\\\\\n",
       "\t     25 & 0.7959135 &  467\\\\\n",
       "\t     20 & 0.7798512 &  605\\\\\n",
       "\t     15 & 0.7786701 &  797\\\\\n",
       "\t     10 & 0.7706390 &  886\\\\\n",
       "\t      5 & 0.7513877 & 1046\\\\\n",
       "\\end{tabular}\n"
      ],
      "text/markdown": [
       "\n",
       "A matrix: 51 × 3 of type dbl\n",
       "\n",
       "|  50000 | 0.9007913 |    2 |\n",
       "|  60000 | 0.9007913 |    2 |\n",
       "|  70000 | 0.9007913 |    2 |\n",
       "|  80000 | 0.9007913 |    2 |\n",
       "|  90000 | 0.9007913 |    2 |\n",
       "| 100000 | 0.9007913 |    2 |\n",
       "|  40000 | 0.8933507 |    8 |\n",
       "|  30000 | 0.8932325 |   10 |\n",
       "|  20000 | 0.8931144 |   10 |\n",
       "|  10000 | 0.8927601 |   13 |\n",
       "|   9500 | 0.8925239 |   13 |\n",
       "|   8500 | 0.8921696 |   13 |\n",
       "|   8000 | 0.8920515 |   14 |\n",
       "|   5000 | 0.8919334 |   14 |\n",
       "|   7500 | 0.8918153 |   14 |\n",
       "|   6000 | 0.8912248 |   14 |\n",
       "|   9000 | 0.8911066 |   13 |\n",
       "|   7000 | 0.8909885 |   14 |\n",
       "|   5500 | 0.8903980 |   14 |\n",
       "|   6500 | 0.8901618 |   14 |\n",
       "|   3500 | 0.8896894 |   15 |\n",
       "|   4500 | 0.8890989 |   15 |\n",
       "|   4000 | 0.8888626 |   15 |\n",
       "|   3000 | 0.8885083 |   17 |\n",
       "|   2500 | 0.8860281 |   18 |\n",
       "|   2000 | 0.8839022 |   20 |\n",
       "|   1500 | 0.8822487 |   22 |\n",
       "|   1000 | 0.8784694 |   31 |\n",
       "|    900 | 0.8779969 |   35 |\n",
       "|    800 | 0.8740994 |   39 |\n",
       "|    500 | 0.8723279 |   71 |\n",
       "|    600 | 0.8699657 |   63 |\n",
       "|    700 | 0.8699657 |   60 |\n",
       "|    450 | 0.8697295 |   73 |\n",
       "|    350 | 0.8655958 |   85 |\n",
       "|    400 | 0.8651234 |   79 |\n",
       "|    300 | 0.8645329 |   95 |\n",
       "|    250 | 0.8626432 |   98 |\n",
       "|    200 | 0.8600449 |  106 |\n",
       "|    150 | 0.8501240 |  138 |\n",
       "|    100 | 0.8411480 |  163 |\n",
       "|     50 | 0.8267391 |  260 |\n",
       "|     45 | 0.8210700 |  269 |\n",
       "|     40 | 0.8159915 |  295 |\n",
       "|     30 | 0.8157553 |  338 |\n",
       "|     35 | 0.8152829 |  324 |\n",
       "|     25 | 0.7959135 |  467 |\n",
       "|     20 | 0.7798512 |  605 |\n",
       "|     15 | 0.7786701 |  797 |\n",
       "|     10 | 0.7706390 |  886 |\n",
       "|      5 | 0.7513877 | 1046 |\n",
       "\n"
      ],
      "text/plain": [
       "      [,1]   [,2]      [,3]\n",
       " [1,]  50000 0.9007913    2\n",
       " [2,]  60000 0.9007913    2\n",
       " [3,]  70000 0.9007913    2\n",
       " [4,]  80000 0.9007913    2\n",
       " [5,]  90000 0.9007913    2\n",
       " [6,] 100000 0.9007913    2\n",
       " [7,]  40000 0.8933507    8\n",
       " [8,]  30000 0.8932325   10\n",
       " [9,]  20000 0.8931144   10\n",
       "[10,]  10000 0.8927601   13\n",
       "[11,]   9500 0.8925239   13\n",
       "[12,]   8500 0.8921696   13\n",
       "[13,]   8000 0.8920515   14\n",
       "[14,]   5000 0.8919334   14\n",
       "[15,]   7500 0.8918153   14\n",
       "[16,]   6000 0.8912248   14\n",
       "[17,]   9000 0.8911066   13\n",
       "[18,]   7000 0.8909885   14\n",
       "[19,]   5500 0.8903980   14\n",
       "[20,]   6500 0.8901618   14\n",
       "[21,]   3500 0.8896894   15\n",
       "[22,]   4500 0.8890989   15\n",
       "[23,]   4000 0.8888626   15\n",
       "[24,]   3000 0.8885083   17\n",
       "[25,]   2500 0.8860281   18\n",
       "[26,]   2000 0.8839022   20\n",
       "[27,]   1500 0.8822487   22\n",
       "[28,]   1000 0.8784694   31\n",
       "[29,]    900 0.8779969   35\n",
       "[30,]    800 0.8740994   39\n",
       "[31,]    500 0.8723279   71\n",
       "[32,]    600 0.8699657   63\n",
       "[33,]    700 0.8699657   60\n",
       "[34,]    450 0.8697295   73\n",
       "[35,]    350 0.8655958   85\n",
       "[36,]    400 0.8651234   79\n",
       "[37,]    300 0.8645329   95\n",
       "[38,]    250 0.8626432   98\n",
       "[39,]    200 0.8600449  106\n",
       "[40,]    150 0.8501240  138\n",
       "[41,]    100 0.8411480  163\n",
       "[42,]     50 0.8267391  260\n",
       "[43,]     45 0.8210700  269\n",
       "[44,]     40 0.8159915  295\n",
       "[45,]     30 0.8157553  338\n",
       "[46,]     35 0.8152829  324\n",
       "[47,]     25 0.7959135  467\n",
       "[48,]     20 0.7798512  605\n",
       "[49,]     15 0.7786701  797\n",
       "[50,]     10 0.7706390  886\n",
       "[51,]      5 0.7513877 1046"
      ]
     },
     "metadata": {},
     "output_type": "display_data"
    }
   ],
   "source": [
    "k <- c(seq.int(5, 50, by=5), seq.int(100, 500, by=50), seq.int(600, 1000, by=100), seq.int(1500, 10e3L, by=500), seq.int(20e3L, 1e5L, by=10e3L))\n",
    "mat2 <- feature.search(training, validation, k)\n",
    "mat2[order(desc(mat2[,2])),]"
   ]
  },
  {
   "cell_type": "code",
   "execution_count": 39,
   "id": "822bb33d-84b0-464e-89dc-f043275d4988",
   "metadata": {},
   "outputs": [
    {
     "name": "stdout",
     "output_type": "stream",
     "text": [
      "0 "
     ]
    },
    {
     "data": {
      "text/html": [
       "<table class=\"dataframe\">\n",
       "<caption>A matrix: 1 × 3 of type dbl</caption>\n",
       "<tbody>\n",
       "\t<tr><td>0</td><td>0.9007913</td><td>2</td></tr>\n",
       "</tbody>\n",
       "</table>\n"
      ],
      "text/latex": [
       "A matrix: 1 × 3 of type dbl\n",
       "\\begin{tabular}{lll}\n",
       "\t 0 & 0.9007913 & 2\\\\\n",
       "\\end{tabular}\n"
      ],
      "text/markdown": [
       "\n",
       "A matrix: 1 × 3 of type dbl\n",
       "\n",
       "| 0 | 0.9007913 | 2 |\n",
       "\n"
      ],
      "text/plain": [
       "     [,1] [,2]      [,3]\n",
       "[1,] 0    0.9007913 2   "
      ]
     },
     "metadata": {},
     "output_type": "display_data"
    }
   ],
   "source": [
    "feature.search(training, validation, 0)"
   ]
  },
  {
   "cell_type": "markdown",
   "id": "bacbf48a-5e03-4f2d-9179-01854d81dc3a",
   "metadata": {},
   "source": [
    "- Fake <- 0\n",
    "- True <- 1"
   ]
  },
  {
   "cell_type": "markdown",
   "id": "b27ae104-0624-4a34-89e0-8cdcd6b54ca3",
   "metadata": {},
   "source": [
    "## Results"
   ]
  },
  {
   "cell_type": "code",
   "execution_count": 39,
   "id": "18979a85-be8b-4007-8f1b-cf1686def4d6",
   "metadata": {},
   "outputs": [
    {
     "data": {
      "text/html": [
       "0.902582908163265"
      ],
      "text/latex": [
       "0.902582908163265"
      ],
      "text/markdown": [
       "0.902582908163265"
      ],
      "text/plain": [
       "[1] 0.9025829"
      ]
     },
     "metadata": {},
     "output_type": "display_data"
    }
   ],
   "source": [
    "result <- train.n.apply(training, test, k=0)\n",
    "(result |> filter(Labels==Labels.y) |> nrow()) / nrow(test)"
   ]
  },
  {
   "cell_type": "code",
   "execution_count": 40,
   "id": "1bba9002-3e11-448f-aa81-f16219061faa",
   "metadata": {},
   "outputs": [
    {
     "data": {
      "text/html": [
       "<table class=\"dataframe\">\n",
       "<caption>A data.frame: 2 × 2</caption>\n",
       "<thead>\n",
       "\t<tr><th></th><th scope=col>0</th><th scope=col>1</th></tr>\n",
       "\t<tr><th></th><th scope=col>&lt;int&gt;</th><th scope=col>&lt;int&gt;</th></tr>\n",
       "</thead>\n",
       "<tbody>\n",
       "\t<tr><th scope=row>0</th><td>3312</td><td> 181</td></tr>\n",
       "\t<tr><th scope=row>1</th><td> 430</td><td>2349</td></tr>\n",
       "</tbody>\n",
       "</table>\n"
      ],
      "text/latex": [
       "A data.frame: 2 × 2\n",
       "\\begin{tabular}{r|ll}\n",
       "  & 0 & 1\\\\\n",
       "  & <int> & <int>\\\\\n",
       "\\hline\n",
       "\t0 & 3312 &  181\\\\\n",
       "\t1 &  430 & 2349\\\\\n",
       "\\end{tabular}\n"
      ],
      "text/markdown": [
       "\n",
       "A data.frame: 2 × 2\n",
       "\n",
       "| <!--/--> | 0 &lt;int&gt; | 1 &lt;int&gt; |\n",
       "|---|---|---|\n",
       "| 0 | 3312 |  181 |\n",
       "| 1 |  430 | 2349 |\n",
       "\n"
      ],
      "text/plain": [
       "  0    1   \n",
       "0 3312  181\n",
       "1  430 2349"
      ]
     },
     "metadata": {},
     "output_type": "display_data"
    }
   ],
   "source": [
    "# Confusion Matrix (rows are true labels)\n",
    "result |> count(Labels, Labels.y) |> pivot_wider(names_from=Labels.y, values_from=n) |> column_to_rownames(\"Labels\") "
   ]
  },
  {
   "cell_type": "markdown",
   "id": "a405ecaf-6589-4fe7-ab03-6b2227b4ca83",
   "metadata": {},
   "source": [
    "### Plot"
   ]
  },
  {
   "cell_type": "code",
   "execution_count": 85,
   "id": "e20a3842-eaf3-4268-9643-44349d152d37",
   "metadata": {},
   "outputs": [
    {
     "data": {
      "text/html": [
       "0.900791307428841"
      ],
      "text/latex": [
       "0.900791307428841"
      ],
      "text/markdown": [
       "0.900791307428841"
      ],
      "text/plain": [
       "[1] 0.9007913"
      ]
     },
     "metadata": {},
     "output_type": "display_data"
    }
   ],
   "source": [
    "k0 <- (train.n.apply(training, validation, k=0) |> filter(Labels==Labels.y) |> nrow()) / nrow(validation)\n",
    "k0"
   ]
  },
  {
   "cell_type": "code",
   "execution_count": 88,
   "id": "701653e6-760a-4f64-85ca-3756c9e62d51",
   "metadata": {},
   "outputs": [
    {
     "data": {
      "image/png": "[encoded data removed]",
      "text/plain": [
       "Plot with title “Validation Score”"
      ]
     },
     "metadata": {
      "image/png": {
       "height": 700,
       "width": 700
      }
     },
     "output_type": "display_data"
    }
   ],
   "source": [
    "# png(file=\"binary_validation.png\", width=800, height=800, pointsize=20)\n",
    "# options(repr.plot.res=1000)\n",
    "options(repr.plot.res=200)\n",
    "par(mar=c(5,5,4,1)+.1)\n",
    "plot(mat2[,1], mat2[,2], main=\"Validation Score\", xlab=\"Number of selected features\", ylab=\"Score\", log=\"x\", pch=20, cex.main=2.5, cex.lab=2, cex.axis=1.5, cex=2)\n",
    "grid()\n",
    "par(new=T, mar=c(5,5,4,1)+.1)\n",
    "plot(mat2[,1], mat2[,2], main=\"Validation Score\", xlab=\"Number of selected features\", ylab=\"Score\", log=\"x\", pch=20, cex.main=2.5, cex.lab=2, cex.axis=1.5, cex=2)\n",
    "abline(h=k0)\n",
    "legend(\"bottomright\", c(\"Mutual Information\", \"No Feature Selection\"), lty=c(NA, 1), pch=c(20, NA), cex=1.5)\n",
    "# dev.off()"
   ]
  },
  {
   "cell_type": "markdown",
   "id": "82b40a53-71c9-4f60-a3e2-a83da8e96269",
   "metadata": {},
   "source": [
    "---"
   ]
  },
  {
   "cell_type": "markdown",
   "id": "7a694036-e321-4da8-9648-5f3d113cfee2",
   "metadata": {},
   "source": [
    "# Appendix"
   ]
  },
  {
   "cell_type": "markdown",
   "id": "34d697f4-0b45-4438-aa5c-4396363d2d52",
   "metadata": {},
   "source": [
    "## Binary Data 1"
   ]
  },
  {
   "cell_type": "code",
   "execution_count": 6,
   "id": "415be6eb-f7cb-438a-ba54-23fa9c413e80",
   "metadata": {},
   "outputs": [
    {
     "data": {
      "text/html": [
       "<table class=\"dataframe\">\n",
       "<caption>A spec_tbl_df: 2 × 2</caption>\n",
       "<thead>\n",
       "\t<tr><th scope=col>Labels</th><th scope=col>n</th></tr>\n",
       "\t<tr><th scope=col>&lt;dbl&gt;</th><th scope=col>&lt;int&gt;</th></tr>\n",
       "</thead>\n",
       "<tbody>\n",
       "\t<tr><td>1</td><td>1524</td></tr>\n",
       "\t<tr><td>5</td><td>1300</td></tr>\n",
       "</tbody>\n",
       "</table>\n"
      ],
      "text/latex": [
       "A spec\\_tbl\\_df: 2 × 2\n",
       "\\begin{tabular}{ll}\n",
       " Labels & n\\\\\n",
       " <dbl> & <int>\\\\\n",
       "\\hline\n",
       "\t 1 & 1524\\\\\n",
       "\t 5 & 1300\\\\\n",
       "\\end{tabular}\n"
      ],
      "text/markdown": [
       "\n",
       "A spec_tbl_df: 2 × 2\n",
       "\n",
       "| Labels &lt;dbl&gt; | n &lt;int&gt; |\n",
       "|---|---|\n",
       "| 1 | 1524 |\n",
       "| 5 | 1300 |\n",
       "\n"
      ],
      "text/plain": [
       "  Labels n   \n",
       "1 1      1524\n",
       "2 5      1300"
      ]
     },
     "metadata": {},
     "output_type": "display_data"
    }
   ],
   "source": [
    "training |> filter(Labels %in% c(1,5)) |> count(Labels)"
   ]
  },
  {
   "cell_type": "code",
   "execution_count": 7,
   "id": "cc1e5d88-81b9-4355-a8e6-3eb918867de0",
   "metadata": {},
   "outputs": [
    {
     "data": {
      "text/html": [
       "0.605749486652977"
      ],
      "text/latex": [
       "0.605749486652977"
      ],
      "text/markdown": [
       "0.605749486652977"
      ],
      "text/plain": [
       "[1] 0.6057495"
      ]
     },
     "metadata": {},
     "output_type": "display_data"
    }
   ],
   "source": [
    "pred <- train.n.apply((training |> filter(Labels %in% c(1,5))), (validation |> filter(Labels %in% c(1,5))), k=0)\n",
    "(pred |> filter(Labels==Labels.y) |> nrow()) / nrow(validation |> filter(Labels %in% c(1,5)))"
   ]
  },
  {
   "cell_type": "code",
   "execution_count": 15,
   "id": "36b1e0ea-8c31-4745-9d91-f0eb81bd9537",
   "metadata": {},
   "outputs": [
    {
     "data": {
      "text/html": [
       "<table class=\"dataframe\">\n",
       "<caption>A spec_tbl_df: 2 × 2</caption>\n",
       "<thead>\n",
       "\t<tr><th scope=col>Labels</th><th scope=col>n</th></tr>\n",
       "\t<tr><th scope=col>&lt;dbl&gt;</th><th scope=col>&lt;int&gt;</th></tr>\n",
       "</thead>\n",
       "<tbody>\n",
       "\t<tr><td>1</td><td>184</td></tr>\n",
       "\t<tr><td>5</td><td>162</td></tr>\n",
       "</tbody>\n",
       "</table>\n"
      ],
      "text/latex": [
       "A spec\\_tbl\\_df: 2 × 2\n",
       "\\begin{tabular}{ll}\n",
       " Labels & n\\\\\n",
       " <dbl> & <int>\\\\\n",
       "\\hline\n",
       "\t 1 & 184\\\\\n",
       "\t 5 & 162\\\\\n",
       "\\end{tabular}\n"
      ],
      "text/markdown": [
       "\n",
       "A spec_tbl_df: 2 × 2\n",
       "\n",
       "| Labels &lt;dbl&gt; | n &lt;int&gt; |\n",
       "|---|---|\n",
       "| 1 | 184 |\n",
       "| 5 | 162 |\n",
       "\n"
      ],
      "text/plain": [
       "  Labels n  \n",
       "1 1      184\n",
       "2 5      162"
      ]
     },
     "metadata": {},
     "output_type": "display_data"
    }
   ],
   "source": [
    "test |> filter(Labels %in% c(1,5)) |> count(Labels) "
   ]
  },
  {
   "cell_type": "code",
   "execution_count": null,
   "id": "ec26b952-c127-4cd8-94da-dfb161fba441",
   "metadata": {},
   "outputs": [],
   "source": []
  },
  {
   "cell_type": "code",
   "execution_count": 8,
   "id": "fbe04457-b463-4743-97b4-cc0f57137bce",
   "metadata": {
    "scrolled": true
   },
   "outputs": [
    {
     "name": "stdout",
     "output_type": "stream",
     "text": [
      "1 2 3 4 5 6 7 8 9 10 15 20 25 30 35 40 45 50 100 150 200 250 300 350 400 450 500 600 700 800 900 1000 1500 2000 2500 3000 "
     ]
    },
    {
     "data": {
      "text/html": [
       "<table class=\"dataframe\">\n",
       "<caption>A matrix: 36 × 3 of type dbl</caption>\n",
       "<tbody>\n",
       "\t<tr><td>  50</td><td>0.6324435</td><td>127</td></tr>\n",
       "\t<tr><td>  25</td><td>0.6303901</td><td>230</td></tr>\n",
       "\t<tr><td>  20</td><td>0.6262834</td><td>261</td></tr>\n",
       "\t<tr><td>  45</td><td>0.6262834</td><td>138</td></tr>\n",
       "\t<tr><td>  15</td><td>0.6242300</td><td>280</td></tr>\n",
       "\t<tr><td> 150</td><td>0.6242300</td><td> 56</td></tr>\n",
       "\t<tr><td>  30</td><td>0.6221766</td><td>161</td></tr>\n",
       "\t<tr><td>  40</td><td>0.6221766</td><td>146</td></tr>\n",
       "\t<tr><td>  35</td><td>0.6201232</td><td>155</td></tr>\n",
       "\t<tr><td> 500</td><td>0.6201232</td><td> 14</td></tr>\n",
       "\t<tr><td> 100</td><td>0.6160164</td><td> 78</td></tr>\n",
       "\t<tr><td> 800</td><td>0.6160164</td><td>  4</td></tr>\n",
       "\t<tr><td> 350</td><td>0.6139630</td><td> 17</td></tr>\n",
       "\t<tr><td> 450</td><td>0.6139630</td><td> 15</td></tr>\n",
       "\t<tr><td> 600</td><td>0.6139630</td><td>  9</td></tr>\n",
       "\t<tr><td> 300</td><td>0.6119097</td><td> 23</td></tr>\n",
       "\t<tr><td> 900</td><td>0.6119097</td><td>  4</td></tr>\n",
       "\t<tr><td> 400</td><td>0.6098563</td><td> 17</td></tr>\n",
       "\t<tr><td> 250</td><td>0.6078029</td><td> 30</td></tr>\n",
       "\t<tr><td> 700</td><td>0.6078029</td><td>  7</td></tr>\n",
       "\t<tr><td>1500</td><td>0.6078029</td><td>  2</td></tr>\n",
       "\t<tr><td>2000</td><td>0.6057495</td><td>  2</td></tr>\n",
       "\t<tr><td>2500</td><td>0.6057495</td><td>  2</td></tr>\n",
       "\t<tr><td>3000</td><td>0.6057495</td><td>  2</td></tr>\n",
       "\t<tr><td> 200</td><td>0.6036961</td><td> 32</td></tr>\n",
       "\t<tr><td>1000</td><td>0.6036961</td><td>  2</td></tr>\n",
       "\t<tr><td>   7</td><td>0.5995893</td><td>369</td></tr>\n",
       "\t<tr><td>   8</td><td>0.5954825</td><td>366</td></tr>\n",
       "\t<tr><td>  10</td><td>0.5954825</td><td>346</td></tr>\n",
       "\t<tr><td>   9</td><td>0.5893224</td><td>349</td></tr>\n",
       "\t<tr><td>   2</td><td>0.5790554</td><td>445</td></tr>\n",
       "\t<tr><td>   3</td><td>0.5790554</td><td>445</td></tr>\n",
       "\t<tr><td>   1</td><td>0.5749487</td><td>453</td></tr>\n",
       "\t<tr><td>   4</td><td>0.5728953</td><td>425</td></tr>\n",
       "\t<tr><td>   5</td><td>0.5728953</td><td>408</td></tr>\n",
       "\t<tr><td>   6</td><td>0.5728953</td><td>399</td></tr>\n",
       "</tbody>\n",
       "</table>\n"
      ],
      "text/latex": [
       "A matrix: 36 × 3 of type dbl\n",
       "\\begin{tabular}{lll}\n",
       "\t   50 & 0.6324435 & 127\\\\\n",
       "\t   25 & 0.6303901 & 230\\\\\n",
       "\t   20 & 0.6262834 & 261\\\\\n",
       "\t   45 & 0.6262834 & 138\\\\\n",
       "\t   15 & 0.6242300 & 280\\\\\n",
       "\t  150 & 0.6242300 &  56\\\\\n",
       "\t   30 & 0.6221766 & 161\\\\\n",
       "\t   40 & 0.6221766 & 146\\\\\n",
       "\t   35 & 0.6201232 & 155\\\\\n",
       "\t  500 & 0.6201232 &  14\\\\\n",
       "\t  100 & 0.6160164 &  78\\\\\n",
       "\t  800 & 0.6160164 &   4\\\\\n",
       "\t  350 & 0.6139630 &  17\\\\\n",
       "\t  450 & 0.6139630 &  15\\\\\n",
       "\t  600 & 0.6139630 &   9\\\\\n",
       "\t  300 & 0.6119097 &  23\\\\\n",
       "\t  900 & 0.6119097 &   4\\\\\n",
       "\t  400 & 0.6098563 &  17\\\\\n",
       "\t  250 & 0.6078029 &  30\\\\\n",
       "\t  700 & 0.6078029 &   7\\\\\n",
       "\t 1500 & 0.6078029 &   2\\\\\n",
       "\t 2000 & 0.6057495 &   2\\\\\n",
       "\t 2500 & 0.6057495 &   2\\\\\n",
       "\t 3000 & 0.6057495 &   2\\\\\n",
       "\t  200 & 0.6036961 &  32\\\\\n",
       "\t 1000 & 0.6036961 &   2\\\\\n",
       "\t    7 & 0.5995893 & 369\\\\\n",
       "\t    8 & 0.5954825 & 366\\\\\n",
       "\t   10 & 0.5954825 & 346\\\\\n",
       "\t    9 & 0.5893224 & 349\\\\\n",
       "\t    2 & 0.5790554 & 445\\\\\n",
       "\t    3 & 0.5790554 & 445\\\\\n",
       "\t    1 & 0.5749487 & 453\\\\\n",
       "\t    4 & 0.5728953 & 425\\\\\n",
       "\t    5 & 0.5728953 & 408\\\\\n",
       "\t    6 & 0.5728953 & 399\\\\\n",
       "\\end{tabular}\n"
      ],
      "text/markdown": [
       "\n",
       "A matrix: 36 × 3 of type dbl\n",
       "\n",
       "|   50 | 0.6324435 | 127 |\n",
       "|   25 | 0.6303901 | 230 |\n",
       "|   20 | 0.6262834 | 261 |\n",
       "|   45 | 0.6262834 | 138 |\n",
       "|   15 | 0.6242300 | 280 |\n",
       "|  150 | 0.6242300 |  56 |\n",
       "|   30 | 0.6221766 | 161 |\n",
       "|   40 | 0.6221766 | 146 |\n",
       "|   35 | 0.6201232 | 155 |\n",
       "|  500 | 0.6201232 |  14 |\n",
       "|  100 | 0.6160164 |  78 |\n",
       "|  800 | 0.6160164 |   4 |\n",
       "|  350 | 0.6139630 |  17 |\n",
       "|  450 | 0.6139630 |  15 |\n",
       "|  600 | 0.6139630 |   9 |\n",
       "|  300 | 0.6119097 |  23 |\n",
       "|  900 | 0.6119097 |   4 |\n",
       "|  400 | 0.6098563 |  17 |\n",
       "|  250 | 0.6078029 |  30 |\n",
       "|  700 | 0.6078029 |   7 |\n",
       "| 1500 | 0.6078029 |   2 |\n",
       "| 2000 | 0.6057495 |   2 |\n",
       "| 2500 | 0.6057495 |   2 |\n",
       "| 3000 | 0.6057495 |   2 |\n",
       "|  200 | 0.6036961 |  32 |\n",
       "| 1000 | 0.6036961 |   2 |\n",
       "|    7 | 0.5995893 | 369 |\n",
       "|    8 | 0.5954825 | 366 |\n",
       "|   10 | 0.5954825 | 346 |\n",
       "|    9 | 0.5893224 | 349 |\n",
       "|    2 | 0.5790554 | 445 |\n",
       "|    3 | 0.5790554 | 445 |\n",
       "|    1 | 0.5749487 | 453 |\n",
       "|    4 | 0.5728953 | 425 |\n",
       "|    5 | 0.5728953 | 408 |\n",
       "|    6 | 0.5728953 | 399 |\n",
       "\n"
      ],
      "text/plain": [
       "      [,1] [,2]      [,3]\n",
       " [1,]   50 0.6324435 127 \n",
       " [2,]   25 0.6303901 230 \n",
       " [3,]   20 0.6262834 261 \n",
       " [4,]   45 0.6262834 138 \n",
       " [5,]   15 0.6242300 280 \n",
       " [6,]  150 0.6242300  56 \n",
       " [7,]   30 0.6221766 161 \n",
       " [8,]   40 0.6221766 146 \n",
       " [9,]   35 0.6201232 155 \n",
       "[10,]  500 0.6201232  14 \n",
       "[11,]  100 0.6160164  78 \n",
       "[12,]  800 0.6160164   4 \n",
       "[13,]  350 0.6139630  17 \n",
       "[14,]  450 0.6139630  15 \n",
       "[15,]  600 0.6139630   9 \n",
       "[16,]  300 0.6119097  23 \n",
       "[17,]  900 0.6119097   4 \n",
       "[18,]  400 0.6098563  17 \n",
       "[19,]  250 0.6078029  30 \n",
       "[20,]  700 0.6078029   7 \n",
       "[21,] 1500 0.6078029   2 \n",
       "[22,] 2000 0.6057495   2 \n",
       "[23,] 2500 0.6057495   2 \n",
       "[24,] 3000 0.6057495   2 \n",
       "[25,]  200 0.6036961  32 \n",
       "[26,] 1000 0.6036961   2 \n",
       "[27,]    7 0.5995893 369 \n",
       "[28,]    8 0.5954825 366 \n",
       "[29,]   10 0.5954825 346 \n",
       "[30,]    9 0.5893224 349 \n",
       "[31,]    2 0.5790554 445 \n",
       "[32,]    3 0.5790554 445 \n",
       "[33,]    1 0.5749487 453 \n",
       "[34,]    4 0.5728953 425 \n",
       "[35,]    5 0.5728953 408 \n",
       "[36,]    6 0.5728953 399 "
      ]
     },
     "metadata": {},
     "output_type": "display_data"
    }
   ],
   "source": [
    "k <- c(1:10, seq.int(15, 50, by=5), seq.int(100, 500, by=50), seq.int(600, 1000, by=100), seq.int(1500, 3000, by=500))\n",
    "matbin <- feature.search(training |> filter(Labels %in% c(1,5)), validation |> filter(Labels %in% c(1,5)), k=k)\n",
    "matbin[order(desc(matbin[,2])),]"
   ]
  },
  {
   "cell_type": "code",
   "execution_count": 81,
   "id": "e55eca37-866e-42cc-9921-f35f18ab9492",
   "metadata": {},
   "outputs": [
    {
     "data": {
      "text/html": [
       "0.595375722543353"
      ],
      "text/latex": [
       "0.595375722543353"
      ],
      "text/markdown": [
       "0.595375722543353"
      ],
      "text/plain": [
       "[1] 0.5953757"
      ]
     },
     "metadata": {},
     "output_type": "display_data"
    },
    {
     "data": {
      "text/html": [
       "<table class=\"dataframe\">\n",
       "<caption>A data.frame: 2 × 2</caption>\n",
       "<thead>\n",
       "\t<tr><th></th><th scope=col>1</th><th scope=col>5</th></tr>\n",
       "\t<tr><th></th><th scope=col>&lt;int&gt;</th><th scope=col>&lt;int&gt;</th></tr>\n",
       "</thead>\n",
       "<tbody>\n",
       "\t<tr><th scope=row>1</th><td>118</td><td>66</td></tr>\n",
       "\t<tr><th scope=row>5</th><td> 74</td><td>88</td></tr>\n",
       "</tbody>\n",
       "</table>\n"
      ],
      "text/latex": [
       "A data.frame: 2 × 2\n",
       "\\begin{tabular}{r|ll}\n",
       "  & 1 & 5\\\\\n",
       "  & <int> & <int>\\\\\n",
       "\\hline\n",
       "\t1 & 118 & 66\\\\\n",
       "\t5 &  74 & 88\\\\\n",
       "\\end{tabular}\n"
      ],
      "text/markdown": [
       "\n",
       "A data.frame: 2 × 2\n",
       "\n",
       "| <!--/--> | 1 &lt;int&gt; | 5 &lt;int&gt; |\n",
       "|---|---|---|\n",
       "| 1 | 118 | 66 |\n",
       "| 5 |  74 | 88 |\n",
       "\n"
      ],
      "text/plain": [
       "  1   5 \n",
       "1 118 66\n",
       "5  74 88"
      ]
     },
     "metadata": {},
     "output_type": "display_data"
    }
   ],
   "source": [
    "result <- train.n.apply(training |> filter(Labels %in% c(1,5)), test |> filter(Labels %in% c(1,5)), k=500)\n",
    "(result |> filter(Labels==Labels.y) |> nrow()) / nrow(test |> filter(Labels %in% c(1,5)))\n",
    "result |> count(Labels, Labels.y) |> pivot_wider(names_from=Labels.y, values_from=n) |> column_to_rownames(\"Labels\") "
   ]
  },
  {
   "cell_type": "code",
   "execution_count": 10,
   "id": "63899ac0-ef8b-4af6-9551-71847648733d",
   "metadata": {},
   "outputs": [],
   "source": [
    "k0 <- (pred |> filter(Labels==Labels.y) |> nrow()) / nrow(validation |> filter(Labels %in% c(1,5)))\n"
   ]
  },
  {
   "cell_type": "code",
   "execution_count": 12,
   "id": "9003b32e-8323-4305-857f-9f27197a167c",
   "metadata": {},
   "outputs": [
    {
     "data": {
      "text/html": [
       "0.605749486652977"
      ],
      "text/latex": [
       "0.605749486652977"
      ],
      "text/markdown": [
       "0.605749486652977"
      ],
      "text/plain": [
       "[1] 0.6057495"
      ]
     },
     "metadata": {},
     "output_type": "display_data"
    }
   ],
   "source": [
    "k0"
   ]
  },
  {
   "cell_type": "code",
   "execution_count": 17,
   "id": "84100165-c4e4-48c4-81f7-83fa35ef64ba",
   "metadata": {},
   "outputs": [
    {
     "data": {
      "image/png": "[encoded data removed]",
      "text/plain": [
       "Plot with title “Validation Score”"
      ]
     },
     "metadata": {
      "image/png": {
       "height": 700,
       "width": 700
      }
     },
     "output_type": "display_data"
    }
   ],
   "source": [
    "# png(file=\"var_binary_validation.png\", width=800, height=800, pointsize=20)\n",
    "# options(repr.plot.res=1000)\n",
    "options(repr.plot.res=200)\n",
    "par(mar=c(5,5,4,1)+.1)\n",
    "plot(matbin[,1], matbin[,2], main=\"Validation Score\", xlab=\"Number of selected features\", ylab=\"Score\", log=\"x\", pch=20, cex.main=2.5, cex.lab=2, cex.axis=1.5, cex=2)\n",
    "grid()\n",
    "par(new=T, mar=c(5,5,4,1)+.1)\n",
    "plot(matbin[,1], matbin[,2], main=\"Validation Score\", xlab=\"Number of selected features\", ylab=\"Score\", log=\"x\", pch=20, cex.main=2.5, cex.lab=2, cex.axis=1.5, cex=2)\n",
    "abline(h=k0)\n",
    "legend(\"bottomright\", c(\"Mutual Information\", \"No Feature Selection\"), lty=c(NA, 1), pch=c(20, NA), cex=1.5)\n",
    "# dev.off()"
   ]
  },
  {
   "cell_type": "markdown",
   "id": "9cdde07e-e022-42ed-acb8-246e04d615d0",
   "metadata": {},
   "source": [
    "## Load mat2"
   ]
  },
  {
   "cell_type": "code",
   "execution_count": 34,
   "id": "15fe86e0-246f-418c-8988-94e0157af4fa",
   "metadata": {},
   "outputs": [],
   "source": [
    "load(\"mat2.RData\")"
   ]
  },
  {
   "cell_type": "code",
   "execution_count": 82,
   "id": "44061f1d-f308-4134-a175-aa5001463748",
   "metadata": {
    "scrolled": true
   },
   "outputs": [
    {
     "data": {
      "text/html": [
       "<table class=\"dataframe\">\n",
       "<caption>A matrix: 51 × 3 of type dbl</caption>\n",
       "<tbody>\n",
       "\t<tr><td>     5</td><td>0.7513877</td><td>1046</td></tr>\n",
       "\t<tr><td>    10</td><td>0.7706390</td><td> 886</td></tr>\n",
       "\t<tr><td>    15</td><td>0.7786701</td><td> 797</td></tr>\n",
       "\t<tr><td>    20</td><td>0.7798512</td><td> 605</td></tr>\n",
       "\t<tr><td>    25</td><td>0.7959135</td><td> 467</td></tr>\n",
       "\t<tr><td>    30</td><td>0.8157553</td><td> 338</td></tr>\n",
       "\t<tr><td>    35</td><td>0.8152829</td><td> 324</td></tr>\n",
       "\t<tr><td>    40</td><td>0.8159915</td><td> 295</td></tr>\n",
       "\t<tr><td>    45</td><td>0.8210700</td><td> 269</td></tr>\n",
       "\t<tr><td>    50</td><td>0.8267391</td><td> 260</td></tr>\n",
       "\t<tr><td>   100</td><td>0.8411480</td><td> 163</td></tr>\n",
       "\t<tr><td>   150</td><td>0.8501240</td><td> 138</td></tr>\n",
       "\t<tr><td>   200</td><td>0.8600449</td><td> 106</td></tr>\n",
       "\t<tr><td>   250</td><td>0.8626432</td><td>  98</td></tr>\n",
       "\t<tr><td>   300</td><td>0.8645329</td><td>  95</td></tr>\n",
       "\t<tr><td>   350</td><td>0.8655958</td><td>  85</td></tr>\n",
       "\t<tr><td>   400</td><td>0.8651234</td><td>  79</td></tr>\n",
       "\t<tr><td>   450</td><td>0.8697295</td><td>  73</td></tr>\n",
       "\t<tr><td>   500</td><td>0.8723279</td><td>  71</td></tr>\n",
       "\t<tr><td>   600</td><td>0.8699657</td><td>  63</td></tr>\n",
       "\t<tr><td>   700</td><td>0.8699657</td><td>  60</td></tr>\n",
       "\t<tr><td>   800</td><td>0.8740994</td><td>  39</td></tr>\n",
       "\t<tr><td>   900</td><td>0.8779969</td><td>  35</td></tr>\n",
       "\t<tr><td>  1000</td><td>0.8784694</td><td>  31</td></tr>\n",
       "\t<tr><td>  1500</td><td>0.8822487</td><td>  22</td></tr>\n",
       "\t<tr><td>  2000</td><td>0.8839022</td><td>  20</td></tr>\n",
       "\t<tr><td>  2500</td><td>0.8860281</td><td>  18</td></tr>\n",
       "\t<tr><td>  3000</td><td>0.8885083</td><td>  17</td></tr>\n",
       "\t<tr><td>  3500</td><td>0.8896894</td><td>  15</td></tr>\n",
       "\t<tr><td>  4000</td><td>0.8888626</td><td>  15</td></tr>\n",
       "\t<tr><td>  4500</td><td>0.8890989</td><td>  15</td></tr>\n",
       "\t<tr><td>  5000</td><td>0.8919334</td><td>  14</td></tr>\n",
       "\t<tr><td>  5500</td><td>0.8903980</td><td>  14</td></tr>\n",
       "\t<tr><td>  6000</td><td>0.8912248</td><td>  14</td></tr>\n",
       "\t<tr><td>  6500</td><td>0.8901618</td><td>  14</td></tr>\n",
       "\t<tr><td>  7000</td><td>0.8909885</td><td>  14</td></tr>\n",
       "\t<tr><td>  7500</td><td>0.8918153</td><td>  14</td></tr>\n",
       "\t<tr><td>  8000</td><td>0.8920515</td><td>  14</td></tr>\n",
       "\t<tr><td>  8500</td><td>0.8921696</td><td>  13</td></tr>\n",
       "\t<tr><td>  9000</td><td>0.8911066</td><td>  13</td></tr>\n",
       "\t<tr><td>  9500</td><td>0.8925239</td><td>  13</td></tr>\n",
       "\t<tr><td> 10000</td><td>0.8927601</td><td>  13</td></tr>\n",
       "\t<tr><td> 20000</td><td>0.8931144</td><td>  10</td></tr>\n",
       "\t<tr><td> 30000</td><td>0.8932325</td><td>  10</td></tr>\n",
       "\t<tr><td> 40000</td><td>0.8933507</td><td>   8</td></tr>\n",
       "\t<tr><td> 50000</td><td>0.9007913</td><td>   2</td></tr>\n",
       "\t<tr><td> 60000</td><td>0.9007913</td><td>   2</td></tr>\n",
       "\t<tr><td> 70000</td><td>0.9007913</td><td>   2</td></tr>\n",
       "\t<tr><td> 80000</td><td>0.9007913</td><td>   2</td></tr>\n",
       "\t<tr><td> 90000</td><td>0.9007913</td><td>   2</td></tr>\n",
       "\t<tr><td>100000</td><td>0.9007913</td><td>   2</td></tr>\n",
       "</tbody>\n",
       "</table>\n"
      ],
      "text/latex": [
       "A matrix: 51 × 3 of type dbl\n",
       "\\begin{tabular}{lll}\n",
       "\t      5 & 0.7513877 & 1046\\\\\n",
       "\t     10 & 0.7706390 &  886\\\\\n",
       "\t     15 & 0.7786701 &  797\\\\\n",
       "\t     20 & 0.7798512 &  605\\\\\n",
       "\t     25 & 0.7959135 &  467\\\\\n",
       "\t     30 & 0.8157553 &  338\\\\\n",
       "\t     35 & 0.8152829 &  324\\\\\n",
       "\t     40 & 0.8159915 &  295\\\\\n",
       "\t     45 & 0.8210700 &  269\\\\\n",
       "\t     50 & 0.8267391 &  260\\\\\n",
       "\t    100 & 0.8411480 &  163\\\\\n",
       "\t    150 & 0.8501240 &  138\\\\\n",
       "\t    200 & 0.8600449 &  106\\\\\n",
       "\t    250 & 0.8626432 &   98\\\\\n",
       "\t    300 & 0.8645329 &   95\\\\\n",
       "\t    350 & 0.8655958 &   85\\\\\n",
       "\t    400 & 0.8651234 &   79\\\\\n",
       "\t    450 & 0.8697295 &   73\\\\\n",
       "\t    500 & 0.8723279 &   71\\\\\n",
       "\t    600 & 0.8699657 &   63\\\\\n",
       "\t    700 & 0.8699657 &   60\\\\\n",
       "\t    800 & 0.8740994 &   39\\\\\n",
       "\t    900 & 0.8779969 &   35\\\\\n",
       "\t   1000 & 0.8784694 &   31\\\\\n",
       "\t   1500 & 0.8822487 &   22\\\\\n",
       "\t   2000 & 0.8839022 &   20\\\\\n",
       "\t   2500 & 0.8860281 &   18\\\\\n",
       "\t   3000 & 0.8885083 &   17\\\\\n",
       "\t   3500 & 0.8896894 &   15\\\\\n",
       "\t   4000 & 0.8888626 &   15\\\\\n",
       "\t   4500 & 0.8890989 &   15\\\\\n",
       "\t   5000 & 0.8919334 &   14\\\\\n",
       "\t   5500 & 0.8903980 &   14\\\\\n",
       "\t   6000 & 0.8912248 &   14\\\\\n",
       "\t   6500 & 0.8901618 &   14\\\\\n",
       "\t   7000 & 0.8909885 &   14\\\\\n",
       "\t   7500 & 0.8918153 &   14\\\\\n",
       "\t   8000 & 0.8920515 &   14\\\\\n",
       "\t   8500 & 0.8921696 &   13\\\\\n",
       "\t   9000 & 0.8911066 &   13\\\\\n",
       "\t   9500 & 0.8925239 &   13\\\\\n",
       "\t  10000 & 0.8927601 &   13\\\\\n",
       "\t  20000 & 0.8931144 &   10\\\\\n",
       "\t  30000 & 0.8932325 &   10\\\\\n",
       "\t  40000 & 0.8933507 &    8\\\\\n",
       "\t  50000 & 0.9007913 &    2\\\\\n",
       "\t  60000 & 0.9007913 &    2\\\\\n",
       "\t  70000 & 0.9007913 &    2\\\\\n",
       "\t  80000 & 0.9007913 &    2\\\\\n",
       "\t  90000 & 0.9007913 &    2\\\\\n",
       "\t 100000 & 0.9007913 &    2\\\\\n",
       "\\end{tabular}\n"
      ],
      "text/markdown": [
       "\n",
       "A matrix: 51 × 3 of type dbl\n",
       "\n",
       "|      5 | 0.7513877 | 1046 |\n",
       "|     10 | 0.7706390 |  886 |\n",
       "|     15 | 0.7786701 |  797 |\n",
       "|     20 | 0.7798512 |  605 |\n",
       "|     25 | 0.7959135 |  467 |\n",
       "|     30 | 0.8157553 |  338 |\n",
       "|     35 | 0.8152829 |  324 |\n",
       "|     40 | 0.8159915 |  295 |\n",
       "|     45 | 0.8210700 |  269 |\n",
       "|     50 | 0.8267391 |  260 |\n",
       "|    100 | 0.8411480 |  163 |\n",
       "|    150 | 0.8501240 |  138 |\n",
       "|    200 | 0.8600449 |  106 |\n",
       "|    250 | 0.8626432 |   98 |\n",
       "|    300 | 0.8645329 |   95 |\n",
       "|    350 | 0.8655958 |   85 |\n",
       "|    400 | 0.8651234 |   79 |\n",
       "|    450 | 0.8697295 |   73 |\n",
       "|    500 | 0.8723279 |   71 |\n",
       "|    600 | 0.8699657 |   63 |\n",
       "|    700 | 0.8699657 |   60 |\n",
       "|    800 | 0.8740994 |   39 |\n",
       "|    900 | 0.8779969 |   35 |\n",
       "|   1000 | 0.8784694 |   31 |\n",
       "|   1500 | 0.8822487 |   22 |\n",
       "|   2000 | 0.8839022 |   20 |\n",
       "|   2500 | 0.8860281 |   18 |\n",
       "|   3000 | 0.8885083 |   17 |\n",
       "|   3500 | 0.8896894 |   15 |\n",
       "|   4000 | 0.8888626 |   15 |\n",
       "|   4500 | 0.8890989 |   15 |\n",
       "|   5000 | 0.8919334 |   14 |\n",
       "|   5500 | 0.8903980 |   14 |\n",
       "|   6000 | 0.8912248 |   14 |\n",
       "|   6500 | 0.8901618 |   14 |\n",
       "|   7000 | 0.8909885 |   14 |\n",
       "|   7500 | 0.8918153 |   14 |\n",
       "|   8000 | 0.8920515 |   14 |\n",
       "|   8500 | 0.8921696 |   13 |\n",
       "|   9000 | 0.8911066 |   13 |\n",
       "|   9500 | 0.8925239 |   13 |\n",
       "|  10000 | 0.8927601 |   13 |\n",
       "|  20000 | 0.8931144 |   10 |\n",
       "|  30000 | 0.8932325 |   10 |\n",
       "|  40000 | 0.8933507 |    8 |\n",
       "|  50000 | 0.9007913 |    2 |\n",
       "|  60000 | 0.9007913 |    2 |\n",
       "|  70000 | 0.9007913 |    2 |\n",
       "|  80000 | 0.9007913 |    2 |\n",
       "|  90000 | 0.9007913 |    2 |\n",
       "| 100000 | 0.9007913 |    2 |\n",
       "\n"
      ],
      "text/plain": [
       "      [,1]   [,2]      [,3]\n",
       " [1,]      5 0.7513877 1046\n",
       " [2,]     10 0.7706390  886\n",
       " [3,]     15 0.7786701  797\n",
       " [4,]     20 0.7798512  605\n",
       " [5,]     25 0.7959135  467\n",
       " [6,]     30 0.8157553  338\n",
       " [7,]     35 0.8152829  324\n",
       " [8,]     40 0.8159915  295\n",
       " [9,]     45 0.8210700  269\n",
       "[10,]     50 0.8267391  260\n",
       "[11,]    100 0.8411480  163\n",
       "[12,]    150 0.8501240  138\n",
       "[13,]    200 0.8600449  106\n",
       "[14,]    250 0.8626432   98\n",
       "[15,]    300 0.8645329   95\n",
       "[16,]    350 0.8655958   85\n",
       "[17,]    400 0.8651234   79\n",
       "[18,]    450 0.8697295   73\n",
       "[19,]    500 0.8723279   71\n",
       "[20,]    600 0.8699657   63\n",
       "[21,]    700 0.8699657   60\n",
       "[22,]    800 0.8740994   39\n",
       "[23,]    900 0.8779969   35\n",
       "[24,]   1000 0.8784694   31\n",
       "[25,]   1500 0.8822487   22\n",
       "[26,]   2000 0.8839022   20\n",
       "[27,]   2500 0.8860281   18\n",
       "[28,]   3000 0.8885083   17\n",
       "[29,]   3500 0.8896894   15\n",
       "[30,]   4000 0.8888626   15\n",
       "[31,]   4500 0.8890989   15\n",
       "[32,]   5000 0.8919334   14\n",
       "[33,]   5500 0.8903980   14\n",
       "[34,]   6000 0.8912248   14\n",
       "[35,]   6500 0.8901618   14\n",
       "[36,]   7000 0.8909885   14\n",
       "[37,]   7500 0.8918153   14\n",
       "[38,]   8000 0.8920515   14\n",
       "[39,]   8500 0.8921696   13\n",
       "[40,]   9000 0.8911066   13\n",
       "[41,]   9500 0.8925239   13\n",
       "[42,]  10000 0.8927601   13\n",
       "[43,]  20000 0.8931144   10\n",
       "[44,]  30000 0.8932325   10\n",
       "[45,]  40000 0.8933507    8\n",
       "[46,]  50000 0.9007913    2\n",
       "[47,]  60000 0.9007913    2\n",
       "[48,]  70000 0.9007913    2\n",
       "[49,]  80000 0.9007913    2\n",
       "[50,]  90000 0.9007913    2\n",
       "[51,] 100000 0.9007913    2"
      ]
     },
     "metadata": {},
     "output_type": "display_data"
    }
   ],
   "source": [
    "mat2"
   ]
  }
 ],
 "metadata": {
  "kernelspec": {
   "display_name": "R",
   "language": "R",
   "name": "ir"
  },
  "language_info": {
   "codemirror_mode": "r",
   "file_extension": ".r",
   "mimetype": "text/x-r-source",
   "name": "R",
   "pygments_lexer": "r",
   "version": "4.3.1"
  }
 },
 "nbformat": 4,
 "nbformat_minor": 5
}
