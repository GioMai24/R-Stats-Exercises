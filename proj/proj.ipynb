{
 "cells": [
  {
   "cell_type": "code",
   "execution_count": 1,
   "id": "5fa76e26",
   "metadata": {
    "vscode": {
     "languageId": "r"
    }
   },
   "outputs": [
    {
     "name": "stderr",
     "output_type": "stream",
     "text": [
      "── \u001b[1mAttaching core tidyverse packages\u001b[22m ──────────────────────── tidyverse 2.0.0 ──\n",
      "\u001b[32m✔\u001b[39m \u001b[34mdplyr    \u001b[39m 1.1.3     \u001b[32m✔\u001b[39m \u001b[34mreadr    \u001b[39m 2.1.4\n",
      "\u001b[32m✔\u001b[39m \u001b[34mforcats  \u001b[39m 1.0.0     \u001b[32m✔\u001b[39m \u001b[34mstringr  \u001b[39m 1.5.0\n",
      "\u001b[32m✔\u001b[39m \u001b[34mggplot2  \u001b[39m 3.4.4     \u001b[32m✔\u001b[39m \u001b[34mtibble   \u001b[39m 3.2.1\n",
      "\u001b[32m✔\u001b[39m \u001b[34mlubridate\u001b[39m 1.9.3     \u001b[32m✔\u001b[39m \u001b[34mtidyr    \u001b[39m 1.3.0\n",
      "\u001b[32m✔\u001b[39m \u001b[34mpurrr    \u001b[39m 1.0.2     \n",
      "── \u001b[1mConflicts\u001b[22m ────────────────────────────────────────── tidyverse_conflicts() ──\n",
      "\u001b[31m✖\u001b[39m \u001b[34mdplyr\u001b[39m::\u001b[32mfilter()\u001b[39m masks \u001b[34mstats\u001b[39m::filter()\n",
      "\u001b[31m✖\u001b[39m \u001b[34mdplyr\u001b[39m::\u001b[32mlag()\u001b[39m    masks \u001b[34mstats\u001b[39m::lag()\n",
      "\u001b[36mℹ\u001b[39m Use the conflicted package (\u001b[3m\u001b[34m<http://conflicted.r-lib.org/>\u001b[39m\u001b[23m) to force all conflicts to become errors\n",
      "Warning message:\n",
      "“il pacchetto ‘tidytext’ è stato creato con R versione 4.3.3”\n",
      "Warning message:\n",
      "“il pacchetto ‘textstem’ è stato creato con R versione 4.3.3”\n",
      "Caricamento del pacchetto richiesto: koRpus.lang.en\n",
      "\n",
      "Caricamento del pacchetto richiesto: koRpus\n",
      "\n",
      "Caricamento del pacchetto richiesto: sylly\n",
      "\n",
      "For information on available language packages for 'koRpus', run\n",
      "\n",
      "  available.koRpus.lang()\n",
      "\n",
      "and see ?install.koRpus.lang()\n",
      "\n",
      "\n",
      "\n",
      "Caricamento pacchetto: ‘koRpus’\n",
      "\n",
      "\n",
      "Il seguente oggetto è mascherato da ‘package:readr’:\n",
      "\n",
      "    tokenize\n",
      "\n",
      "\n"
     ]
    }
   ],
   "source": [
    "library(tidyverse)\n",
    "library(tidytext)\n",
    "library(textstem)\n",
    "options(repr.plot.res=1000)"
   ]
  },
  {
   "cell_type": "markdown",
   "id": "e6120d6e-2127-4ffb-821f-021aef068b7e",
   "metadata": {},
   "source": [
    "# Multinomial Naive Bayes algorithm"
   ]
  },
  {
   "cell_type": "code",
   "execution_count": 2,
   "id": "f913dda2",
   "metadata": {
    "vscode": {
     "languageId": "r"
    }
   },
   "outputs": [
    {
     "data": {
      "text/html": [
       "<table class=\"dataframe\">\n",
       "<caption>A tibble: 6 × 2</caption>\n",
       "<thead>\n",
       "\t<tr><th scope=col>word</th><th scope=col>lexicon</th></tr>\n",
       "\t<tr><th scope=col>&lt;chr&gt;</th><th scope=col>&lt;chr&gt;</th></tr>\n",
       "</thead>\n",
       "<tbody>\n",
       "\t<tr><td>i     </td><td>snowball</td></tr>\n",
       "\t<tr><td>me    </td><td>snowball</td></tr>\n",
       "\t<tr><td>my    </td><td>snowball</td></tr>\n",
       "\t<tr><td>myself</td><td>snowball</td></tr>\n",
       "\t<tr><td>we    </td><td>snowball</td></tr>\n",
       "\t<tr><td>our   </td><td>snowball</td></tr>\n",
       "</tbody>\n",
       "</table>\n"
      ],
      "text/latex": [
       "A tibble: 6 × 2\n",
       "\\begin{tabular}{ll}\n",
       " word & lexicon\\\\\n",
       " <chr> & <chr>\\\\\n",
       "\\hline\n",
       "\t i      & snowball\\\\\n",
       "\t me     & snowball\\\\\n",
       "\t my     & snowball\\\\\n",
       "\t myself & snowball\\\\\n",
       "\t we     & snowball\\\\\n",
       "\t our    & snowball\\\\\n",
       "\\end{tabular}\n"
      ],
      "text/markdown": [
       "\n",
       "A tibble: 6 × 2\n",
       "\n",
       "| word &lt;chr&gt; | lexicon &lt;chr&gt; |\n",
       "|---|---|\n",
       "| i      | snowball |\n",
       "| me     | snowball |\n",
       "| my     | snowball |\n",
       "| myself | snowball |\n",
       "| we     | snowball |\n",
       "| our    | snowball |\n",
       "\n"
      ],
      "text/plain": [
       "  word   lexicon \n",
       "1 i      snowball\n",
       "2 me     snowball\n",
       "3 my     snowball\n",
       "4 myself snowball\n",
       "5 we     snowball\n",
       "6 our    snowball"
      ]
     },
     "metadata": {},
     "output_type": "display_data"
    }
   ],
   "source": [
    "garbage <- stop_words |> filter(lexicon=='snowball')\n",
    "head(garbage)"
   ]
  },
  {
   "cell_type": "code",
   "execution_count": 4,
   "id": "8b9b4bc3-d5f2-499e-a25f-8677ce19a9d1",
   "metadata": {},
   "outputs": [],
   "source": [
    "tokenise <- function(df, stopwords=garbage){\n",
    "    df |> mutate(\n",
    "        word=Text |>\n",
    "        str_to_lower() |>\n",
    "        str_remove_all(r\"(can't|n't|'s|'ve|'d|'ll|'re|'m|[[:punct:][:symbol:]])\") |>\n",
    "        str_extract_all(r\"([:alpha:]{2,})\")\n",
    "    ) |> unnest(word) |>\n",
    "    anti_join(stopwords, \"word\") |>\n",
    "    mutate(word=lemmatize_words(word))\n",
    "}\n",
    "\n",
    "\n",
    "\n",
    "trainMNB <- function(training_data, k=0){\n",
    "    N <- nrow(training_data)  # num docs\n",
    "    training_data <- training_data |> add_count(Labels, name=\"n.labels\")  # num docs by class\n",
    "    \n",
    "    tokens <- tokenise(training_data)\n",
    "\n",
    "    # feature selection\n",
    "    if (k != 0) {\n",
    "        # vocabulary\n",
    "        V <- tokens |> distinct() |> add_count(word, name=\"n.words\")  |>  # num docs with word\n",
    "            add_count(Labels, word, name=\"n11\") |>  # docs with t in c\n",
    "            distinct(word, Labels, .keep_all=T) |>  # drop duplicates not to hinder slice_max\n",
    "            mutate(n10=n.words - n11,  # docs with t not in c\n",
    "                   n01=n.labels - n11,  # docs w/o t in c\n",
    "                   n1.=n11 + n10, n.1=n11 + n01,\n",
    "                   n00=N - n1. - n01,  # docs w/o t not in c\n",
    "                   n0.=n00 + n01, n.0=n00 + n10,\n",
    "                   mi=(n11*log2(N*n11/n1./n.1) + n01*log2(N*n01/n0./n.1) + n10*log2(N*n10/n1./n.0) + n00*log2(N*n00/n0./n.0)) / N  # mutual information\n",
    "                  ) |> slice_max(mi, by=Labels, n=k) |> distinct(word)\n",
    "        \n",
    "        tokens <- tokens |> semi_join(V, \"word\")\n",
    "    } else {V <- tokens |> distinct(word)}\n",
    "\n",
    "\n",
    "    toklass <- tokens |> count(Labels, name=\"n.words.class\")\n",
    "    log.condprob <- tokens |> count(Labels, word, name=\"n.single.word.class\") |> complete(Labels, word, fill=list(n.single.word.class=0)) |> inner_join(toklass, \"Labels\") |>\n",
    "        mutate(prob=log((n.single.word.class + 1) / (n.words.class + nrow(V))), .keep=\"unused\")\n",
    "\n",
    "    log.prior <- training_data |> distinct(Labels, n.labels) |> mutate(prior=log(n.labels / N), .keep=\"unused\")\n",
    "    return (list(V, log.prior, log.condprob))  # Also returns the vocabulary following the pseudocode of reference, but unused\n",
    "}\n",
    "\n",
    "\n",
    "\n",
    "applyMNB <- function(data, log.prior, log.condprob, labels=F){\n",
    "    predict <- tokenise(data) |>\n",
    "        left_join(log.condprob, \"word\", relationship=\"many-to-many\") |> summarise(prob=sum(prob), .by=c(Text, Labels.y)) |>  # join condprob (sum of prob of each word for each label)\n",
    "        left_join(log.prior, join_by(Labels.y==Labels)) |> mutate(post=prob + prior) |>  # join prior and sum to condprob\n",
    "        slice_max(post, by=\"Text\") |>\n",
    "        replace_na(list(Labels.y=( (log.prior |> slice_max(prior))$Labels )))  # if the Text doesn't contain any usable word the most occuring class is selected\n",
    "\n",
    "    if(labels){predict <- predict |> inner_join(data, \"Text\")}\n",
    "    return (predict)\n",
    "}\n",
    "\n",
    "\n",
    "\n",
    "train.n.apply <- function(training, testing, k=0, labels=T){\n",
    "    MNB <- training |> trainMNB(k=k)\n",
    "    testing |> applyMNB(MNB[[2]], MNB[[3]], labels=labels)\n",
    "}\n",
    "\n",
    "\n",
    "\n",
    "feature.search <- function(training, validation, k){\n",
    "    mat <- matrix(, nrow=length(k), ncol=3)\n",
    "    for (i in seq_along(k)){cat(k[i], '')\n",
    "        flush.console()  # display cat on single row\n",
    "        pred <- train.n.apply(training, validation, k=k[i])\n",
    "        mat[i,] <- c(k[i], (pred |> filter(Labels==Labels.y) |> nrow()) / nrow(validation), pred |> filter(is.na(post)) |> nrow())  # k, overall accuracy, docs with no features\n",
    "        }\n",
    "    return(mat)\n",
    "}"
   ]
  },
  {
   "cell_type": "markdown",
   "id": "2bfca7cc-a1de-4ed1-9e9e-28cb71e19929",
   "metadata": {},
   "source": [
    "# [Multilabel Data](https://www.kaggle.com/datasets/anmolkumar/fake-news-content-detection)\n",
    "- True - 5\n",
    "- Not-Known - 4\n",
    "- Mostly-True - 3\n",
    "- Half-True - 2\n",
    "- False - 1\n",
    "- Barely-True - 0"
   ]
  },
  {
   "cell_type": "markdown",
   "id": "09467450-ce65-452f-8d1c-ca26d6da5690",
   "metadata": {},
   "source": [
    "## Preprocessing"
   ]
  },
  {
   "cell_type": "code",
   "execution_count": 7,
   "id": "765ccf8d",
   "metadata": {
    "vscode": {
     "languageId": "r"
    }
   },
   "outputs": [
    {
     "name": "stderr",
     "output_type": "stream",
     "text": [
      "\u001b[1mRows: \u001b[22m\u001b[34m10240\u001b[39m \u001b[1mColumns: \u001b[22m\u001b[34m3\u001b[39m\n",
      "\u001b[36m──\u001b[39m \u001b[1mColumn specification\u001b[22m \u001b[36m────────────────────────────────────────────────────────\u001b[39m\n",
      "\u001b[1mDelimiter:\u001b[22m \",\"\n",
      "\u001b[31mchr\u001b[39m (2): Text, Text_Tag\n",
      "\u001b[32mdbl\u001b[39m (1): Labels\n",
      "\n",
      "\u001b[36mℹ\u001b[39m Use `spec()` to retrieve the full column specification for this data.\n",
      "\u001b[36mℹ\u001b[39m Specify the column types or set `show_col_types = FALSE` to quiet this message.\n"
     ]
    },
    {
     "name": "stdout",
     "output_type": "stream",
     "text": [
      "tibble [10,240 × 2] (S3: tbl_df/tbl/data.frame)\n",
      " $ Labels: num [1:10240] 1 2 3 1 2 5 0 2 2 3 ...\n",
      " $ Text  : chr [1:10240] \"Says the Annies List political group supports third-trimester abortions on demand.\" \"When did the decline of coal start? It started when natural gas took off that started to begin in (President Ge\"| __truncated__ \"Hillary Clinton agrees with John McCain \\\"by voting to give George Bush the benefit of the doubt on Iran.\\\"\" \"Health care reform legislation is likely to mandate free sex change surgeries.\" ...\n"
     ]
    }
   ],
   "source": [
    "data <- read_csv('data/og/train.csv') |> select(Labels, Text)\n",
    "str(data)"
   ]
  },
  {
   "cell_type": "markdown",
   "id": "4a5535be-fb89-4cb8-9b34-d03d9d669089",
   "metadata": {},
   "source": [
    "Check missing values"
   ]
  },
  {
   "cell_type": "code",
   "execution_count": 8,
   "id": "978839c3",
   "metadata": {
    "vscode": {
     "languageId": "r"
    }
   },
   "outputs": [
    {
     "data": {
      "text/html": [
       "0"
      ],
      "text/latex": [
       "0"
      ],
      "text/markdown": [
       "0"
      ],
      "text/plain": [
       "[1] 0"
      ]
     },
     "metadata": {},
     "output_type": "display_data"
    }
   ],
   "source": [
    "sum(is.na(data))"
   ]
  },
  {
   "cell_type": "markdown",
   "id": "53d09566-8fc8-4a94-9d27-bdbff9c80ef5",
   "metadata": {},
   "source": [
    "We remove all the data labelled as \"Not known\" (some examples are shown in the cell below), and take care of duplicate rows."
   ]
  },
  {
   "cell_type": "code",
   "execution_count": 9,
   "id": "af3629a3-890f-4860-96a0-5845b9353f1f",
   "metadata": {},
   "outputs": [
    {
     "data": {
      "text/html": [
       "<table class=\"dataframe\">\n",
       "<caption>A tibble: 5 × 2</caption>\n",
       "<thead>\n",
       "\t<tr><th scope=col>Labels</th><th scope=col>Text</th></tr>\n",
       "\t<tr><th scope=col>&lt;dbl&gt;</th><th scope=col>&lt;chr&gt;</th></tr>\n",
       "</thead>\n",
       "<tbody>\n",
       "\t<tr><td>4</td><td>2014 Federal Tax Refunds To Be Delayed Until October 2015.                                                     </td></tr>\n",
       "\t<tr><td>4</td><td>Wendy Davis raised money for a U.S. House Democrat who is a member of a Democratic socialists group.           </td></tr>\n",
       "\t<tr><td>4</td><td>Says Ted Cruz just flip-flopped about the president needing to be U.S.-born.                                   </td></tr>\n",
       "\t<tr><td>4</td><td>Final election 2016 numbers: Trump won the popular vote.                                                       </td></tr>\n",
       "\t<tr><td>4</td><td>Says Barack Obama sold Chrysler to Italians who are going to build Jeeps in China at the cost of American jobs.</td></tr>\n",
       "</tbody>\n",
       "</table>\n"
      ],
      "text/latex": [
       "A tibble: 5 × 2\n",
       "\\begin{tabular}{ll}\n",
       " Labels & Text\\\\\n",
       " <dbl> & <chr>\\\\\n",
       "\\hline\n",
       "\t 4 & 2014 Federal Tax Refunds To Be Delayed Until October 2015.                                                     \\\\\n",
       "\t 4 & Wendy Davis raised money for a U.S. House Democrat who is a member of a Democratic socialists group.           \\\\\n",
       "\t 4 & Says Ted Cruz just flip-flopped about the president needing to be U.S.-born.                                   \\\\\n",
       "\t 4 & Final election 2016 numbers: Trump won the popular vote.                                                       \\\\\n",
       "\t 4 & Says Barack Obama sold Chrysler to Italians who are going to build Jeeps in China at the cost of American jobs.\\\\\n",
       "\\end{tabular}\n"
      ],
      "text/markdown": [
       "\n",
       "A tibble: 5 × 2\n",
       "\n",
       "| Labels &lt;dbl&gt; | Text &lt;chr&gt; |\n",
       "|---|---|\n",
       "| 4 | 2014 Federal Tax Refunds To Be Delayed Until October 2015.                                                      |\n",
       "| 4 | Wendy Davis raised money for a U.S. House Democrat who is a member of a Democratic socialists group.            |\n",
       "| 4 | Says Ted Cruz just flip-flopped about the president needing to be U.S.-born.                                    |\n",
       "| 4 | Final election 2016 numbers: Trump won the popular vote.                                                        |\n",
       "| 4 | Says Barack Obama sold Chrysler to Italians who are going to build Jeeps in China at the cost of American jobs. |\n",
       "\n"
      ],
      "text/plain": [
       "  Labels\n",
       "1 4     \n",
       "2 4     \n",
       "3 4     \n",
       "4 4     \n",
       "5 4     \n",
       "  Text                                                                                                           \n",
       "1 2014 Federal Tax Refunds To Be Delayed Until October 2015.                                                     \n",
       "2 Wendy Davis raised money for a U.S. House Democrat who is a member of a Democratic socialists group.           \n",
       "3 Says Ted Cruz just flip-flopped about the president needing to be U.S.-born.                                   \n",
       "4 Final election 2016 numbers: Trump won the popular vote.                                                       \n",
       "5 Says Barack Obama sold Chrysler to Italians who are going to build Jeeps in China at the cost of American jobs."
      ]
     },
     "metadata": {},
     "output_type": "display_data"
    }
   ],
   "source": [
    "data |> filter(Labels==4) |> slice_sample(n=5)"
   ]
  },
  {
   "cell_type": "code",
   "execution_count": 10,
   "id": "9e9861ea",
   "metadata": {
    "vscode": {
     "languageId": "r"
    }
   },
   "outputs": [
    {
     "name": "stdout",
     "output_type": "stream",
     "text": [
      "tibble [9,390 × 2] (S3: tbl_df/tbl/data.frame)\n",
      " $ Labels: num [1:9390] 1 2 3 1 2 5 0 2 2 3 ...\n",
      " $ Text  : chr [1:9390] \"Says the Annies List political group supports third-trimester abortions on demand.\" \"When did the decline of coal start? It started when natural gas took off that started to begin in (President Ge\"| __truncated__ \"Hillary Clinton agrees with John McCain \\\"by voting to give George Bush the benefit of the doubt on Iran.\\\"\" \"Health care reform legislation is likely to mandate free sex change surgeries.\" ...\n"
     ]
    }
   ],
   "source": [
    "data <- data |> filter(Labels != 4) |> distinct()\n",
    "str(data)"
   ]
  },
  {
   "cell_type": "markdown",
   "id": "9673ce01",
   "metadata": {},
   "source": [
    "Some entries come with different labels. Since we have no means to choose the correct one, we simply drop all instances."
   ]
  },
  {
   "cell_type": "code",
   "execution_count": 11,
   "id": "0de86a21-95af-4922-b4ce-9a50fe5a340c",
   "metadata": {},
   "outputs": [
    {
     "data": {
      "text/html": [
       "<table class=\"dataframe\">\n",
       "<caption>A tibble: 12 × 2</caption>\n",
       "<thead>\n",
       "\t<tr><th scope=col>Labels</th><th scope=col>Text</th></tr>\n",
       "\t<tr><th scope=col>&lt;dbl&gt;</th><th scope=col>&lt;chr&gt;</th></tr>\n",
       "</thead>\n",
       "<tbody>\n",
       "\t<tr><td>2</td><td>Four balanced budgets in a row, with no new taxes for anyone. The best job growth in 12 years. Nearly 130,000 new private-sector jobs. Merit pay to reward New Jerseys best teachers, and the most education funding ever.</td></tr>\n",
       "\t<tr><td>3</td><td>Four balanced budgets in a row, with no new taxes for anyone. The best job growth in 12 years. Nearly 130,000 new private-sector jobs. Merit pay to reward New Jerseys best teachers, and the most education funding ever.</td></tr>\n",
       "\t<tr><td>1</td><td>On abortion                                                                                                                                                                                                               </td></tr>\n",
       "\t<tr><td>2</td><td>On abortion                                                                                                                                                                                                               </td></tr>\n",
       "\t<tr><td>5</td><td>On support for gay marriage.                                                                                                                                                                                              </td></tr>\n",
       "\t<tr><td>1</td><td>On support for gay marriage.                                                                                                                                                                                              </td></tr>\n",
       "\t<tr><td>1</td><td>On the status of illegal immigrants                                                                                                                                                                                       </td></tr>\n",
       "\t<tr><td>2</td><td>On the status of illegal immigrants                                                                                                                                                                                       </td></tr>\n",
       "\t<tr><td>5</td><td>On torture.                                                                                                                                                                                                               </td></tr>\n",
       "\t<tr><td>2</td><td>On torture.                                                                                                                                                                                                               </td></tr>\n",
       "\t<tr><td>2</td><td>Some 20,000 Delphi salaried retirees lost up to 70 percent of their pensions as a result of political favoritism and backroom deals.                                                                                      </td></tr>\n",
       "\t<tr><td>0</td><td>Some 20,000 Delphi salaried retirees lost up to 70 percent of their pensions as a result of political favoritism and backroom deals.                                                                                      </td></tr>\n",
       "</tbody>\n",
       "</table>\n"
      ],
      "text/latex": [
       "A tibble: 12 × 2\n",
       "\\begin{tabular}{ll}\n",
       " Labels & Text\\\\\n",
       " <dbl> & <chr>\\\\\n",
       "\\hline\n",
       "\t 2 & Four balanced budgets in a row, with no new taxes for anyone. The best job growth in 12 years. Nearly 130,000 new private-sector jobs. Merit pay to reward New Jerseys best teachers, and the most education funding ever.\\\\\n",
       "\t 3 & Four balanced budgets in a row, with no new taxes for anyone. The best job growth in 12 years. Nearly 130,000 new private-sector jobs. Merit pay to reward New Jerseys best teachers, and the most education funding ever.\\\\\n",
       "\t 1 & On abortion                                                                                                                                                                                                               \\\\\n",
       "\t 2 & On abortion                                                                                                                                                                                                               \\\\\n",
       "\t 5 & On support for gay marriage.                                                                                                                                                                                              \\\\\n",
       "\t 1 & On support for gay marriage.                                                                                                                                                                                              \\\\\n",
       "\t 1 & On the status of illegal immigrants                                                                                                                                                                                       \\\\\n",
       "\t 2 & On the status of illegal immigrants                                                                                                                                                                                       \\\\\n",
       "\t 5 & On torture.                                                                                                                                                                                                               \\\\\n",
       "\t 2 & On torture.                                                                                                                                                                                                               \\\\\n",
       "\t 2 & Some 20,000 Delphi salaried retirees lost up to 70 percent of their pensions as a result of political favoritism and backroom deals.                                                                                      \\\\\n",
       "\t 0 & Some 20,000 Delphi salaried retirees lost up to 70 percent of their pensions as a result of political favoritism and backroom deals.                                                                                      \\\\\n",
       "\\end{tabular}\n"
      ],
      "text/markdown": [
       "\n",
       "A tibble: 12 × 2\n",
       "\n",
       "| Labels &lt;dbl&gt; | Text &lt;chr&gt; |\n",
       "|---|---|\n",
       "| 2 | Four balanced budgets in a row, with no new taxes for anyone. The best job growth in 12 years. Nearly 130,000 new private-sector jobs. Merit pay to reward New Jerseys best teachers, and the most education funding ever. |\n",
       "| 3 | Four balanced budgets in a row, with no new taxes for anyone. The best job growth in 12 years. Nearly 130,000 new private-sector jobs. Merit pay to reward New Jerseys best teachers, and the most education funding ever. |\n",
       "| 1 | On abortion                                                                                                                                                                                                                |\n",
       "| 2 | On abortion                                                                                                                                                                                                                |\n",
       "| 5 | On support for gay marriage.                                                                                                                                                                                               |\n",
       "| 1 | On support for gay marriage.                                                                                                                                                                                               |\n",
       "| 1 | On the status of illegal immigrants                                                                                                                                                                                        |\n",
       "| 2 | On the status of illegal immigrants                                                                                                                                                                                        |\n",
       "| 5 | On torture.                                                                                                                                                                                                                |\n",
       "| 2 | On torture.                                                                                                                                                                                                                |\n",
       "| 2 | Some 20,000 Delphi salaried retirees lost up to 70 percent of their pensions as a result of political favoritism and backroom deals.                                                                                       |\n",
       "| 0 | Some 20,000 Delphi salaried retirees lost up to 70 percent of their pensions as a result of political favoritism and backroom deals.                                                                                       |\n",
       "\n"
      ],
      "text/plain": [
       "   Labels\n",
       "1  2     \n",
       "2  3     \n",
       "3  1     \n",
       "4  2     \n",
       "5  5     \n",
       "6  1     \n",
       "7  1     \n",
       "8  2     \n",
       "9  5     \n",
       "10 2     \n",
       "11 2     \n",
       "12 0     \n",
       "   Text                                                                                                                                                                                                                      \n",
       "1  Four balanced budgets in a row, with no new taxes for anyone. The best job growth in 12 years. Nearly 130,000 new private-sector jobs. Merit pay to reward New Jerseys best teachers, and the most education funding ever.\n",
       "2  Four balanced budgets in a row, with no new taxes for anyone. The best job growth in 12 years. Nearly 130,000 new private-sector jobs. Merit pay to reward New Jerseys best teachers, and the most education funding ever.\n",
       "3  On abortion                                                                                                                                                                                                               \n",
       "4  On abortion                                                                                                                                                                                                               \n",
       "5  On support for gay marriage.                                                                                                                                                                                              \n",
       "6  On support for gay marriage.                                                                                                                                                                                              \n",
       "7  On the status of illegal immigrants                                                                                                                                                                                       \n",
       "8  On the status of illegal immigrants                                                                                                                                                                                       \n",
       "9  On torture.                                                                                                                                                                                                               \n",
       "10 On torture.                                                                                                                                                                                                               \n",
       "11 Some 20,000 Delphi salaried retirees lost up to 70 percent of their pensions as a result of political favoritism and backroom deals.                                                                                      \n",
       "12 Some 20,000 Delphi salaried retirees lost up to 70 percent of their pensions as a result of political favoritism and backroom deals.                                                                                      "
      ]
     },
     "metadata": {},
     "output_type": "display_data"
    },
    {
     "name": "stdout",
     "output_type": "stream",
     "text": [
      "tibble [9,378 × 2] (S3: tbl_df/tbl/data.frame)\n",
      " $ Labels: num [1:9378] 1 2 3 1 2 5 0 2 2 3 ...\n",
      " $ Text  : chr [1:9378] \"Says the Annies List political group supports third-trimester abortions on demand.\" \"When did the decline of coal start? It started when natural gas took off that started to begin in (President Ge\"| __truncated__ \"Hillary Clinton agrees with John McCain \\\"by voting to give George Bush the benefit of the doubt on Iran.\\\"\" \"Health care reform legislation is likely to mandate free sex change surgeries.\" ...\n"
     ]
    }
   ],
   "source": [
    "dobble <- data[duplicated(data$Text),] |> select(Text)\n",
    "data |> semi_join(dobble, \"Text\") |> arrange(Text)\n",
    "data <- data |> anti_join(dobble, \"Text\")\n",
    "str(data)"
   ]
  },
  {
   "cell_type": "code",
   "execution_count": 12,
   "id": "eb85dbc2-fa19-4449-ad65-581885c634c0",
   "metadata": {},
   "outputs": [
    {
     "data": {
      "text/html": [
       "<table class=\"dataframe\">\n",
       "<caption>A tibble: 5 × 2</caption>\n",
       "<thead>\n",
       "\t<tr><th scope=col>Labels</th><th scope=col>n</th></tr>\n",
       "\t<tr><th scope=col>&lt;dbl&gt;</th><th scope=col>&lt;int&gt;</th></tr>\n",
       "</thead>\n",
       "<tbody>\n",
       "\t<tr><td>0</td><td>1653</td></tr>\n",
       "\t<tr><td>1</td><td>1985</td></tr>\n",
       "\t<tr><td>2</td><td>2107</td></tr>\n",
       "\t<tr><td>3</td><td>1961</td></tr>\n",
       "\t<tr><td>5</td><td>1672</td></tr>\n",
       "</tbody>\n",
       "</table>\n"
      ],
      "text/latex": [
       "A tibble: 5 × 2\n",
       "\\begin{tabular}{ll}\n",
       " Labels & n\\\\\n",
       " <dbl> & <int>\\\\\n",
       "\\hline\n",
       "\t 0 & 1653\\\\\n",
       "\t 1 & 1985\\\\\n",
       "\t 2 & 2107\\\\\n",
       "\t 3 & 1961\\\\\n",
       "\t 5 & 1672\\\\\n",
       "\\end{tabular}\n"
      ],
      "text/markdown": [
       "\n",
       "A tibble: 5 × 2\n",
       "\n",
       "| Labels &lt;dbl&gt; | n &lt;int&gt; |\n",
       "|---|---|\n",
       "| 0 | 1653 |\n",
       "| 1 | 1985 |\n",
       "| 2 | 2107 |\n",
       "| 3 | 1961 |\n",
       "| 5 | 1672 |\n",
       "\n"
      ],
      "text/plain": [
       "  Labels n   \n",
       "1 0      1653\n",
       "2 1      1985\n",
       "3 2      2107\n",
       "4 3      1961\n",
       "5 5      1672"
      ]
     },
     "metadata": {},
     "output_type": "display_data"
    }
   ],
   "source": [
    "data |> count(Labels)"
   ]
  },
  {
   "cell_type": "markdown",
   "id": "a2502b62-aae2-4a48-b824-b579f9a51b63",
   "metadata": {},
   "source": [
    "Separate the sets, and save them to new files (the cell is in `Raw` mode to avoid accidentally running it)"
   ]
  },
  {
   "cell_type": "raw",
   "id": "57cf6692-2ab2-4657-8a9e-36af56f1fc8d",
   "metadata": {
    "vscode": {
     "languageId": "r"
    }
   },
   "source": [
    "test <- slice_sample(data, prop=.10)\n",
    "new_data <- setdiff(data, test)\n",
    "validation <- slice_sample(new_data, prop=.15)\n",
    "training <- setdiff(new_data, validation)\n",
    "\n",
    "dfs <- list(test=test, validation=validation, training=training)\n",
    "for (name in names(dfs)) write_csv(dfs[[name]], paste0('data/', name, '.csv'))"
   ]
  },
  {
   "cell_type": "markdown",
   "id": "f5e04a71-c3e5-4bed-b6ab-2c2f7f8d85c1",
   "metadata": {},
   "source": [
    "## Training"
   ]
  },
  {
   "cell_type": "code",
   "execution_count": 5,
   "id": "cc680b05",
   "metadata": {
    "vscode": {
     "languageId": "r"
    }
   },
   "outputs": [
    {
     "name": "stderr",
     "output_type": "stream",
     "text": [
      "\u001b[1mRows: \u001b[22m\u001b[34m7175\u001b[39m \u001b[1mColumns: \u001b[22m\u001b[34m2\u001b[39m\n",
      "\u001b[36m──\u001b[39m \u001b[1mColumn specification\u001b[22m \u001b[36m────────────────────────────────────────────────────────\u001b[39m\n",
      "\u001b[1mDelimiter:\u001b[22m \",\"\n",
      "\u001b[31mchr\u001b[39m (1): Text\n",
      "\u001b[32mdbl\u001b[39m (1): Labels\n",
      "\n",
      "\u001b[36mℹ\u001b[39m Use `spec()` to retrieve the full column specification for this data.\n",
      "\u001b[36mℹ\u001b[39m Specify the column types or set `show_col_types = FALSE` to quiet this message.\n",
      "\u001b[1mRows: \u001b[22m\u001b[34m1266\u001b[39m \u001b[1mColumns: \u001b[22m\u001b[34m2\u001b[39m\n",
      "\u001b[36m──\u001b[39m \u001b[1mColumn specification\u001b[22m \u001b[36m────────────────────────────────────────────────────────\u001b[39m\n",
      "\u001b[1mDelimiter:\u001b[22m \",\"\n",
      "\u001b[31mchr\u001b[39m (1): Text\n",
      "\u001b[32mdbl\u001b[39m (1): Labels\n",
      "\n",
      "\u001b[36mℹ\u001b[39m Use `spec()` to retrieve the full column specification for this data.\n",
      "\u001b[36mℹ\u001b[39m Specify the column types or set `show_col_types = FALSE` to quiet this message.\n",
      "\u001b[1mRows: \u001b[22m\u001b[34m937\u001b[39m \u001b[1mColumns: \u001b[22m\u001b[34m2\u001b[39m\n",
      "\u001b[36m──\u001b[39m \u001b[1mColumn specification\u001b[22m \u001b[36m────────────────────────────────────────────────────────\u001b[39m\n",
      "\u001b[1mDelimiter:\u001b[22m \",\"\n",
      "\u001b[31mchr\u001b[39m (1): Text\n",
      "\u001b[32mdbl\u001b[39m (1): Labels\n",
      "\n",
      "\u001b[36mℹ\u001b[39m Use `spec()` to retrieve the full column specification for this data.\n",
      "\u001b[36mℹ\u001b[39m Specify the column types or set `show_col_types = FALSE` to quiet this message.\n"
     ]
    }
   ],
   "source": [
    "training <- read_csv('data/training.csv')\n",
    "validation <- read_csv('data/validation.csv')\n",
    "test <- read_csv(\"data/test.csv\")"
   ]
  },
  {
   "cell_type": "code",
   "execution_count": 14,
   "id": "6dd920f5-b2cd-4fd3-b637-f50a229ae797",
   "metadata": {},
   "outputs": [
    {
     "data": {
      "text/html": [
       "<table class=\"dataframe\">\n",
       "<caption>A tibble: 5 × 2</caption>\n",
       "<thead>\n",
       "\t<tr><th scope=col>Labels</th><th scope=col>n</th></tr>\n",
       "\t<tr><th scope=col>&lt;dbl&gt;</th><th scope=col>&lt;int&gt;</th></tr>\n",
       "</thead>\n",
       "<tbody>\n",
       "\t<tr><td>0</td><td>3336</td></tr>\n",
       "\t<tr><td>1</td><td>3552</td></tr>\n",
       "\t<tr><td>2</td><td>3623</td></tr>\n",
       "\t<tr><td>3</td><td>3399</td></tr>\n",
       "\t<tr><td>5</td><td>3206</td></tr>\n",
       "</tbody>\n",
       "</table>\n"
      ],
      "text/latex": [
       "A tibble: 5 × 2\n",
       "\\begin{tabular}{ll}\n",
       " Labels & n\\\\\n",
       " <dbl> & <int>\\\\\n",
       "\\hline\n",
       "\t 0 & 3336\\\\\n",
       "\t 1 & 3552\\\\\n",
       "\t 2 & 3623\\\\\n",
       "\t 3 & 3399\\\\\n",
       "\t 5 & 3206\\\\\n",
       "\\end{tabular}\n"
      ],
      "text/markdown": [
       "\n",
       "A tibble: 5 × 2\n",
       "\n",
       "| Labels &lt;dbl&gt; | n &lt;int&gt; |\n",
       "|---|---|\n",
       "| 0 | 3336 |\n",
       "| 1 | 3552 |\n",
       "| 2 | 3623 |\n",
       "| 3 | 3399 |\n",
       "| 5 | 3206 |\n",
       "\n"
      ],
      "text/plain": [
       "  Labels n   \n",
       "1 0      3336\n",
       "2 1      3552\n",
       "3 2      3623\n",
       "4 3      3399\n",
       "5 5      3206"
      ]
     },
     "metadata": {},
     "output_type": "display_data"
    }
   ],
   "source": [
    "training |> tokenise() |> distinct(Labels, word) |> count(Labels)"
   ]
  },
  {
   "cell_type": "code",
   "execution_count": 16,
   "id": "832c86e3-d7a5-4c9c-802f-0e4d3ed60dbf",
   "metadata": {
    "scrolled": true
   },
   "outputs": [
    {
     "name": "stdout",
     "output_type": "stream",
     "text": [
      "1 2 3 4 5 6 7 8 9 10 15 20 25 30 35 40 45 50 100 150 200 250 300 350 400 450 500 600 700 800 900 1000 1500 2000 2500 3000 "
     ]
    },
    {
     "data": {
      "text/html": [
       "<table class=\"dataframe\">\n",
       "<caption>A matrix: 36 × 3 of type dbl</caption>\n",
       "<tbody>\n",
       "\t<tr><td> 400</td><td>0.2551343</td><td>  7</td></tr>\n",
       "\t<tr><td> 700</td><td>0.2535545</td><td>  2</td></tr>\n",
       "\t<tr><td> 350</td><td>0.2519747</td><td> 10</td></tr>\n",
       "\t<tr><td> 450</td><td>0.2519747</td><td>  3</td></tr>\n",
       "\t<tr><td>3000</td><td>0.2511848</td><td>  0</td></tr>\n",
       "\t<tr><td> 800</td><td>0.2480253</td><td>  2</td></tr>\n",
       "\t<tr><td> 300</td><td>0.2472354</td><td> 15</td></tr>\n",
       "\t<tr><td> 500</td><td>0.2456556</td><td>  2</td></tr>\n",
       "\t<tr><td> 150</td><td>0.2440758</td><td> 35</td></tr>\n",
       "\t<tr><td> 250</td><td>0.2440758</td><td> 20</td></tr>\n",
       "\t<tr><td> 900</td><td>0.2440758</td><td>  2</td></tr>\n",
       "\t<tr><td> 600</td><td>0.2432859</td><td>  2</td></tr>\n",
       "\t<tr><td>  50</td><td>0.2424961</td><td>107</td></tr>\n",
       "\t<tr><td> 200</td><td>0.2424961</td><td> 25</td></tr>\n",
       "\t<tr><td>1000</td><td>0.2417062</td><td>  2</td></tr>\n",
       "\t<tr><td>1500</td><td>0.2409163</td><td>  1</td></tr>\n",
       "\t<tr><td>  45</td><td>0.2401264</td><td>110</td></tr>\n",
       "\t<tr><td>2000</td><td>0.2401264</td><td>  1</td></tr>\n",
       "\t<tr><td>2500</td><td>0.2401264</td><td>  1</td></tr>\n",
       "\t<tr><td> 100</td><td>0.2385466</td><td> 53</td></tr>\n",
       "\t<tr><td>   1</td><td>0.2377567</td><td>790</td></tr>\n",
       "\t<tr><td>  20</td><td>0.2361769</td><td>240</td></tr>\n",
       "\t<tr><td>   2</td><td>0.2353870</td><td>729</td></tr>\n",
       "\t<tr><td>  25</td><td>0.2353870</td><td>194</td></tr>\n",
       "\t<tr><td>  30</td><td>0.2353870</td><td>171</td></tr>\n",
       "\t<tr><td>   3</td><td>0.2338073</td><td>664</td></tr>\n",
       "\t<tr><td>  15</td><td>0.2330174</td><td>271</td></tr>\n",
       "\t<tr><td>  35</td><td>0.2330174</td><td>153</td></tr>\n",
       "\t<tr><td>   5</td><td>0.2322275</td><td>571</td></tr>\n",
       "\t<tr><td>  40</td><td>0.2322275</td><td>118</td></tr>\n",
       "\t<tr><td>   6</td><td>0.2306477</td><td>543</td></tr>\n",
       "\t<tr><td>  10</td><td>0.2290679</td><td>377</td></tr>\n",
       "\t<tr><td>   4</td><td>0.2282780</td><td>627</td></tr>\n",
       "\t<tr><td>   7</td><td>0.2235387</td><td>477</td></tr>\n",
       "\t<tr><td>   9</td><td>0.2235387</td><td>411</td></tr>\n",
       "\t<tr><td>   8</td><td>0.2227488</td><td>435</td></tr>\n",
       "</tbody>\n",
       "</table>\n"
      ],
      "text/latex": [
       "A matrix: 36 × 3 of type dbl\n",
       "\\begin{tabular}{lll}\n",
       "\t  400 & 0.2551343 &   7\\\\\n",
       "\t  700 & 0.2535545 &   2\\\\\n",
       "\t  350 & 0.2519747 &  10\\\\\n",
       "\t  450 & 0.2519747 &   3\\\\\n",
       "\t 3000 & 0.2511848 &   0\\\\\n",
       "\t  800 & 0.2480253 &   2\\\\\n",
       "\t  300 & 0.2472354 &  15\\\\\n",
       "\t  500 & 0.2456556 &   2\\\\\n",
       "\t  150 & 0.2440758 &  35\\\\\n",
       "\t  250 & 0.2440758 &  20\\\\\n",
       "\t  900 & 0.2440758 &   2\\\\\n",
       "\t  600 & 0.2432859 &   2\\\\\n",
       "\t   50 & 0.2424961 & 107\\\\\n",
       "\t  200 & 0.2424961 &  25\\\\\n",
       "\t 1000 & 0.2417062 &   2\\\\\n",
       "\t 1500 & 0.2409163 &   1\\\\\n",
       "\t   45 & 0.2401264 & 110\\\\\n",
       "\t 2000 & 0.2401264 &   1\\\\\n",
       "\t 2500 & 0.2401264 &   1\\\\\n",
       "\t  100 & 0.2385466 &  53\\\\\n",
       "\t    1 & 0.2377567 & 790\\\\\n",
       "\t   20 & 0.2361769 & 240\\\\\n",
       "\t    2 & 0.2353870 & 729\\\\\n",
       "\t   25 & 0.2353870 & 194\\\\\n",
       "\t   30 & 0.2353870 & 171\\\\\n",
       "\t    3 & 0.2338073 & 664\\\\\n",
       "\t   15 & 0.2330174 & 271\\\\\n",
       "\t   35 & 0.2330174 & 153\\\\\n",
       "\t    5 & 0.2322275 & 571\\\\\n",
       "\t   40 & 0.2322275 & 118\\\\\n",
       "\t    6 & 0.2306477 & 543\\\\\n",
       "\t   10 & 0.2290679 & 377\\\\\n",
       "\t    4 & 0.2282780 & 627\\\\\n",
       "\t    7 & 0.2235387 & 477\\\\\n",
       "\t    9 & 0.2235387 & 411\\\\\n",
       "\t    8 & 0.2227488 & 435\\\\\n",
       "\\end{tabular}\n"
      ],
      "text/markdown": [
       "\n",
       "A matrix: 36 × 3 of type dbl\n",
       "\n",
       "|  400 | 0.2551343 |   7 |\n",
       "|  700 | 0.2535545 |   2 |\n",
       "|  350 | 0.2519747 |  10 |\n",
       "|  450 | 0.2519747 |   3 |\n",
       "| 3000 | 0.2511848 |   0 |\n",
       "|  800 | 0.2480253 |   2 |\n",
       "|  300 | 0.2472354 |  15 |\n",
       "|  500 | 0.2456556 |   2 |\n",
       "|  150 | 0.2440758 |  35 |\n",
       "|  250 | 0.2440758 |  20 |\n",
       "|  900 | 0.2440758 |   2 |\n",
       "|  600 | 0.2432859 |   2 |\n",
       "|   50 | 0.2424961 | 107 |\n",
       "|  200 | 0.2424961 |  25 |\n",
       "| 1000 | 0.2417062 |   2 |\n",
       "| 1500 | 0.2409163 |   1 |\n",
       "|   45 | 0.2401264 | 110 |\n",
       "| 2000 | 0.2401264 |   1 |\n",
       "| 2500 | 0.2401264 |   1 |\n",
       "|  100 | 0.2385466 |  53 |\n",
       "|    1 | 0.2377567 | 790 |\n",
       "|   20 | 0.2361769 | 240 |\n",
       "|    2 | 0.2353870 | 729 |\n",
       "|   25 | 0.2353870 | 194 |\n",
       "|   30 | 0.2353870 | 171 |\n",
       "|    3 | 0.2338073 | 664 |\n",
       "|   15 | 0.2330174 | 271 |\n",
       "|   35 | 0.2330174 | 153 |\n",
       "|    5 | 0.2322275 | 571 |\n",
       "|   40 | 0.2322275 | 118 |\n",
       "|    6 | 0.2306477 | 543 |\n",
       "|   10 | 0.2290679 | 377 |\n",
       "|    4 | 0.2282780 | 627 |\n",
       "|    7 | 0.2235387 | 477 |\n",
       "|    9 | 0.2235387 | 411 |\n",
       "|    8 | 0.2227488 | 435 |\n",
       "\n"
      ],
      "text/plain": [
       "      [,1] [,2]      [,3]\n",
       " [1,]  400 0.2551343   7 \n",
       " [2,]  700 0.2535545   2 \n",
       " [3,]  350 0.2519747  10 \n",
       " [4,]  450 0.2519747   3 \n",
       " [5,] 3000 0.2511848   0 \n",
       " [6,]  800 0.2480253   2 \n",
       " [7,]  300 0.2472354  15 \n",
       " [8,]  500 0.2456556   2 \n",
       " [9,]  150 0.2440758  35 \n",
       "[10,]  250 0.2440758  20 \n",
       "[11,]  900 0.2440758   2 \n",
       "[12,]  600 0.2432859   2 \n",
       "[13,]   50 0.2424961 107 \n",
       "[14,]  200 0.2424961  25 \n",
       "[15,] 1000 0.2417062   2 \n",
       "[16,] 1500 0.2409163   1 \n",
       "[17,]   45 0.2401264 110 \n",
       "[18,] 2000 0.2401264   1 \n",
       "[19,] 2500 0.2401264   1 \n",
       "[20,]  100 0.2385466  53 \n",
       "[21,]    1 0.2377567 790 \n",
       "[22,]   20 0.2361769 240 \n",
       "[23,]    2 0.2353870 729 \n",
       "[24,]   25 0.2353870 194 \n",
       "[25,]   30 0.2353870 171 \n",
       "[26,]    3 0.2338073 664 \n",
       "[27,]   15 0.2330174 271 \n",
       "[28,]   35 0.2330174 153 \n",
       "[29,]    5 0.2322275 571 \n",
       "[30,]   40 0.2322275 118 \n",
       "[31,]    6 0.2306477 543 \n",
       "[32,]   10 0.2290679 377 \n",
       "[33,]    4 0.2282780 627 \n",
       "[34,]    7 0.2235387 477 \n",
       "[35,]    9 0.2235387 411 \n",
       "[36,]    8 0.2227488 435 "
      ]
     },
     "metadata": {},
     "output_type": "display_data"
    }
   ],
   "source": [
    "k <- c(1:10, seq.int(15, 50, by=5), seq.int(100, 500, by=50), seq.int(600, 1000, by=100), seq.int(1500, 3000, by=500))\n",
    "mat <- feature.search(training, validation, k)\n",
    "mat[order(desc(mat[,2])),]"
   ]
  },
  {
   "cell_type": "code",
   "execution_count": 17,
   "id": "86b2365b-5b95-4d4b-be39-49d64d5fb26f",
   "metadata": {},
   "outputs": [
    {
     "data": {
      "text/html": [
       "0.251184834123223"
      ],
      "text/latex": [
       "0.251184834123223"
      ],
      "text/markdown": [
       "0.251184834123223"
      ],
      "text/plain": [
       "[1] 0.2511848"
      ]
     },
     "metadata": {},
     "output_type": "display_data"
    }
   ],
   "source": [
    "# Validation for k=0\n",
    "(train.n.apply(training, validation) |> filter(Labels==Labels.y) |> nrow()) / nrow(validation)"
   ]
  },
  {
   "cell_type": "markdown",
   "id": "47fd5efb-c242-4097-8510-a086c4497afc",
   "metadata": {},
   "source": [
    "The best model is $k=400$ (even if not significantly)"
   ]
  },
  {
   "cell_type": "markdown",
   "id": "9b6a2022-4e2f-433b-a3cd-6bf077f9378c",
   "metadata": {},
   "source": [
    "## Testing and results"
   ]
  },
  {
   "cell_type": "code",
   "execution_count": 20,
   "id": "0202a255-3a63-4054-9307-fbceb1f91ed0",
   "metadata": {},
   "outputs": [],
   "source": [
    "result <- train.n.apply(training, test, k=400)"
   ]
  },
  {
   "cell_type": "code",
   "execution_count": 21,
   "id": "2e1b35bd-4e34-439b-8c08-af48c945ef8f",
   "metadata": {},
   "outputs": [
    {
     "data": {
      "text/html": [
       "0.258271077908218"
      ],
      "text/latex": [
       "0.258271077908218"
      ],
      "text/markdown": [
       "0.258271077908218"
      ],
      "text/plain": [
       "[1] 0.2582711"
      ]
     },
     "metadata": {},
     "output_type": "display_data"
    }
   ],
   "source": [
    "(result |> filter(Labels==Labels.y) |> nrow()) / nrow(test)"
   ]
  },
  {
   "cell_type": "code",
   "execution_count": 24,
   "id": "3885bc6f-4fbd-4aae-9c99-b46509cad030",
   "metadata": {},
   "outputs": [
    {
     "data": {
      "text/html": [
       "<table class=\"dataframe\">\n",
       "<caption>A data.frame: 5 × 5</caption>\n",
       "<thead>\n",
       "\t<tr><th></th><th scope=col>0</th><th scope=col>1</th><th scope=col>2</th><th scope=col>3</th><th scope=col>5</th></tr>\n",
       "\t<tr><th></th><th scope=col>&lt;int&gt;</th><th scope=col>&lt;int&gt;</th><th scope=col>&lt;int&gt;</th><th scope=col>&lt;int&gt;</th><th scope=col>&lt;int&gt;</th></tr>\n",
       "</thead>\n",
       "<tbody>\n",
       "\t<tr><th scope=row>0</th><td>36</td><td>35</td><td>40</td><td>36</td><td>19</td></tr>\n",
       "\t<tr><th scope=row>1</th><td>33</td><td>58</td><td>34</td><td>34</td><td>25</td></tr>\n",
       "\t<tr><th scope=row>2</th><td>36</td><td>43</td><td>57</td><td>39</td><td>30</td></tr>\n",
       "\t<tr><th scope=row>3</th><td>28</td><td>35</td><td>58</td><td>55</td><td>44</td></tr>\n",
       "\t<tr><th scope=row>5</th><td>13</td><td>32</td><td>38</td><td>43</td><td>36</td></tr>\n",
       "</tbody>\n",
       "</table>\n"
      ],
      "text/latex": [
       "A data.frame: 5 × 5\n",
       "\\begin{tabular}{r|lllll}\n",
       "  & 0 & 1 & 2 & 3 & 5\\\\\n",
       "  & <int> & <int> & <int> & <int> & <int>\\\\\n",
       "\\hline\n",
       "\t0 & 36 & 35 & 40 & 36 & 19\\\\\n",
       "\t1 & 33 & 58 & 34 & 34 & 25\\\\\n",
       "\t2 & 36 & 43 & 57 & 39 & 30\\\\\n",
       "\t3 & 28 & 35 & 58 & 55 & 44\\\\\n",
       "\t5 & 13 & 32 & 38 & 43 & 36\\\\\n",
       "\\end{tabular}\n"
      ],
      "text/markdown": [
       "\n",
       "A data.frame: 5 × 5\n",
       "\n",
       "| <!--/--> | 0 &lt;int&gt; | 1 &lt;int&gt; | 2 &lt;int&gt; | 3 &lt;int&gt; | 5 &lt;int&gt; |\n",
       "|---|---|---|---|---|---|\n",
       "| 0 | 36 | 35 | 40 | 36 | 19 |\n",
       "| 1 | 33 | 58 | 34 | 34 | 25 |\n",
       "| 2 | 36 | 43 | 57 | 39 | 30 |\n",
       "| 3 | 28 | 35 | 58 | 55 | 44 |\n",
       "| 5 | 13 | 32 | 38 | 43 | 36 |\n",
       "\n"
      ],
      "text/plain": [
       "  0  1  2  3  5 \n",
       "0 36 35 40 36 19\n",
       "1 33 58 34 34 25\n",
       "2 36 43 57 39 30\n",
       "3 28 35 58 55 44\n",
       "5 13 32 38 43 36"
      ]
     },
     "metadata": {},
     "output_type": "display_data"
    }
   ],
   "source": [
    "# Confusion Matrix (rows are true labels)\n",
    "result |> count(Labels, Labels.y) |> pivot_wider(names_from=Labels.y, values_from=n) |> column_to_rownames(\"Labels\") "
   ]
  },
  {
   "cell_type": "markdown",
   "id": "5ef5874c-4849-4667-8c09-122248adec39",
   "metadata": {},
   "source": [
    "- True - 5\n",
    "- Mostly-True - 3\n",
    "- Half-True - 2\n",
    "- False - 1\n",
    "- Barely-True - 0"
   ]
  },
  {
   "cell_type": "markdown",
   "id": "9c3b55a5-9b4a-47cc-bc15-5c22f97789be",
   "metadata": {},
   "source": [
    "### Plot"
   ]
  },
  {
   "cell_type": "code",
   "execution_count": 30,
   "id": "f6d78aa2-ba51-4aef-af22-6831e44c6079",
   "metadata": {},
   "outputs": [],
   "source": [
    "k0 <- (train.n.apply(training, validation) |> filter(Labels==Labels.y) |> nrow()) / nrow(validation)"
   ]
  },
  {
   "cell_type": "code",
   "execution_count": 32,
   "id": "a2ebb1cd-4f3b-40d5-9970-890a4953ed99",
   "metadata": {},
   "outputs": [
    {
     "data": {
      "image/png": "[encoded data removed]",
      "text/plain": [
       "Plot with title “Validation Score”"
      ]
     },
     "metadata": {
      "image/png": {
       "height": 700,
       "width": 700
      }
     },
     "output_type": "display_data"
    }
   ],
   "source": [
    "# png(file=\"multiclass_validation.png\", width=800, height=800, pointsize=20)\n",
    "# options(repr.plot.res=1000)  # for presentation\n",
    "options(repr.plot.res=200)\n",
    "par(mar=c(5,5,4,1)+.1)\n",
    "plot(mat[,1], mat[,2], main=\"Validation Score\", xlab=\"Number of selected features\", ylab=\"Score\", log=\"x\", pch=20, cex.main=2.5, cex.lab=2, cex.axis=1.5, cex=2)\n",
    "grid()\n",
    "par(new=T, mar=c(5,5,4,1)+.1)\n",
    "plot(mat[,1], mat[,2], main=\"Validation Score\", xlab=\"Number of selected features\", ylab=\"Score\", log=\"x\", pch=20, cex.main=2.5, cex.lab=2, cex.axis=1.5, cex=2)\n",
    "abline(h=k0)\n",
    "legend(\"bottomright\", c(\"Mutual Information\", \"No Feature Selection\"), lty=c(NA, 1), pch=c(20, NA), cex=1.5)\n",
    "# dev.off()"
   ]
  },
  {
   "cell_type": "markdown",
   "id": "5595d345-932c-4624-b82f-118b58908751",
   "metadata": {},
   "source": [
    "---"
   ]
  },
  {
   "cell_type": "markdown",
   "id": "83414336-22fd-4854-92e1-e7545b14592c",
   "metadata": {},
   "source": [
    "# [Binary Dataset](https://www.kaggle.com/datasets/saurabhshahane/fake-news-classification)\n",
    "- 0 - True\n",
    "- 1 - Fake"
   ]
  },
  {
   "cell_type": "markdown",
   "id": "6d7832ad-008f-420a-9c58-538f523cc6fd",
   "metadata": {},
   "source": [
    "## Preprocessing"
   ]
  },
  {
   "cell_type": "code",
   "execution_count": 82,
   "id": "f1fd9b45-333d-4388-9fa4-4e45cefd0821",
   "metadata": {},
   "outputs": [],
   "source": [
    "data <- read.csv('data2/WELFake_Dataset.csv') |> select(Text=text, Labels=label)"
   ]
  },
  {
   "cell_type": "code",
   "execution_count": 57,
   "id": "544c147a-7a35-4d07-a17e-23644d68c907",
   "metadata": {},
   "outputs": [
    {
     "data": {
      "text/html": [
       "0"
      ],
      "text/latex": [
       "0"
      ],
      "text/markdown": [
       "0"
      ],
      "text/plain": [
       "[1] 0"
      ]
     },
     "metadata": {},
     "output_type": "display_data"
    }
   ],
   "source": [
    "sum(is.na(data))"
   ]
  },
  {
   "cell_type": "code",
   "execution_count": 12,
   "id": "29917a0c-598b-46d4-8690-a835a0b8b010",
   "metadata": {},
   "outputs": [
    {
     "data": {
      "text/html": [
       "<table class=\"dataframe\">\n",
       "<caption>A data.frame: 2 × 2</caption>\n",
       "<thead>\n",
       "\t<tr><th scope=col>Labels</th><th scope=col>n</th></tr>\n",
       "\t<tr><th scope=col>&lt;int&gt;</th><th scope=col>&lt;int&gt;</th></tr>\n",
       "</thead>\n",
       "<tbody>\n",
       "\t<tr><td>0</td><td>35028</td></tr>\n",
       "\t<tr><td>1</td><td>37106</td></tr>\n",
       "</tbody>\n",
       "</table>\n"
      ],
      "text/latex": [
       "A data.frame: 2 × 2\n",
       "\\begin{tabular}{ll}\n",
       " Labels & n\\\\\n",
       " <int> & <int>\\\\\n",
       "\\hline\n",
       "\t 0 & 35028\\\\\n",
       "\t 1 & 37106\\\\\n",
       "\\end{tabular}\n"
      ],
      "text/markdown": [
       "\n",
       "A data.frame: 2 × 2\n",
       "\n",
       "| Labels &lt;int&gt; | n &lt;int&gt; |\n",
       "|---|---|\n",
       "| 0 | 35028 |\n",
       "| 1 | 37106 |\n",
       "\n"
      ],
      "text/plain": [
       "  Labels n    \n",
       "1 0      35028\n",
       "2 1      37106"
      ]
     },
     "metadata": {},
     "output_type": "display_data"
    }
   ],
   "source": [
    "data |> count(Labels)"
   ]
  },
  {
   "cell_type": "code",
   "execution_count": 27,
   "id": "af0634cd-f0e5-4360-9be2-01a0ce997abf",
   "metadata": {},
   "outputs": [
    {
     "data": {
      "text/html": [
       "72134"
      ],
      "text/latex": [
       "72134"
      ],
      "text/markdown": [
       "72134"
      ],
      "text/plain": [
       "[1] 72134"
      ]
     },
     "metadata": {},
     "output_type": "display_data"
    },
    {
     "data": {
      "text/html": [
       "62720"
      ],
      "text/latex": [
       "62720"
      ],
      "text/markdown": [
       "62720"
      ],
      "text/plain": [
       "[1] 62720"
      ]
     },
     "metadata": {},
     "output_type": "display_data"
    }
   ],
   "source": [
    "data |> nrow()\n",
    "data |> distinct() |> nrow()"
   ]
  },
  {
   "cell_type": "code",
   "execution_count": 58,
   "id": "cd3e959e-9dfb-47bc-97cf-14cd5c65785d",
   "metadata": {
    "vscode": {
     "languageId": "r"
    }
   },
   "outputs": [
    {
     "data": {
      "text/html": [
       "62720"
      ],
      "text/latex": [
       "62720"
      ],
      "text/markdown": [
       "62720"
      ],
      "text/plain": [
       "[1] 62720"
      ]
     },
     "metadata": {},
     "output_type": "display_data"
    }
   ],
   "source": [
    "data <- data |> distinct()  # drop row duplicates (equal labels & Text)\n",
    "nrow(data)"
   ]
  },
  {
   "cell_type": "code",
   "execution_count": 59,
   "id": "5802077a-185b-4f1d-a8c9-2dfc0c3cae91",
   "metadata": {},
   "outputs": [
    {
     "data": {
      "text/html": [
       "<table class=\"dataframe\">\n",
       "<caption>A data.frame: 2 × 2</caption>\n",
       "<thead>\n",
       "\t<tr><th scope=col>Labels</th><th scope=col>n</th></tr>\n",
       "\t<tr><th scope=col>&lt;int&gt;</th><th scope=col>&lt;int&gt;</th></tr>\n",
       "</thead>\n",
       "<tbody>\n",
       "\t<tr><td>0</td><td>34621</td></tr>\n",
       "\t<tr><td>1</td><td>28099</td></tr>\n",
       "</tbody>\n",
       "</table>\n"
      ],
      "text/latex": [
       "A data.frame: 2 × 2\n",
       "\\begin{tabular}{ll}\n",
       " Labels & n\\\\\n",
       " <int> & <int>\\\\\n",
       "\\hline\n",
       "\t 0 & 34621\\\\\n",
       "\t 1 & 28099\\\\\n",
       "\\end{tabular}\n"
      ],
      "text/markdown": [
       "\n",
       "A data.frame: 2 × 2\n",
       "\n",
       "| Labels &lt;int&gt; | n &lt;int&gt; |\n",
       "|---|---|\n",
       "| 0 | 34621 |\n",
       "| 1 | 28099 |\n",
       "\n"
      ],
      "text/plain": [
       "  Labels n    \n",
       "1 0      34621\n",
       "2 1      28099"
      ]
     },
     "metadata": {},
     "output_type": "display_data"
    }
   ],
   "source": [
    "data |> count(Labels)"
   ]
  },
  {
   "cell_type": "code",
   "execution_count": 29,
   "id": "aca34feb-0d7f-43a7-ab23-486cde78d481",
   "metadata": {},
   "outputs": [
    {
     "data": {
      "text/html": [
       "' '"
      ],
      "text/latex": [
       "' '"
      ],
      "text/markdown": [
       "' '"
      ],
      "text/plain": [
       "[1] \" \""
      ]
     },
     "metadata": {},
     "output_type": "display_data"
    }
   ],
   "source": [
    "data[duplicated(data$Text),]$Text"
   ]
  },
  {
   "cell_type": "raw",
   "id": "97eab19e-da60-478e-93b6-1633fb296035",
   "metadata": {
    "vscode": {
     "languageId": "r"
    }
   },
   "source": [
    "# Separating the sets\n",
    "test <- slice_sample(data, prop=.10)\n",
    "new_data <- setdiff(data, test)\n",
    "validation <- slice_sample(new_data, prop=.15)\n",
    "training <- setdiff(new_data, validation)\n",
    "\n",
    "dfs <- list(test=test, validation=validation, training=training)\n",
    "for (name in names(dfs)) write_csv(dfs[[name]], paste0('data2/', name, '.csv'))"
   ]
  },
  {
   "cell_type": "markdown",
   "id": "2521b708-624d-4cec-92f4-2dc8d718c40f",
   "metadata": {},
   "source": [
    "## Training"
   ]
  },
  {
   "cell_type": "code",
   "execution_count": 33,
   "id": "5d9f066b-6eaa-483f-a2b5-7ed630b623d5",
   "metadata": {},
   "outputs": [
    {
     "name": "stderr",
     "output_type": "stream",
     "text": [
      "\u001b[1mRows: \u001b[22m\u001b[34m47981\u001b[39m \u001b[1mColumns: \u001b[22m\u001b[34m2\u001b[39m\n",
      "\u001b[36m──\u001b[39m \u001b[1mColumn specification\u001b[22m \u001b[36m────────────────────────────────────────────────────────\u001b[39m\n",
      "\u001b[1mDelimiter:\u001b[22m \",\"\n",
      "\u001b[31mchr\u001b[39m (1): Text\n",
      "\u001b[32mdbl\u001b[39m (1): Labels\n",
      "\n",
      "\u001b[36mℹ\u001b[39m Use `spec()` to retrieve the full column specification for this data.\n",
      "\u001b[36mℹ\u001b[39m Specify the column types or set `show_col_types = FALSE` to quiet this message.\n",
      "\u001b[1mRows: \u001b[22m\u001b[34m8467\u001b[39m \u001b[1mColumns: \u001b[22m\u001b[34m2\u001b[39m\n",
      "\u001b[36m──\u001b[39m \u001b[1mColumn specification\u001b[22m \u001b[36m────────────────────────────────────────────────────────\u001b[39m\n",
      "\u001b[1mDelimiter:\u001b[22m \",\"\n",
      "\u001b[31mchr\u001b[39m (1): Text\n",
      "\u001b[32mdbl\u001b[39m (1): Labels\n",
      "\n",
      "\u001b[36mℹ\u001b[39m Use `spec()` to retrieve the full column specification for this data.\n",
      "\u001b[36mℹ\u001b[39m Specify the column types or set `show_col_types = FALSE` to quiet this message.\n",
      "\u001b[1mRows: \u001b[22m\u001b[34m6272\u001b[39m \u001b[1mColumns: \u001b[22m\u001b[34m2\u001b[39m\n",
      "\u001b[36m──\u001b[39m \u001b[1mColumn specification\u001b[22m \u001b[36m────────────────────────────────────────────────────────\u001b[39m\n",
      "\u001b[1mDelimiter:\u001b[22m \",\"\n",
      "\u001b[31mchr\u001b[39m (1): Text\n",
      "\u001b[32mdbl\u001b[39m (1): Labels\n",
      "\n",
      "\u001b[36mℹ\u001b[39m Use `spec()` to retrieve the full column specification for this data.\n",
      "\u001b[36mℹ\u001b[39m Specify the column types or set `show_col_types = FALSE` to quiet this message.\n"
     ]
    }
   ],
   "source": [
    "training <- read_csv('data2/training.csv')\n",
    "validation <- read_csv('data2/validation.csv')\n",
    "test <- read_csv('data2/test.csv')"
   ]
  },
  {
   "cell_type": "code",
   "execution_count": 41,
   "id": "77c4e206-f81e-4af1-8b75-39037c55ec1c",
   "metadata": {},
   "outputs": [
    {
     "data": {
      "text/html": [
       "<table class=\"dataframe\">\n",
       "<caption>A tibble: 2 × 2</caption>\n",
       "<thead>\n",
       "\t<tr><th scope=col>Labels</th><th scope=col>n</th></tr>\n",
       "\t<tr><th scope=col>&lt;dbl&gt;</th><th scope=col>&lt;int&gt;</th></tr>\n",
       "</thead>\n",
       "<tbody>\n",
       "\t<tr><td>0</td><td>109728</td></tr>\n",
       "\t<tr><td>1</td><td>223206</td></tr>\n",
       "</tbody>\n",
       "</table>\n"
      ],
      "text/latex": [
       "A tibble: 2 × 2\n",
       "\\begin{tabular}{ll}\n",
       " Labels & n\\\\\n",
       " <dbl> & <int>\\\\\n",
       "\\hline\n",
       "\t 0 & 109728\\\\\n",
       "\t 1 & 223206\\\\\n",
       "\\end{tabular}\n"
      ],
      "text/markdown": [
       "\n",
       "A tibble: 2 × 2\n",
       "\n",
       "| Labels &lt;dbl&gt; | n &lt;int&gt; |\n",
       "|---|---|\n",
       "| 0 | 109728 |\n",
       "| 1 | 223206 |\n",
       "\n"
      ],
      "text/plain": [
       "  Labels n     \n",
       "1 0      109728\n",
       "2 1      223206"
      ]
     },
     "metadata": {},
     "output_type": "display_data"
    }
   ],
   "source": [
    "training |> tokenise() |> distinct(Labels, word) |> count(Labels)"
   ]
  },
  {
   "cell_type": "code",
   "execution_count": 10,
   "id": "5b5ee996-bb73-4437-b8ae-76ca05828baf",
   "metadata": {
    "scrolled": true
   },
   "outputs": [
    {
     "name": "stdout",
     "output_type": "stream",
     "text": [
      "5 10 15 20 25 30 35 40 45 50 100 150 200 250 300 350 400 450 500 600 700 800 900 1000 1500 2000 2500 3000 3500 4000 4500 5000 5500 6000 6500 7000 7500 8000 8500 9000 9500 10000 20000 30000 40000 50000 60000 70000 80000 90000 1e+05 "
     ]
    },
    {
     "data": {
      "text/html": [
       "<table class=\"dataframe\">\n",
       "<caption>A matrix: 51 × 3 of type dbl</caption>\n",
       "<tbody>\n",
       "\t<tr><td> 50000</td><td>0.9007913</td><td>   2</td></tr>\n",
       "\t<tr><td> 60000</td><td>0.9007913</td><td>   2</td></tr>\n",
       "\t<tr><td> 70000</td><td>0.9007913</td><td>   2</td></tr>\n",
       "\t<tr><td> 80000</td><td>0.9007913</td><td>   2</td></tr>\n",
       "\t<tr><td> 90000</td><td>0.9007913</td><td>   2</td></tr>\n",
       "\t<tr><td>100000</td><td>0.9007913</td><td>   2</td></tr>\n",
       "\t<tr><td> 40000</td><td>0.8941774</td><td>   9</td></tr>\n",
       "\t<tr><td> 30000</td><td>0.8934688</td><td>  10</td></tr>\n",
       "\t<tr><td> 20000</td><td>0.8932325</td><td>  10</td></tr>\n",
       "\t<tr><td>  8000</td><td>0.8922877</td><td>  14</td></tr>\n",
       "\t<tr><td> 10000</td><td>0.8920515</td><td>  13</td></tr>\n",
       "\t<tr><td>  8500</td><td>0.8915791</td><td>  14</td></tr>\n",
       "\t<tr><td>  6500</td><td>0.8914610</td><td>  14</td></tr>\n",
       "\t<tr><td>  5000</td><td>0.8913429</td><td>  15</td></tr>\n",
       "\t<tr><td>  6000</td><td>0.8913429</td><td>  14</td></tr>\n",
       "\t<tr><td>  9000</td><td>0.8913429</td><td>  14</td></tr>\n",
       "\t<tr><td>  7500</td><td>0.8912248</td><td>  14</td></tr>\n",
       "\t<tr><td>  9500</td><td>0.8912248</td><td>  13</td></tr>\n",
       "\t<tr><td>  7000</td><td>0.8908704</td><td>  14</td></tr>\n",
       "\t<tr><td>  5500</td><td>0.8907523</td><td>  14</td></tr>\n",
       "\t<tr><td>  3500</td><td>0.8896894</td><td>  15</td></tr>\n",
       "\t<tr><td>  4500</td><td>0.8894532</td><td>  15</td></tr>\n",
       "\t<tr><td>  3000</td><td>0.8886264</td><td>  17</td></tr>\n",
       "\t<tr><td>  4000</td><td>0.8877997</td><td>  15</td></tr>\n",
       "\t<tr><td>  2500</td><td>0.8854376</td><td>  19</td></tr>\n",
       "\t<tr><td>  2000</td><td>0.8840203</td><td>  20</td></tr>\n",
       "\t<tr><td>  1500</td><td>0.8820125</td><td>  22</td></tr>\n",
       "\t<tr><td>  1000</td><td>0.8787056</td><td>  31</td></tr>\n",
       "\t<tr><td>   900</td><td>0.8777607</td><td>  35</td></tr>\n",
       "\t<tr><td>   800</td><td>0.8743357</td><td>  39</td></tr>\n",
       "\t<tr><td>   500</td><td>0.8722098</td><td>  71</td></tr>\n",
       "\t<tr><td>   700</td><td>0.8706744</td><td>  61</td></tr>\n",
       "\t<tr><td>   600</td><td>0.8699657</td><td>  63</td></tr>\n",
       "\t<tr><td>   450</td><td>0.8697295</td><td>  73</td></tr>\n",
       "\t<tr><td>   350</td><td>0.8655958</td><td>  88</td></tr>\n",
       "\t<tr><td>   400</td><td>0.8652415</td><td>  79</td></tr>\n",
       "\t<tr><td>   300</td><td>0.8645329</td><td>  95</td></tr>\n",
       "\t<tr><td>   250</td><td>0.8627613</td><td>  98</td></tr>\n",
       "\t<tr><td>   200</td><td>0.8600449</td><td> 106</td></tr>\n",
       "\t<tr><td>   150</td><td>0.8501240</td><td> 138</td></tr>\n",
       "\t<tr><td>   100</td><td>0.8411480</td><td> 163</td></tr>\n",
       "\t<tr><td>    50</td><td>0.8267391</td><td> 260</td></tr>\n",
       "\t<tr><td>    45</td><td>0.8210700</td><td> 269</td></tr>\n",
       "\t<tr><td>    40</td><td>0.8159915</td><td> 295</td></tr>\n",
       "\t<tr><td>    30</td><td>0.8157553</td><td> 338</td></tr>\n",
       "\t<tr><td>    35</td><td>0.8152829</td><td> 324</td></tr>\n",
       "\t<tr><td>    25</td><td>0.7959135</td><td> 467</td></tr>\n",
       "\t<tr><td>    20</td><td>0.7798512</td><td> 605</td></tr>\n",
       "\t<tr><td>    15</td><td>0.7786701</td><td> 797</td></tr>\n",
       "\t<tr><td>    10</td><td>0.7706390</td><td> 886</td></tr>\n",
       "\t<tr><td>     5</td><td>0.7513877</td><td>1046</td></tr>\n",
       "</tbody>\n",
       "</table>\n"
      ],
      "text/latex": [
       "A matrix: 51 × 3 of type dbl\n",
       "\\begin{tabular}{lll}\n",
       "\t  50000 & 0.9007913 &    2\\\\\n",
       "\t  60000 & 0.9007913 &    2\\\\\n",
       "\t  70000 & 0.9007913 &    2\\\\\n",
       "\t  80000 & 0.9007913 &    2\\\\\n",
       "\t  90000 & 0.9007913 &    2\\\\\n",
       "\t 100000 & 0.9007913 &    2\\\\\n",
       "\t  40000 & 0.8941774 &    9\\\\\n",
       "\t  30000 & 0.8934688 &   10\\\\\n",
       "\t  20000 & 0.8932325 &   10\\\\\n",
       "\t   8000 & 0.8922877 &   14\\\\\n",
       "\t  10000 & 0.8920515 &   13\\\\\n",
       "\t   8500 & 0.8915791 &   14\\\\\n",
       "\t   6500 & 0.8914610 &   14\\\\\n",
       "\t   5000 & 0.8913429 &   15\\\\\n",
       "\t   6000 & 0.8913429 &   14\\\\\n",
       "\t   9000 & 0.8913429 &   14\\\\\n",
       "\t   7500 & 0.8912248 &   14\\\\\n",
       "\t   9500 & 0.8912248 &   13\\\\\n",
       "\t   7000 & 0.8908704 &   14\\\\\n",
       "\t   5500 & 0.8907523 &   14\\\\\n",
       "\t   3500 & 0.8896894 &   15\\\\\n",
       "\t   4500 & 0.8894532 &   15\\\\\n",
       "\t   3000 & 0.8886264 &   17\\\\\n",
       "\t   4000 & 0.8877997 &   15\\\\\n",
       "\t   2500 & 0.8854376 &   19\\\\\n",
       "\t   2000 & 0.8840203 &   20\\\\\n",
       "\t   1500 & 0.8820125 &   22\\\\\n",
       "\t   1000 & 0.8787056 &   31\\\\\n",
       "\t    900 & 0.8777607 &   35\\\\\n",
       "\t    800 & 0.8743357 &   39\\\\\n",
       "\t    500 & 0.8722098 &   71\\\\\n",
       "\t    700 & 0.8706744 &   61\\\\\n",
       "\t    600 & 0.8699657 &   63\\\\\n",
       "\t    450 & 0.8697295 &   73\\\\\n",
       "\t    350 & 0.8655958 &   88\\\\\n",
       "\t    400 & 0.8652415 &   79\\\\\n",
       "\t    300 & 0.8645329 &   95\\\\\n",
       "\t    250 & 0.8627613 &   98\\\\\n",
       "\t    200 & 0.8600449 &  106\\\\\n",
       "\t    150 & 0.8501240 &  138\\\\\n",
       "\t    100 & 0.8411480 &  163\\\\\n",
       "\t     50 & 0.8267391 &  260\\\\\n",
       "\t     45 & 0.8210700 &  269\\\\\n",
       "\t     40 & 0.8159915 &  295\\\\\n",
       "\t     30 & 0.8157553 &  338\\\\\n",
       "\t     35 & 0.8152829 &  324\\\\\n",
       "\t     25 & 0.7959135 &  467\\\\\n",
       "\t     20 & 0.7798512 &  605\\\\\n",
       "\t     15 & 0.7786701 &  797\\\\\n",
       "\t     10 & 0.7706390 &  886\\\\\n",
       "\t      5 & 0.7513877 & 1046\\\\\n",
       "\\end{tabular}\n"
      ],
      "text/markdown": [
       "\n",
       "A matrix: 51 × 3 of type dbl\n",
       "\n",
       "|  50000 | 0.9007913 |    2 |\n",
       "|  60000 | 0.9007913 |    2 |\n",
       "|  70000 | 0.9007913 |    2 |\n",
       "|  80000 | 0.9007913 |    2 |\n",
       "|  90000 | 0.9007913 |    2 |\n",
       "| 100000 | 0.9007913 |    2 |\n",
       "|  40000 | 0.8941774 |    9 |\n",
       "|  30000 | 0.8934688 |   10 |\n",
       "|  20000 | 0.8932325 |   10 |\n",
       "|   8000 | 0.8922877 |   14 |\n",
       "|  10000 | 0.8920515 |   13 |\n",
       "|   8500 | 0.8915791 |   14 |\n",
       "|   6500 | 0.8914610 |   14 |\n",
       "|   5000 | 0.8913429 |   15 |\n",
       "|   6000 | 0.8913429 |   14 |\n",
       "|   9000 | 0.8913429 |   14 |\n",
       "|   7500 | 0.8912248 |   14 |\n",
       "|   9500 | 0.8912248 |   13 |\n",
       "|   7000 | 0.8908704 |   14 |\n",
       "|   5500 | 0.8907523 |   14 |\n",
       "|   3500 | 0.8896894 |   15 |\n",
       "|   4500 | 0.8894532 |   15 |\n",
       "|   3000 | 0.8886264 |   17 |\n",
       "|   4000 | 0.8877997 |   15 |\n",
       "|   2500 | 0.8854376 |   19 |\n",
       "|   2000 | 0.8840203 |   20 |\n",
       "|   1500 | 0.8820125 |   22 |\n",
       "|   1000 | 0.8787056 |   31 |\n",
       "|    900 | 0.8777607 |   35 |\n",
       "|    800 | 0.8743357 |   39 |\n",
       "|    500 | 0.8722098 |   71 |\n",
       "|    700 | 0.8706744 |   61 |\n",
       "|    600 | 0.8699657 |   63 |\n",
       "|    450 | 0.8697295 |   73 |\n",
       "|    350 | 0.8655958 |   88 |\n",
       "|    400 | 0.8652415 |   79 |\n",
       "|    300 | 0.8645329 |   95 |\n",
       "|    250 | 0.8627613 |   98 |\n",
       "|    200 | 0.8600449 |  106 |\n",
       "|    150 | 0.8501240 |  138 |\n",
       "|    100 | 0.8411480 |  163 |\n",
       "|     50 | 0.8267391 |  260 |\n",
       "|     45 | 0.8210700 |  269 |\n",
       "|     40 | 0.8159915 |  295 |\n",
       "|     30 | 0.8157553 |  338 |\n",
       "|     35 | 0.8152829 |  324 |\n",
       "|     25 | 0.7959135 |  467 |\n",
       "|     20 | 0.7798512 |  605 |\n",
       "|     15 | 0.7786701 |  797 |\n",
       "|     10 | 0.7706390 |  886 |\n",
       "|      5 | 0.7513877 | 1046 |\n",
       "\n"
      ],
      "text/plain": [
       "      [,1]   [,2]      [,3]\n",
       " [1,]  50000 0.9007913    2\n",
       " [2,]  60000 0.9007913    2\n",
       " [3,]  70000 0.9007913    2\n",
       " [4,]  80000 0.9007913    2\n",
       " [5,]  90000 0.9007913    2\n",
       " [6,] 100000 0.9007913    2\n",
       " [7,]  40000 0.8941774    9\n",
       " [8,]  30000 0.8934688   10\n",
       " [9,]  20000 0.8932325   10\n",
       "[10,]   8000 0.8922877   14\n",
       "[11,]  10000 0.8920515   13\n",
       "[12,]   8500 0.8915791   14\n",
       "[13,]   6500 0.8914610   14\n",
       "[14,]   5000 0.8913429   15\n",
       "[15,]   6000 0.8913429   14\n",
       "[16,]   9000 0.8913429   14\n",
       "[17,]   7500 0.8912248   14\n",
       "[18,]   9500 0.8912248   13\n",
       "[19,]   7000 0.8908704   14\n",
       "[20,]   5500 0.8907523   14\n",
       "[21,]   3500 0.8896894   15\n",
       "[22,]   4500 0.8894532   15\n",
       "[23,]   3000 0.8886264   17\n",
       "[24,]   4000 0.8877997   15\n",
       "[25,]   2500 0.8854376   19\n",
       "[26,]   2000 0.8840203   20\n",
       "[27,]   1500 0.8820125   22\n",
       "[28,]   1000 0.8787056   31\n",
       "[29,]    900 0.8777607   35\n",
       "[30,]    800 0.8743357   39\n",
       "[31,]    500 0.8722098   71\n",
       "[32,]    700 0.8706744   61\n",
       "[33,]    600 0.8699657   63\n",
       "[34,]    450 0.8697295   73\n",
       "[35,]    350 0.8655958   88\n",
       "[36,]    400 0.8652415   79\n",
       "[37,]    300 0.8645329   95\n",
       "[38,]    250 0.8627613   98\n",
       "[39,]    200 0.8600449  106\n",
       "[40,]    150 0.8501240  138\n",
       "[41,]    100 0.8411480  163\n",
       "[42,]     50 0.8267391  260\n",
       "[43,]     45 0.8210700  269\n",
       "[44,]     40 0.8159915  295\n",
       "[45,]     30 0.8157553  338\n",
       "[46,]     35 0.8152829  324\n",
       "[47,]     25 0.7959135  467\n",
       "[48,]     20 0.7798512  605\n",
       "[49,]     15 0.7786701  797\n",
       "[50,]     10 0.7706390  886\n",
       "[51,]      5 0.7513877 1046"
      ]
     },
     "metadata": {},
     "output_type": "display_data"
    }
   ],
   "source": [
    "k <- c(seq.int(5, 50, by=5), seq.int(100, 500, by=50), seq.int(600, 1000, by=100), seq.int(1500, 10e3L, by=500), seq.int(20e3L, 1e5L, by=10e3L))\n",
    "mat2 <- feature.search(training, validation, k)\n",
    "mat2[order(desc(mat2[,2])),]"
   ]
  },
  {
   "cell_type": "code",
   "execution_count": 39,
   "id": "822bb33d-84b0-464e-89dc-f043275d4988",
   "metadata": {},
   "outputs": [
    {
     "name": "stdout",
     "output_type": "stream",
     "text": [
      "0 "
     ]
    },
    {
     "data": {
      "text/html": [
       "<table class=\"dataframe\">\n",
       "<caption>A matrix: 1 × 3 of type dbl</caption>\n",
       "<tbody>\n",
       "\t<tr><td>0</td><td>0.9007913</td><td>2</td></tr>\n",
       "</tbody>\n",
       "</table>\n"
      ],
      "text/latex": [
       "A matrix: 1 × 3 of type dbl\n",
       "\\begin{tabular}{lll}\n",
       "\t 0 & 0.9007913 & 2\\\\\n",
       "\\end{tabular}\n"
      ],
      "text/markdown": [
       "\n",
       "A matrix: 1 × 3 of type dbl\n",
       "\n",
       "| 0 | 0.9007913 | 2 |\n",
       "\n"
      ],
      "text/plain": [
       "     [,1] [,2]      [,3]\n",
       "[1,] 0    0.9007913 2   "
      ]
     },
     "metadata": {},
     "output_type": "display_data"
    }
   ],
   "source": [
    "feature.search(training, validation, 0)"
   ]
  },
  {
   "cell_type": "markdown",
   "id": "bacbf48a-5e03-4f2d-9179-01854d81dc3a",
   "metadata": {},
   "source": [
    "- Fake <- 0\n",
    "- True <- 1"
   ]
  },
  {
   "cell_type": "markdown",
   "id": "b27ae104-0624-4a34-89e0-8cdcd6b54ca3",
   "metadata": {},
   "source": [
    "## Results"
   ]
  },
  {
   "cell_type": "code",
   "execution_count": 39,
   "id": "18979a85-be8b-4007-8f1b-cf1686def4d6",
   "metadata": {},
   "outputs": [
    {
     "data": {
      "text/html": [
       "0.902582908163265"
      ],
      "text/latex": [
       "0.902582908163265"
      ],
      "text/markdown": [
       "0.902582908163265"
      ],
      "text/plain": [
       "[1] 0.9025829"
      ]
     },
     "metadata": {},
     "output_type": "display_data"
    }
   ],
   "source": [
    "result <- train.n.apply(training, test, k=0)\n",
    "(result |> filter(Labels==Labels.y) |> nrow()) / nrow(test)"
   ]
  },
  {
   "cell_type": "code",
   "execution_count": 40,
   "id": "1bba9002-3e11-448f-aa81-f16219061faa",
   "metadata": {},
   "outputs": [
    {
     "data": {
      "text/html": [
       "<table class=\"dataframe\">\n",
       "<caption>A data.frame: 2 × 2</caption>\n",
       "<thead>\n",
       "\t<tr><th></th><th scope=col>0</th><th scope=col>1</th></tr>\n",
       "\t<tr><th></th><th scope=col>&lt;int&gt;</th><th scope=col>&lt;int&gt;</th></tr>\n",
       "</thead>\n",
       "<tbody>\n",
       "\t<tr><th scope=row>0</th><td>3312</td><td> 181</td></tr>\n",
       "\t<tr><th scope=row>1</th><td> 430</td><td>2349</td></tr>\n",
       "</tbody>\n",
       "</table>\n"
      ],
      "text/latex": [
       "A data.frame: 2 × 2\n",
       "\\begin{tabular}{r|ll}\n",
       "  & 0 & 1\\\\\n",
       "  & <int> & <int>\\\\\n",
       "\\hline\n",
       "\t0 & 3312 &  181\\\\\n",
       "\t1 &  430 & 2349\\\\\n",
       "\\end{tabular}\n"
      ],
      "text/markdown": [
       "\n",
       "A data.frame: 2 × 2\n",
       "\n",
       "| <!--/--> | 0 &lt;int&gt; | 1 &lt;int&gt; |\n",
       "|---|---|---|\n",
       "| 0 | 3312 |  181 |\n",
       "| 1 |  430 | 2349 |\n",
       "\n"
      ],
      "text/plain": [
       "  0    1   \n",
       "0 3312  181\n",
       "1  430 2349"
      ]
     },
     "metadata": {},
     "output_type": "display_data"
    }
   ],
   "source": [
    "# Confusion Matrix (rows are true labels)\n",
    "result |> count(Labels, Labels.y) |> pivot_wider(names_from=Labels.y, values_from=n) |> column_to_rownames(\"Labels\") "
   ]
  },
  {
   "cell_type": "code",
   "execution_count": 37,
   "id": "e20a3842-eaf3-4268-9643-44349d152d37",
   "metadata": {},
   "outputs": [
    {
     "data": {
      "text/html": [
       "0.900791307428841"
      ],
      "text/latex": [
       "0.900791307428841"
      ],
      "text/markdown": [
       "0.900791307428841"
      ],
      "text/plain": [
       "[1] 0.9007913"
      ]
     },
     "metadata": {},
     "output_type": "display_data"
    }
   ],
   "source": [
    "k0 <- (train.n.apply(training, validation, k=0) |> filter(Labels==Labels.y) |> nrow()) / nrow(validation)\n",
    "k0"
   ]
  },
  {
   "cell_type": "code",
   "execution_count": 38,
   "id": "7c48aba1-b8e9-4a1c-be8b-ba608da95004",
   "metadata": {},
   "outputs": [
    {
     "data": {
      "image/png": "[encoded data removed]",
      "text/plain": [
       "Plot with title “Validation Score”"
      ]
     },
     "metadata": {
      "image/png": {
       "height": 700,
       "width": 700
      }
     },
     "output_type": "display_data"
    }
   ],
   "source": [
    "# png(file=\"binary_validation.png\", width=800, height=800, pointsize=20)\n",
    "# options(repr.plot.res=1000)\n",
    "options(repr.plot.res=200)\n",
    "par(mar=c(5,5,4,1)+.1)\n",
    "plot(mat2[,1], mat2[,2], main=\"Validation Score\", xlab=\"Number of selected features\", ylab=\"Score\", log=\"x\", pch=20, cex.main=2.5, cex.lab=2, cex.axis=1.5, cex=2)\n",
    "grid()\n",
    "par(new=T, mar=c(5,5,4,1)+.1)\n",
    "plot(mat2[,1], mat2[,2], main=\"Validation Score\", xlab=\"Number of selected features\", ylab=\"Score\", log=\"x\", pch=20, cex.main=2.5, cex.lab=2, cex.axis=1.5, cex=2)\n",
    "abline(h=k0)\n",
    "legend(\"bottomright\", c(\"Mutual Information\", \"No Feature Selection\"), lty=c(NA, 1), pch=c(20, NA), cex=1.5)\n",
    "# dev.off()"
   ]
  },
  {
   "cell_type": "markdown",
   "id": "82b40a53-71c9-4f60-a3e2-a83da8e96269",
   "metadata": {},
   "source": [
    "---"
   ]
  },
  {
   "cell_type": "markdown",
   "id": "7a694036-e321-4da8-9648-5f3d113cfee2",
   "metadata": {},
   "source": [
    "# Appendix"
   ]
  },
  {
   "cell_type": "markdown",
   "id": "34d697f4-0b45-4438-aa5c-4396363d2d52",
   "metadata": {},
   "source": [
    "## Binary Data 1"
   ]
  },
  {
   "cell_type": "code",
   "execution_count": 42,
   "id": "415be6eb-f7cb-438a-ba54-23fa9c413e80",
   "metadata": {},
   "outputs": [
    {
     "data": {
      "text/html": [
       "<table class=\"dataframe\">\n",
       "<caption>A spec_tbl_df: 2 × 2</caption>\n",
       "<thead>\n",
       "\t<tr><th scope=col>Labels</th><th scope=col>n</th></tr>\n",
       "\t<tr><th scope=col>&lt;dbl&gt;</th><th scope=col>&lt;int&gt;</th></tr>\n",
       "</thead>\n",
       "<tbody>\n",
       "\t<tr><td>1</td><td>1524</td></tr>\n",
       "\t<tr><td>5</td><td>1300</td></tr>\n",
       "</tbody>\n",
       "</table>\n"
      ],
      "text/latex": [
       "A spec\\_tbl\\_df: 2 × 2\n",
       "\\begin{tabular}{ll}\n",
       " Labels & n\\\\\n",
       " <dbl> & <int>\\\\\n",
       "\\hline\n",
       "\t 1 & 1524\\\\\n",
       "\t 5 & 1300\\\\\n",
       "\\end{tabular}\n"
      ],
      "text/markdown": [
       "\n",
       "A spec_tbl_df: 2 × 2\n",
       "\n",
       "| Labels &lt;dbl&gt; | n &lt;int&gt; |\n",
       "|---|---|\n",
       "| 1 | 1524 |\n",
       "| 5 | 1300 |\n",
       "\n"
      ],
      "text/plain": [
       "  Labels n   \n",
       "1 1      1524\n",
       "2 5      1300"
      ]
     },
     "metadata": {},
     "output_type": "display_data"
    }
   ],
   "source": [
    "training |> filter(Labels %in% c(1,5)) |> count(Labels)"
   ]
  },
  {
   "cell_type": "code",
   "execution_count": 43,
   "id": "cc1e5d88-81b9-4355-a8e6-3eb918867de0",
   "metadata": {},
   "outputs": [
    {
     "data": {
      "text/html": [
       "0.605749486652977"
      ],
      "text/latex": [
       "0.605749486652977"
      ],
      "text/markdown": [
       "0.605749486652977"
      ],
      "text/plain": [
       "[1] 0.6057495"
      ]
     },
     "metadata": {},
     "output_type": "display_data"
    }
   ],
   "source": [
    "pred <- train.n.apply((training |> filter(Labels %in% c(1,5))), (validation |> filter(Labels %in% c(1,5))), k=0)\n",
    "(pred |> filter(Labels==Labels.y) |> nrow()) / nrow(validation |> filter(Labels %in% c(1,5)))"
   ]
  },
  {
   "cell_type": "code",
   "execution_count": 44,
   "id": "fbe04457-b463-4743-97b4-cc0f57137bce",
   "metadata": {
    "scrolled": true
   },
   "outputs": [
    {
     "name": "stdout",
     "output_type": "stream",
     "text": [
      "1 2 3 4 5 6 7 8 9 10 15 20 25 30 35 40 45 50 100 150 200 250 300 350 400 450 500 600 700 800 900 1000 1500 2000 2500 3000 "
     ]
    },
    {
     "data": {
      "text/html": [
       "<table class=\"dataframe\">\n",
       "<caption>A matrix: 36 × 3 of type dbl</caption>\n",
       "<tbody>\n",
       "\t<tr><td>  30</td><td>0.6324435</td><td>232</td></tr>\n",
       "\t<tr><td> 100</td><td>0.6324435</td><td> 98</td></tr>\n",
       "\t<tr><td>  25</td><td>0.6262834</td><td>241</td></tr>\n",
       "\t<tr><td>  50</td><td>0.6262834</td><td>150</td></tr>\n",
       "\t<tr><td>  35</td><td>0.6242300</td><td>162</td></tr>\n",
       "\t<tr><td>  40</td><td>0.6221766</td><td>157</td></tr>\n",
       "\t<tr><td>  20</td><td>0.6201232</td><td>267</td></tr>\n",
       "\t<tr><td>  45</td><td>0.6201232</td><td>153</td></tr>\n",
       "\t<tr><td> 800</td><td>0.6201232</td><td> 10</td></tr>\n",
       "\t<tr><td> 450</td><td>0.6180698</td><td> 19</td></tr>\n",
       "\t<tr><td> 200</td><td>0.6160164</td><td> 53</td></tr>\n",
       "\t<tr><td>1000</td><td>0.6160164</td><td>  5</td></tr>\n",
       "\t<tr><td>  15</td><td>0.6139630</td><td>292</td></tr>\n",
       "\t<tr><td> 500</td><td>0.6139630</td><td> 18</td></tr>\n",
       "\t<tr><td> 350</td><td>0.6119097</td><td> 30</td></tr>\n",
       "\t<tr><td> 900</td><td>0.6119097</td><td>  8</td></tr>\n",
       "\t<tr><td> 250</td><td>0.6098563</td><td> 42</td></tr>\n",
       "\t<tr><td> 300</td><td>0.6098563</td><td> 34</td></tr>\n",
       "\t<tr><td> 600</td><td>0.6098563</td><td> 13</td></tr>\n",
       "\t<tr><td>1500</td><td>0.6098563</td><td>  2</td></tr>\n",
       "\t<tr><td> 400</td><td>0.6078029</td><td> 27</td></tr>\n",
       "\t<tr><td> 700</td><td>0.6078029</td><td> 11</td></tr>\n",
       "\t<tr><td> 150</td><td>0.6057495</td><td> 60</td></tr>\n",
       "\t<tr><td>2000</td><td>0.6057495</td><td>  2</td></tr>\n",
       "\t<tr><td>2500</td><td>0.6057495</td><td>  2</td></tr>\n",
       "\t<tr><td>3000</td><td>0.6057495</td><td>  2</td></tr>\n",
       "\t<tr><td>   8</td><td>0.5995893</td><td>369</td></tr>\n",
       "\t<tr><td>   7</td><td>0.5975359</td><td>378</td></tr>\n",
       "\t<tr><td>   9</td><td>0.5954825</td><td>366</td></tr>\n",
       "\t<tr><td>  10</td><td>0.5913758</td><td>362</td></tr>\n",
       "\t<tr><td>   3</td><td>0.5790554</td><td>445</td></tr>\n",
       "\t<tr><td>   4</td><td>0.5790554</td><td>432</td></tr>\n",
       "\t<tr><td>   5</td><td>0.5790554</td><td>415</td></tr>\n",
       "\t<tr><td>   2</td><td>0.5749487</td><td>453</td></tr>\n",
       "\t<tr><td>   6</td><td>0.5728953</td><td>408</td></tr>\n",
       "\t<tr><td>   1</td><td>0.5687885</td><td>468</td></tr>\n",
       "</tbody>\n",
       "</table>\n"
      ],
      "text/latex": [
       "A matrix: 36 × 3 of type dbl\n",
       "\\begin{tabular}{lll}\n",
       "\t   30 & 0.6324435 & 232\\\\\n",
       "\t  100 & 0.6324435 &  98\\\\\n",
       "\t   25 & 0.6262834 & 241\\\\\n",
       "\t   50 & 0.6262834 & 150\\\\\n",
       "\t   35 & 0.6242300 & 162\\\\\n",
       "\t   40 & 0.6221766 & 157\\\\\n",
       "\t   20 & 0.6201232 & 267\\\\\n",
       "\t   45 & 0.6201232 & 153\\\\\n",
       "\t  800 & 0.6201232 &  10\\\\\n",
       "\t  450 & 0.6180698 &  19\\\\\n",
       "\t  200 & 0.6160164 &  53\\\\\n",
       "\t 1000 & 0.6160164 &   5\\\\\n",
       "\t   15 & 0.6139630 & 292\\\\\n",
       "\t  500 & 0.6139630 &  18\\\\\n",
       "\t  350 & 0.6119097 &  30\\\\\n",
       "\t  900 & 0.6119097 &   8\\\\\n",
       "\t  250 & 0.6098563 &  42\\\\\n",
       "\t  300 & 0.6098563 &  34\\\\\n",
       "\t  600 & 0.6098563 &  13\\\\\n",
       "\t 1500 & 0.6098563 &   2\\\\\n",
       "\t  400 & 0.6078029 &  27\\\\\n",
       "\t  700 & 0.6078029 &  11\\\\\n",
       "\t  150 & 0.6057495 &  60\\\\\n",
       "\t 2000 & 0.6057495 &   2\\\\\n",
       "\t 2500 & 0.6057495 &   2\\\\\n",
       "\t 3000 & 0.6057495 &   2\\\\\n",
       "\t    8 & 0.5995893 & 369\\\\\n",
       "\t    7 & 0.5975359 & 378\\\\\n",
       "\t    9 & 0.5954825 & 366\\\\\n",
       "\t   10 & 0.5913758 & 362\\\\\n",
       "\t    3 & 0.5790554 & 445\\\\\n",
       "\t    4 & 0.5790554 & 432\\\\\n",
       "\t    5 & 0.5790554 & 415\\\\\n",
       "\t    2 & 0.5749487 & 453\\\\\n",
       "\t    6 & 0.5728953 & 408\\\\\n",
       "\t    1 & 0.5687885 & 468\\\\\n",
       "\\end{tabular}\n"
      ],
      "text/markdown": [
       "\n",
       "A matrix: 36 × 3 of type dbl\n",
       "\n",
       "|   30 | 0.6324435 | 232 |\n",
       "|  100 | 0.6324435 |  98 |\n",
       "|   25 | 0.6262834 | 241 |\n",
       "|   50 | 0.6262834 | 150 |\n",
       "|   35 | 0.6242300 | 162 |\n",
       "|   40 | 0.6221766 | 157 |\n",
       "|   20 | 0.6201232 | 267 |\n",
       "|   45 | 0.6201232 | 153 |\n",
       "|  800 | 0.6201232 |  10 |\n",
       "|  450 | 0.6180698 |  19 |\n",
       "|  200 | 0.6160164 |  53 |\n",
       "| 1000 | 0.6160164 |   5 |\n",
       "|   15 | 0.6139630 | 292 |\n",
       "|  500 | 0.6139630 |  18 |\n",
       "|  350 | 0.6119097 |  30 |\n",
       "|  900 | 0.6119097 |   8 |\n",
       "|  250 | 0.6098563 |  42 |\n",
       "|  300 | 0.6098563 |  34 |\n",
       "|  600 | 0.6098563 |  13 |\n",
       "| 1500 | 0.6098563 |   2 |\n",
       "|  400 | 0.6078029 |  27 |\n",
       "|  700 | 0.6078029 |  11 |\n",
       "|  150 | 0.6057495 |  60 |\n",
       "| 2000 | 0.6057495 |   2 |\n",
       "| 2500 | 0.6057495 |   2 |\n",
       "| 3000 | 0.6057495 |   2 |\n",
       "|    8 | 0.5995893 | 369 |\n",
       "|    7 | 0.5975359 | 378 |\n",
       "|    9 | 0.5954825 | 366 |\n",
       "|   10 | 0.5913758 | 362 |\n",
       "|    3 | 0.5790554 | 445 |\n",
       "|    4 | 0.5790554 | 432 |\n",
       "|    5 | 0.5790554 | 415 |\n",
       "|    2 | 0.5749487 | 453 |\n",
       "|    6 | 0.5728953 | 408 |\n",
       "|    1 | 0.5687885 | 468 |\n",
       "\n"
      ],
      "text/plain": [
       "      [,1] [,2]      [,3]\n",
       " [1,]   30 0.6324435 232 \n",
       " [2,]  100 0.6324435  98 \n",
       " [3,]   25 0.6262834 241 \n",
       " [4,]   50 0.6262834 150 \n",
       " [5,]   35 0.6242300 162 \n",
       " [6,]   40 0.6221766 157 \n",
       " [7,]   20 0.6201232 267 \n",
       " [8,]   45 0.6201232 153 \n",
       " [9,]  800 0.6201232  10 \n",
       "[10,]  450 0.6180698  19 \n",
       "[11,]  200 0.6160164  53 \n",
       "[12,] 1000 0.6160164   5 \n",
       "[13,]   15 0.6139630 292 \n",
       "[14,]  500 0.6139630  18 \n",
       "[15,]  350 0.6119097  30 \n",
       "[16,]  900 0.6119097   8 \n",
       "[17,]  250 0.6098563  42 \n",
       "[18,]  300 0.6098563  34 \n",
       "[19,]  600 0.6098563  13 \n",
       "[20,] 1500 0.6098563   2 \n",
       "[21,]  400 0.6078029  27 \n",
       "[22,]  700 0.6078029  11 \n",
       "[23,]  150 0.6057495  60 \n",
       "[24,] 2000 0.6057495   2 \n",
       "[25,] 2500 0.6057495   2 \n",
       "[26,] 3000 0.6057495   2 \n",
       "[27,]    8 0.5995893 369 \n",
       "[28,]    7 0.5975359 378 \n",
       "[29,]    9 0.5954825 366 \n",
       "[30,]   10 0.5913758 362 \n",
       "[31,]    3 0.5790554 445 \n",
       "[32,]    4 0.5790554 432 \n",
       "[33,]    5 0.5790554 415 \n",
       "[34,]    2 0.5749487 453 \n",
       "[35,]    6 0.5728953 408 \n",
       "[36,]    1 0.5687885 468 "
      ]
     },
     "metadata": {},
     "output_type": "display_data"
    }
   ],
   "source": [
    "k <- c(1:10, seq.int(15, 50, by=5), seq.int(100, 500, by=50), seq.int(600, 1000, by=100), seq.int(1500, 3000, by=500))\n",
    "matbin <- feature.search(training |> filter(Labels %in% c(1,5)), validation |> filter(Labels %in% c(1,5)), k=k)\n",
    "matbin[order(desc(matbin[,2])),]"
   ]
  },
  {
   "cell_type": "code",
   "execution_count": 50,
   "id": "e55eca37-866e-42cc-9921-f35f18ab9492",
   "metadata": {},
   "outputs": [
    {
     "data": {
      "text/html": [
       "0.592485549132948"
      ],
      "text/latex": [
       "0.592485549132948"
      ],
      "text/markdown": [
       "0.592485549132948"
      ],
      "text/plain": [
       "[1] 0.5924855"
      ]
     },
     "metadata": {},
     "output_type": "display_data"
    },
    {
     "data": {
      "text/html": [
       "<table class=\"dataframe\">\n",
       "<caption>A data.frame: 2 × 2</caption>\n",
       "<thead>\n",
       "\t<tr><th></th><th scope=col>1</th><th scope=col>5</th></tr>\n",
       "\t<tr><th></th><th scope=col>&lt;int&gt;</th><th scope=col>&lt;int&gt;</th></tr>\n",
       "</thead>\n",
       "<tbody>\n",
       "\t<tr><th scope=row>1</th><td>115</td><td>69</td></tr>\n",
       "\t<tr><th scope=row>5</th><td> 72</td><td>90</td></tr>\n",
       "</tbody>\n",
       "</table>\n"
      ],
      "text/latex": [
       "A data.frame: 2 × 2\n",
       "\\begin{tabular}{r|ll}\n",
       "  & 1 & 5\\\\\n",
       "  & <int> & <int>\\\\\n",
       "\\hline\n",
       "\t1 & 115 & 69\\\\\n",
       "\t5 &  72 & 90\\\\\n",
       "\\end{tabular}\n"
      ],
      "text/markdown": [
       "\n",
       "A data.frame: 2 × 2\n",
       "\n",
       "| <!--/--> | 1 &lt;int&gt; | 5 &lt;int&gt; |\n",
       "|---|---|---|\n",
       "| 1 | 115 | 69 |\n",
       "| 5 |  72 | 90 |\n",
       "\n"
      ],
      "text/plain": [
       "  1   5 \n",
       "1 115 69\n",
       "5  72 90"
      ]
     },
     "metadata": {},
     "output_type": "display_data"
    }
   ],
   "source": [
    "result <- train.n.apply(training |> filter(Labels %in% c(1,5)), test |> filter(Labels %in% c(1,5)), k=800)\n",
    "(result |> filter(Labels==Labels.y) |> nrow()) / nrow(test |> filter(Labels %in% c(1,5)))\n",
    "result |> count(Labels, Labels.y) |> pivot_wider(names_from=Labels.y, values_from=n) |> column_to_rownames(\"Labels\") "
   ]
  },
  {
   "cell_type": "markdown",
   "id": "9cdde07e-e022-42ed-acb8-246e04d615d0",
   "metadata": {},
   "source": [
    "## Load mat2"
   ]
  },
  {
   "cell_type": "code",
   "execution_count": 34,
   "id": "15fe86e0-246f-418c-8988-94e0157af4fa",
   "metadata": {},
   "outputs": [],
   "source": [
    "load(\"mat2.RData\")"
   ]
  },
  {
   "cell_type": "code",
   "execution_count": 35,
   "id": "44061f1d-f308-4134-a175-aa5001463748",
   "metadata": {
    "scrolled": true
   },
   "outputs": [
    {
     "data": {
      "text/html": [
       "<table class=\"dataframe\">\n",
       "<caption>A matrix: 51 × 3 of type dbl</caption>\n",
       "<tbody>\n",
       "\t<tr><td>     5</td><td>0.7513877</td><td>1046</td></tr>\n",
       "\t<tr><td>    10</td><td>0.7706390</td><td> 886</td></tr>\n",
       "\t<tr><td>    15</td><td>0.7786701</td><td> 797</td></tr>\n",
       "\t<tr><td>    20</td><td>0.7798512</td><td> 605</td></tr>\n",
       "\t<tr><td>    25</td><td>0.7959135</td><td> 467</td></tr>\n",
       "\t<tr><td>    30</td><td>0.8157553</td><td> 338</td></tr>\n",
       "\t<tr><td>    35</td><td>0.8152829</td><td> 324</td></tr>\n",
       "\t<tr><td>    40</td><td>0.8159915</td><td> 295</td></tr>\n",
       "\t<tr><td>    45</td><td>0.8210700</td><td> 269</td></tr>\n",
       "\t<tr><td>    50</td><td>0.8267391</td><td> 260</td></tr>\n",
       "\t<tr><td>   100</td><td>0.8411480</td><td> 163</td></tr>\n",
       "\t<tr><td>   150</td><td>0.8501240</td><td> 138</td></tr>\n",
       "\t<tr><td>   200</td><td>0.8600449</td><td> 106</td></tr>\n",
       "\t<tr><td>   250</td><td>0.8627613</td><td>  98</td></tr>\n",
       "\t<tr><td>   300</td><td>0.8645329</td><td>  95</td></tr>\n",
       "\t<tr><td>   350</td><td>0.8655958</td><td>  88</td></tr>\n",
       "\t<tr><td>   400</td><td>0.8652415</td><td>  79</td></tr>\n",
       "\t<tr><td>   450</td><td>0.8697295</td><td>  73</td></tr>\n",
       "\t<tr><td>   500</td><td>0.8722098</td><td>  71</td></tr>\n",
       "\t<tr><td>   600</td><td>0.8699657</td><td>  63</td></tr>\n",
       "\t<tr><td>   700</td><td>0.8706744</td><td>  61</td></tr>\n",
       "\t<tr><td>   800</td><td>0.8743357</td><td>  39</td></tr>\n",
       "\t<tr><td>   900</td><td>0.8777607</td><td>  35</td></tr>\n",
       "\t<tr><td>  1000</td><td>0.8787056</td><td>  31</td></tr>\n",
       "\t<tr><td>  1500</td><td>0.8820125</td><td>  22</td></tr>\n",
       "\t<tr><td>  2000</td><td>0.8840203</td><td>  20</td></tr>\n",
       "\t<tr><td>  2500</td><td>0.8854376</td><td>  19</td></tr>\n",
       "\t<tr><td>  3000</td><td>0.8886264</td><td>  17</td></tr>\n",
       "\t<tr><td>  3500</td><td>0.8896894</td><td>  15</td></tr>\n",
       "\t<tr><td>  4000</td><td>0.8877997</td><td>  15</td></tr>\n",
       "\t<tr><td>  4500</td><td>0.8894532</td><td>  15</td></tr>\n",
       "\t<tr><td>  5000</td><td>0.8913429</td><td>  15</td></tr>\n",
       "\t<tr><td>  5500</td><td>0.8907523</td><td>  14</td></tr>\n",
       "\t<tr><td>  6000</td><td>0.8913429</td><td>  14</td></tr>\n",
       "\t<tr><td>  6500</td><td>0.8914610</td><td>  14</td></tr>\n",
       "\t<tr><td>  7000</td><td>0.8908704</td><td>  14</td></tr>\n",
       "\t<tr><td>  7500</td><td>0.8912248</td><td>  14</td></tr>\n",
       "\t<tr><td>  8000</td><td>0.8922877</td><td>  14</td></tr>\n",
       "\t<tr><td>  8500</td><td>0.8915791</td><td>  14</td></tr>\n",
       "\t<tr><td>  9000</td><td>0.8913429</td><td>  14</td></tr>\n",
       "\t<tr><td>  9500</td><td>0.8912248</td><td>  13</td></tr>\n",
       "\t<tr><td> 10000</td><td>0.8920515</td><td>  13</td></tr>\n",
       "\t<tr><td> 20000</td><td>0.8932325</td><td>  10</td></tr>\n",
       "\t<tr><td> 30000</td><td>0.8934688</td><td>  10</td></tr>\n",
       "\t<tr><td> 40000</td><td>0.8941774</td><td>   9</td></tr>\n",
       "\t<tr><td> 50000</td><td>0.9007913</td><td>   2</td></tr>\n",
       "\t<tr><td> 60000</td><td>0.9007913</td><td>   2</td></tr>\n",
       "\t<tr><td> 70000</td><td>0.9007913</td><td>   2</td></tr>\n",
       "\t<tr><td> 80000</td><td>0.9007913</td><td>   2</td></tr>\n",
       "\t<tr><td> 90000</td><td>0.9007913</td><td>   2</td></tr>\n",
       "\t<tr><td>100000</td><td>0.9007913</td><td>   2</td></tr>\n",
       "</tbody>\n",
       "</table>\n"
      ],
      "text/latex": [
       "A matrix: 51 × 3 of type dbl\n",
       "\\begin{tabular}{lll}\n",
       "\t      5 & 0.7513877 & 1046\\\\\n",
       "\t     10 & 0.7706390 &  886\\\\\n",
       "\t     15 & 0.7786701 &  797\\\\\n",
       "\t     20 & 0.7798512 &  605\\\\\n",
       "\t     25 & 0.7959135 &  467\\\\\n",
       "\t     30 & 0.8157553 &  338\\\\\n",
       "\t     35 & 0.8152829 &  324\\\\\n",
       "\t     40 & 0.8159915 &  295\\\\\n",
       "\t     45 & 0.8210700 &  269\\\\\n",
       "\t     50 & 0.8267391 &  260\\\\\n",
       "\t    100 & 0.8411480 &  163\\\\\n",
       "\t    150 & 0.8501240 &  138\\\\\n",
       "\t    200 & 0.8600449 &  106\\\\\n",
       "\t    250 & 0.8627613 &   98\\\\\n",
       "\t    300 & 0.8645329 &   95\\\\\n",
       "\t    350 & 0.8655958 &   88\\\\\n",
       "\t    400 & 0.8652415 &   79\\\\\n",
       "\t    450 & 0.8697295 &   73\\\\\n",
       "\t    500 & 0.8722098 &   71\\\\\n",
       "\t    600 & 0.8699657 &   63\\\\\n",
       "\t    700 & 0.8706744 &   61\\\\\n",
       "\t    800 & 0.8743357 &   39\\\\\n",
       "\t    900 & 0.8777607 &   35\\\\\n",
       "\t   1000 & 0.8787056 &   31\\\\\n",
       "\t   1500 & 0.8820125 &   22\\\\\n",
       "\t   2000 & 0.8840203 &   20\\\\\n",
       "\t   2500 & 0.8854376 &   19\\\\\n",
       "\t   3000 & 0.8886264 &   17\\\\\n",
       "\t   3500 & 0.8896894 &   15\\\\\n",
       "\t   4000 & 0.8877997 &   15\\\\\n",
       "\t   4500 & 0.8894532 &   15\\\\\n",
       "\t   5000 & 0.8913429 &   15\\\\\n",
       "\t   5500 & 0.8907523 &   14\\\\\n",
       "\t   6000 & 0.8913429 &   14\\\\\n",
       "\t   6500 & 0.8914610 &   14\\\\\n",
       "\t   7000 & 0.8908704 &   14\\\\\n",
       "\t   7500 & 0.8912248 &   14\\\\\n",
       "\t   8000 & 0.8922877 &   14\\\\\n",
       "\t   8500 & 0.8915791 &   14\\\\\n",
       "\t   9000 & 0.8913429 &   14\\\\\n",
       "\t   9500 & 0.8912248 &   13\\\\\n",
       "\t  10000 & 0.8920515 &   13\\\\\n",
       "\t  20000 & 0.8932325 &   10\\\\\n",
       "\t  30000 & 0.8934688 &   10\\\\\n",
       "\t  40000 & 0.8941774 &    9\\\\\n",
       "\t  50000 & 0.9007913 &    2\\\\\n",
       "\t  60000 & 0.9007913 &    2\\\\\n",
       "\t  70000 & 0.9007913 &    2\\\\\n",
       "\t  80000 & 0.9007913 &    2\\\\\n",
       "\t  90000 & 0.9007913 &    2\\\\\n",
       "\t 100000 & 0.9007913 &    2\\\\\n",
       "\\end{tabular}\n"
      ],
      "text/markdown": [
       "\n",
       "A matrix: 51 × 3 of type dbl\n",
       "\n",
       "|      5 | 0.7513877 | 1046 |\n",
       "|     10 | 0.7706390 |  886 |\n",
       "|     15 | 0.7786701 |  797 |\n",
       "|     20 | 0.7798512 |  605 |\n",
       "|     25 | 0.7959135 |  467 |\n",
       "|     30 | 0.8157553 |  338 |\n",
       "|     35 | 0.8152829 |  324 |\n",
       "|     40 | 0.8159915 |  295 |\n",
       "|     45 | 0.8210700 |  269 |\n",
       "|     50 | 0.8267391 |  260 |\n",
       "|    100 | 0.8411480 |  163 |\n",
       "|    150 | 0.8501240 |  138 |\n",
       "|    200 | 0.8600449 |  106 |\n",
       "|    250 | 0.8627613 |   98 |\n",
       "|    300 | 0.8645329 |   95 |\n",
       "|    350 | 0.8655958 |   88 |\n",
       "|    400 | 0.8652415 |   79 |\n",
       "|    450 | 0.8697295 |   73 |\n",
       "|    500 | 0.8722098 |   71 |\n",
       "|    600 | 0.8699657 |   63 |\n",
       "|    700 | 0.8706744 |   61 |\n",
       "|    800 | 0.8743357 |   39 |\n",
       "|    900 | 0.8777607 |   35 |\n",
       "|   1000 | 0.8787056 |   31 |\n",
       "|   1500 | 0.8820125 |   22 |\n",
       "|   2000 | 0.8840203 |   20 |\n",
       "|   2500 | 0.8854376 |   19 |\n",
       "|   3000 | 0.8886264 |   17 |\n",
       "|   3500 | 0.8896894 |   15 |\n",
       "|   4000 | 0.8877997 |   15 |\n",
       "|   4500 | 0.8894532 |   15 |\n",
       "|   5000 | 0.8913429 |   15 |\n",
       "|   5500 | 0.8907523 |   14 |\n",
       "|   6000 | 0.8913429 |   14 |\n",
       "|   6500 | 0.8914610 |   14 |\n",
       "|   7000 | 0.8908704 |   14 |\n",
       "|   7500 | 0.8912248 |   14 |\n",
       "|   8000 | 0.8922877 |   14 |\n",
       "|   8500 | 0.8915791 |   14 |\n",
       "|   9000 | 0.8913429 |   14 |\n",
       "|   9500 | 0.8912248 |   13 |\n",
       "|  10000 | 0.8920515 |   13 |\n",
       "|  20000 | 0.8932325 |   10 |\n",
       "|  30000 | 0.8934688 |   10 |\n",
       "|  40000 | 0.8941774 |    9 |\n",
       "|  50000 | 0.9007913 |    2 |\n",
       "|  60000 | 0.9007913 |    2 |\n",
       "|  70000 | 0.9007913 |    2 |\n",
       "|  80000 | 0.9007913 |    2 |\n",
       "|  90000 | 0.9007913 |    2 |\n",
       "| 100000 | 0.9007913 |    2 |\n",
       "\n"
      ],
      "text/plain": [
       "      [,1]   [,2]      [,3]\n",
       " [1,]      5 0.7513877 1046\n",
       " [2,]     10 0.7706390  886\n",
       " [3,]     15 0.7786701  797\n",
       " [4,]     20 0.7798512  605\n",
       " [5,]     25 0.7959135  467\n",
       " [6,]     30 0.8157553  338\n",
       " [7,]     35 0.8152829  324\n",
       " [8,]     40 0.8159915  295\n",
       " [9,]     45 0.8210700  269\n",
       "[10,]     50 0.8267391  260\n",
       "[11,]    100 0.8411480  163\n",
       "[12,]    150 0.8501240  138\n",
       "[13,]    200 0.8600449  106\n",
       "[14,]    250 0.8627613   98\n",
       "[15,]    300 0.8645329   95\n",
       "[16,]    350 0.8655958   88\n",
       "[17,]    400 0.8652415   79\n",
       "[18,]    450 0.8697295   73\n",
       "[19,]    500 0.8722098   71\n",
       "[20,]    600 0.8699657   63\n",
       "[21,]    700 0.8706744   61\n",
       "[22,]    800 0.8743357   39\n",
       "[23,]    900 0.8777607   35\n",
       "[24,]   1000 0.8787056   31\n",
       "[25,]   1500 0.8820125   22\n",
       "[26,]   2000 0.8840203   20\n",
       "[27,]   2500 0.8854376   19\n",
       "[28,]   3000 0.8886264   17\n",
       "[29,]   3500 0.8896894   15\n",
       "[30,]   4000 0.8877997   15\n",
       "[31,]   4500 0.8894532   15\n",
       "[32,]   5000 0.8913429   15\n",
       "[33,]   5500 0.8907523   14\n",
       "[34,]   6000 0.8913429   14\n",
       "[35,]   6500 0.8914610   14\n",
       "[36,]   7000 0.8908704   14\n",
       "[37,]   7500 0.8912248   14\n",
       "[38,]   8000 0.8922877   14\n",
       "[39,]   8500 0.8915791   14\n",
       "[40,]   9000 0.8913429   14\n",
       "[41,]   9500 0.8912248   13\n",
       "[42,]  10000 0.8920515   13\n",
       "[43,]  20000 0.8932325   10\n",
       "[44,]  30000 0.8934688   10\n",
       "[45,]  40000 0.8941774    9\n",
       "[46,]  50000 0.9007913    2\n",
       "[47,]  60000 0.9007913    2\n",
       "[48,]  70000 0.9007913    2\n",
       "[49,]  80000 0.9007913    2\n",
       "[50,]  90000 0.9007913    2\n",
       "[51,] 100000 0.9007913    2"
      ]
     },
     "metadata": {},
     "output_type": "display_data"
    }
   ],
   "source": [
    "mat2"
   ]
  }
 ],
 "metadata": {
  "kernelspec": {
   "display_name": "R",
   "language": "R",
   "name": "ir"
  },
  "language_info": {
   "codemirror_mode": "r",
   "file_extension": ".r",
   "mimetype": "text/x-r-source",
   "name": "R",
   "pygments_lexer": "r",
   "version": "4.3.1"
  }
 },
 "nbformat": 4,
 "nbformat_minor": 5
}
