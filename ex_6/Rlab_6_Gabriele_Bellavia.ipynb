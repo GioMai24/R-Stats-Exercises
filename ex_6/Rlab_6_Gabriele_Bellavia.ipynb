{
 "cells": [
  {
   "cell_type": "code",
   "execution_count": 1,
   "id": "98b240fb-38ef-4222-9dd4-c2116e241739",
   "metadata": {
    "vscode": {
     "languageId": "r"
    }
   },
   "outputs": [
    {
     "name": "stderr",
     "output_type": "stream",
     "text": [
      "Caricamento del pacchetto richiesto: StanHeaders\n",
      "\n",
      "\n",
      "rstan version 2.32.6 (Stan version 2.32.2)\n",
      "\n",
      "\n",
      "For execution on a local, multicore CPU with excess RAM we recommend calling\n",
      "options(mc.cores = parallel::detectCores()).\n",
      "To avoid recompilation of unchanged Stan programs, we recommend calling\n",
      "rstan_options(auto_write = TRUE)\n",
      "For within-chain threading using `reduce_sum()` or `map_rect()` Stan functions,\n",
      "change `threads_per_chain` option:\n",
      "rstan_options(threads_per_chain = 1)\n",
      "\n",
      "\n",
      "\n",
      "Caricamento pacchetto: ‘dplyr’\n",
      "\n",
      "\n",
      "I seguenti oggetti sono mascherati da ‘package:stats’:\n",
      "\n",
      "    filter, lag\n",
      "\n",
      "\n",
      "I seguenti oggetti sono mascherati da ‘package:base’:\n",
      "\n",
      "    intersect, setdiff, setequal, union\n",
      "\n",
      "\n"
     ]
    }
   ],
   "source": [
    "suppressWarnings({library(rstan)\n",
    "library(ggplot2)\n",
    "library(dplyr)})"
   ]
  },
  {
   "cell_type": "markdown",
   "id": "80b8c4b9-ad24-47e0-bbd6-fea13fb17751",
   "metadata": {},
   "source": [
    "## Ex 1: Quadratic Bayesian regression using STAN"
   ]
  },
  {
   "cell_type": "markdown",
   "id": "00f1b6c1-eecb-47fb-91d3-0ea264340c54",
   "metadata": {},
   "source": [
    "The following n = 9 data sample\n",
    "| X  |     Y       | σᵢ        |\n",
    "|----|-------------|-----------|\n",
    "|  2 |   105.5203  | 15.40459  |\n",
    "|  3 |   227.4457  | 36.05480  |\n",
    "|  4 |   405.6937  | 51.84040  |\n",
    "|  5 |   661.2858  | 94.66744  |\n",
    "|  6 |   886.1422  | 123.79828 |\n",
    "|  7 |  1189.6514  | 216.99935 |\n",
    "|  8 |  1631.8262  | 173.83507 |\n",
    "|  9 |  1951.8381  | 318.46511 |\n",
    "| 10 |  2528.5246  | 427.27788 |\n",
    "\n",
    "is believed to follow\n",
    "\\begin{equation}\n",
    "Y = \\beta_0 + \\beta_1 \\cdot X + \\beta_2 \\cdot X^2\n",
    "\\end{equation}\n",
    "Let the prior distributions for $\\beta$ parameters be,\n",
    "- $\\beta_0$ normal distribution centered at 5 with a standard deviation of 1.\n",
    "- $\\beta_1$ uniform distribution between -1 and 1.\n",
    "- $\\beta_2$ normal distribution centered at 30 with a standard deviation of 15.\n",
    "\n",
    "Build a Stan model and run a MCMC to obtain the posterior distribution of the $\\beta$ parameters using also the σi uncertainty for each measurement.\n",
    "1) Compute the 95% credibility interval for each β parameter.\n",
    "2) Draw the fitted quadratic funtion (using the mean values of the $\\beta$ parameters from MCMC) together with data points and their uncertainties."
   ]
  },
  {
   "cell_type": "code",
   "execution_count": 2,
   "id": "963223ca-773e-4815-8e87-710bc1460d43",
   "metadata": {
    "vscode": {
     "languageId": "r"
    }
   },
   "outputs": [],
   "source": [
    "X <- 2:10\n",
    "Y <- c(105.5203, 227.4457, 405.6937, 661.2858, 886.1422,\n",
    "       1189.6514, 1631.8262, 1951.8381, 2528.5246)\n",
    "sigma <- c(15.40459, 36.05480, 51.84040, 94.66744, 123.79828,\n",
    "           216.99935, 173.83507, 318.46511, 427.27788)\n",
    "n <- length(X)"
   ]
  },
  {
   "cell_type": "markdown",
   "id": "3a4b0a46-3a85-4c1a-96b4-1d2d91a76d1c",
   "metadata": {},
   "source": [
    "#### 1)"
   ]
  },
  {
   "cell_type": "code",
   "execution_count": 3,
   "id": "a7dad346-c386-4a48-881d-a000842c4c18",
   "metadata": {
    "vscode": {
     "languageId": "r"
    }
   },
   "outputs": [],
   "source": [
    "stan_data <- list(n = n, X = X, Y = Y, sigma = sigma)\n",
    "\n",
    "stan_code <- \"\n",
    "data{\n",
    "    int<lower=0> n;\n",
    "    vector[n] X;\n",
    "    vector[n] Y;\n",
    "    vector<lower=0>[n] sigma;\n",
    "}\n",
    "parameters{\n",
    "    real beta0;\n",
    "    real<lower=-1, upper=1> beta1;\n",
    "    real beta2;\n",
    "}\n",
    "model{\n",
    "    beta0 ~ normal(5, 1);\n",
    "    beta2 ~ normal(30, 15);\n",
    "    for (i in 1:n){\n",
    "        Y[i] ~ normal(beta0 + beta1 * X[i] + beta2 * square(X[i]), sigma[i]);\n",
    "    }\n",
    "}  \"\n"
   ]
  },
  {
   "cell_type": "code",
   "execution_count": 4,
   "id": "81bbd49c-a8b4-4ac7-9725-1501d39f25e5",
   "metadata": {
    "vscode": {
     "languageId": "r"
    }
   },
   "outputs": [
    {
     "name": "stdout",
     "output_type": "stream",
     "text": [
      "\n",
      "SAMPLING FOR MODEL 'anon_model' NOW (CHAIN 1).\n",
      "Chain 1: \n",
      "Chain 1: Gradient evaluation took 6e-06 seconds\n",
      "Chain 1: 1000 transitions using 10 leapfrog steps per transition would take 0.06 seconds.\n",
      "Chain 1: Adjust your expectations accordingly!\n",
      "Chain 1: \n",
      "Chain 1: \n",
      "Chain 1: Iteration:    1 / 4000 [  0%]  (Warmup)\n",
      "Chain 1: Iteration:  400 / 4000 [ 10%]  (Warmup)\n",
      "Chain 1: Iteration:  800 / 4000 [ 20%]  (Warmup)\n",
      "Chain 1: Iteration: 1001 / 4000 [ 25%]  (Sampling)\n",
      "Chain 1: Iteration: 1400 / 4000 [ 35%]  (Sampling)\n",
      "Chain 1: Iteration: 1800 / 4000 [ 45%]  (Sampling)\n",
      "Chain 1: Iteration: 2200 / 4000 [ 55%]  (Sampling)\n",
      "Chain 1: Iteration: 2600 / 4000 [ 65%]  (Sampling)\n",
      "Chain 1: Iteration: 3000 / 4000 [ 75%]  (Sampling)\n",
      "Chain 1: Iteration: 3400 / 4000 [ 85%]  (Sampling)\n",
      "Chain 1: Iteration: 3800 / 4000 [ 95%]  (Sampling)\n",
      "Chain 1: Iteration: 4000 / 4000 [100%]  (Sampling)\n",
      "Chain 1: \n",
      "Chain 1:  Elapsed Time: 0.01 seconds (Warm-up)\n",
      "Chain 1:                0.035 seconds (Sampling)\n",
      "Chain 1:                0.045 seconds (Total)\n",
      "Chain 1: \n",
      "\n",
      "SAMPLING FOR MODEL 'anon_model' NOW (CHAIN 2).\n",
      "Chain 2: \n",
      "Chain 2: Gradient evaluation took 3e-06 seconds\n",
      "Chain 2: 1000 transitions using 10 leapfrog steps per transition would take 0.03 seconds.\n",
      "Chain 2: Adjust your expectations accordingly!\n",
      "Chain 2: \n",
      "Chain 2: \n",
      "Chain 2: Iteration:    1 / 4000 [  0%]  (Warmup)\n",
      "Chain 2: Iteration:  400 / 4000 [ 10%]  (Warmup)\n",
      "Chain 2: Iteration:  800 / 4000 [ 20%]  (Warmup)\n",
      "Chain 2: Iteration: 1001 / 4000 [ 25%]  (Sampling)\n",
      "Chain 2: Iteration: 1400 / 4000 [ 35%]  (Sampling)\n",
      "Chain 2: Iteration: 1800 / 4000 [ 45%]  (Sampling)\n",
      "Chain 2: Iteration: 2200 / 4000 [ 55%]  (Sampling)\n",
      "Chain 2: Iteration: 2600 / 4000 [ 65%]  (Sampling)\n",
      "Chain 2: Iteration: 3000 / 4000 [ 75%]  (Sampling)\n",
      "Chain 2: Iteration: 3400 / 4000 [ 85%]  (Sampling)\n",
      "Chain 2: Iteration: 3800 / 4000 [ 95%]  (Sampling)\n",
      "Chain 2: Iteration: 4000 / 4000 [100%]  (Sampling)\n",
      "Chain 2: \n",
      "Chain 2:  Elapsed Time: 0.011 seconds (Warm-up)\n",
      "Chain 2:                0.035 seconds (Sampling)\n",
      "Chain 2:                0.046 seconds (Total)\n",
      "Chain 2: \n",
      "\n",
      "SAMPLING FOR MODEL 'anon_model' NOW (CHAIN 3).\n",
      "Chain 3: \n",
      "Chain 3: Gradient evaluation took 4e-06 seconds\n",
      "Chain 3: 1000 transitions using 10 leapfrog steps per transition would take 0.04 seconds.\n",
      "Chain 3: Adjust your expectations accordingly!\n",
      "Chain 3: \n",
      "Chain 3: \n",
      "Chain 3: Iteration:    1 / 4000 [  0%]  (Warmup)\n",
      "Chain 3: Iteration:  400 / 4000 [ 10%]  (Warmup)\n",
      "Chain 3: Iteration:  800 / 4000 [ 20%]  (Warmup)\n",
      "Chain 3: Iteration: 1001 / 4000 [ 25%]  (Sampling)\n",
      "Chain 3: Iteration: 1400 / 4000 [ 35%]  (Sampling)\n",
      "Chain 3: Iteration: 1800 / 4000 [ 45%]  (Sampling)\n",
      "Chain 3: Iteration: 2200 / 4000 [ 55%]  (Sampling)\n",
      "Chain 3: Iteration: 2600 / 4000 [ 65%]  (Sampling)\n",
      "Chain 3: Iteration: 3000 / 4000 [ 75%]  (Sampling)\n",
      "Chain 3: Iteration: 3400 / 4000 [ 85%]  (Sampling)\n",
      "Chain 3: Iteration: 3800 / 4000 [ 95%]  (Sampling)\n",
      "Chain 3: Iteration: 4000 / 4000 [100%]  (Sampling)\n",
      "Chain 3: \n",
      "Chain 3:  Elapsed Time: 0.011 seconds (Warm-up)\n",
      "Chain 3:                0.034 seconds (Sampling)\n",
      "Chain 3:                0.045 seconds (Total)\n",
      "Chain 3: \n",
      "\n",
      "SAMPLING FOR MODEL 'anon_model' NOW (CHAIN 4).\n",
      "Chain 4: \n",
      "Chain 4: Gradient evaluation took 3e-06 seconds\n",
      "Chain 4: 1000 transitions using 10 leapfrog steps per transition would take 0.03 seconds.\n",
      "Chain 4: Adjust your expectations accordingly!\n",
      "Chain 4: \n",
      "Chain 4: \n",
      "Chain 4: Iteration:    1 / 4000 [  0%]  (Warmup)\n",
      "Chain 4: Iteration:  400 / 4000 [ 10%]  (Warmup)\n",
      "Chain 4: Iteration:  800 / 4000 [ 20%]  (Warmup)\n",
      "Chain 4: Iteration: 1001 / 4000 [ 25%]  (Sampling)\n",
      "Chain 4: Iteration: 1400 / 4000 [ 35%]  (Sampling)\n",
      "Chain 4: Iteration: 1800 / 4000 [ 45%]  (Sampling)\n",
      "Chain 4: Iteration: 2200 / 4000 [ 55%]  (Sampling)\n",
      "Chain 4: Iteration: 2600 / 4000 [ 65%]  (Sampling)\n",
      "Chain 4: Iteration: 3000 / 4000 [ 75%]  (Sampling)\n",
      "Chain 4: Iteration: 3400 / 4000 [ 85%]  (Sampling)\n",
      "Chain 4: Iteration: 3800 / 4000 [ 95%]  (Sampling)\n",
      "Chain 4: Iteration: 4000 / 4000 [100%]  (Sampling)\n",
      "Chain 4: \n",
      "Chain 4:  Elapsed Time: 0.01 seconds (Warm-up)\n",
      "Chain 4:                0.035 seconds (Sampling)\n",
      "Chain 4:                0.045 seconds (Total)\n",
      "Chain 4: \n",
      "Inference for Stan model: anon_model.\n",
      "4 chains, each with iter=4000; warmup=1000; thin=1; \n",
      "post-warmup draws per chain=3000, total post-warmup draws=12000.\n",
      "\n",
      "       mean se_mean   sd  2.5% 97.5% n_eff Rhat\n",
      "beta0  5.00    0.01 1.01  3.02  6.98  9712    1\n",
      "beta1  0.00    0.01 0.57 -0.95  0.95 13095    1\n",
      "beta2 25.03    0.01 1.22 22.65 27.44 10527    1\n",
      "lp__  -2.50    0.02 1.33 -5.92 -0.99  6067    1\n",
      "\n",
      "Samples were drawn using NUTS(diag_e) at Sun Jun  8 16:13:17 2025.\n",
      "For each parameter, n_eff is a crude measure of effective sample size,\n",
      "and Rhat is the potential scale reduction factor on split chains (at \n",
      "convergence, Rhat=1).\n"
     ]
    }
   ],
   "source": [
    "fit <- stan(model_code = stan_code, data = stan_data,\n",
    "            iter = 4000, warmup = 1000, chains = 4, seed = 123)\n",
    "print(fit, probs = c(0.025, 0.975))"
   ]
  },
  {
   "cell_type": "code",
   "execution_count": 5,
   "id": "f7fb27f0-60af-4127-bce8-fd459f564b5c",
   "metadata": {
    "vscode": {
     "languageId": "r"
    }
   },
   "outputs": [],
   "source": [
    "post <- extract(fit)\n",
    "\n",
    "beta0_mean <- mean(post$beta0)\n",
    "beta1_mean <- mean(post$beta1)\n",
    "beta2_mean <- mean(post$beta2)\n",
    "\n",
    "x_grid <- seq(2, 10, length.out = 200)\n",
    "y_pred <- beta0_mean + beta1_mean * x_grid + beta2_mean * x_grid ** 2"
   ]
  },
  {
   "cell_type": "code",
   "execution_count": 6,
   "id": "a4ccea82-17c2-43da-8c20-ab44d6299e28",
   "metadata": {
    "vscode": {
     "languageId": "r"
    }
   },
   "outputs": [
    {
     "data": {
      "image/png": "[encoded data removed]",
      "text/plain": [
       "plot without title"
      ]
     },
     "metadata": {
      "image/png": {
       "height": 420,
       "width": 420
      }
     },
     "output_type": "display_data"
    }
   ],
   "source": [
    "df <- data.frame(X, Y, sigma)\n",
    "fit_df <- data.frame(x = x_grid, y = y_pred)\n",
    "\n",
    "ggplot(df, aes(x = X, y = Y)) +\n",
    "    geom_point(size = 2) +\n",
    "    geom_errorbar(aes(ymin = Y - sigma, ymax = Y + sigma), width = 0.2) +\n",
    "    geom_line(data = fit_df, aes(x = x, y = y), color = \"darkblue\", linewidth = 1) +\n",
    "    labs(title = \"bayesian quadratic fit\",\n",
    "         x = \"X\", y = \"Y\") +\n",
    "    theme_minimal()"
   ]
  },
  {
   "cell_type": "markdown",
   "id": "80b734b7-f156-4a5b-9662-47093dbcac79",
   "metadata": {},
   "source": [
    "## Ex 2"
   ]
  },
  {
   "cell_type": "markdown",
   "id": "21c13232-c968-40c7-8be6-2b7e54b3d174",
   "metadata": {},
   "source": [
    "A study on water quality of streams, a high level of bacter $X$ was defined as a level greater than $100$\n",
    "per $100$ ml of stream water. $n = 115$ samples were taken from streams having a high environmental\n",
    "impact on pandas. Out of these, $y = 10$ had a high bacter $X$ level.\n",
    "\n",
    "Letting $p$ be the probability that a sample of water taken from the stream has a high bacter $X$ level,\n",
    "\n",
    "1) Find the frequentist estimator for $p$.\n",
    "2) Using a $\\texttt{Beta}(1, 11)$ prior for $p$, calculate and posterior distribution $P(p|y)$.\n",
    "3) Find the bayesian estimator for $p$, the posterior mean and variance, and a $95\\%$ credible interval.\n",
    "4) Test the hypothesis\n",
    "\\begin{equation}\n",
    "H_{o} : p = 0.1 \\quad\\text{versus}\\quad H_1 : p \\neq 0.1\n",
    "\\end{equation}\n",
    "\n",
    "at $5\\%$ level of significance with both the frequentist and bayesian approach.\n",
    "\n",
    "A new measurement, performed one month later on $n = 165$ water samples, gives $y = 9$ high bacter\n",
    "$X$ level\n",
    "\n",
    "5) Find the frequentist estimator for $p$.\n",
    "6) Find a bayesian estimator for $p$, assuming both a $\\texttt{Beta}(1, 10)$ prior for $p$, and assuming the posterior probability of the older measurement as the prior for the new one.\n",
    "7) Find the bayesian estimator for $p$, the posterior mean and variance, and a $95\\%$ credible interval.\n",
    "8) Test the hypothesis\n",
    "\n",
    "\\begin{equation}\n",
    "H_{o} : p = 0.1 \\quad\\text{versus}\\quad H_1 : p \\neq 0.1\n",
    "\\end{equation}\n",
    "\n",
    "at $5\\%$ level of significance with both the frequentist and bayesian approach."
   ]
  },
  {
   "cell_type": "code",
   "execution_count": 7,
   "id": "3b478219-ab31-4947-b463-fd2fbd39fba2",
   "metadata": {
    "vscode": {
     "languageId": "r"
    }
   },
   "outputs": [],
   "source": [
    "n <- 115\n",
    "y <- 10"
   ]
  },
  {
   "cell_type": "markdown",
   "id": "5c2b7e67-3203-4b1d-b1a3-7d16c14bc21d",
   "metadata": {},
   "source": [
    "#### 1)"
   ]
  },
  {
   "cell_type": "code",
   "execution_count": 8,
   "id": "48ffea9a-ab1e-4c14-a753-672abfceb672",
   "metadata": {
    "vscode": {
     "languageId": "r"
    }
   },
   "outputs": [
    {
     "name": "stdout",
     "output_type": "stream",
     "text": [
      "frequentist estimator = 10 / 115 = 0.087 \n"
     ]
    }
   ],
   "source": [
    "p_freq <- y / n\n",
    "cat(\"frequentist estimator =\", y, \"/\", n, \"=\", round(p_freq, 4), \"\\n\")"
   ]
  },
  {
   "cell_type": "markdown",
   "id": "6c465ffe-fb63-441c-b402-2afcb07785ad",
   "metadata": {},
   "source": [
    "#### 2)"
   ]
  },
  {
   "cell_type": "code",
   "execution_count": 9,
   "id": "0f4a4516-8ddf-4b9a-b36b-c08acbf059da",
   "metadata": {
    "vscode": {
     "languageId": "r"
    }
   },
   "outputs": [
    {
     "name": "stdout",
     "output_type": "stream",
     "text": [
      "prior: beta( 1 , 11 )\n",
      "posterior: beta( 11 , 116 )\n",
      "P(p|y) ~ beta( 11 , 116 )\n",
      "\n"
     ]
    }
   ],
   "source": [
    "alpha_prior <- 1\n",
    "beta_prior <- 11\n",
    "\n",
    "alpha_post <- alpha_prior + y\n",
    "beta_post <- beta_prior + n - y\n",
    "\n",
    "cat(\"prior: beta(\", alpha_prior, \",\", beta_prior, \")\\n\")\n",
    "cat(\"posterior: beta(\", alpha_post, \",\", beta_post, \")\\n\")\n",
    "cat(\"P(p|y) ~ beta(\", alpha_post, \",\", beta_post, \")\\n\\n\")"
   ]
  },
  {
   "cell_type": "markdown",
   "id": "39090fb3-caf4-4f8f-a43f-2e57e6f7e4c6",
   "metadata": {},
   "source": [
    "#### 3)"
   ]
  },
  {
   "cell_type": "code",
   "execution_count": 10,
   "id": "a24ea2b2-57c8-4e2a-b178-768319268b9f",
   "metadata": {
    "vscode": {
     "languageId": "r"
    }
   },
   "outputs": [],
   "source": [
    "mean_post <- alpha_post / (alpha_post + beta_post)\n",
    "var_post <- (alpha_post * beta_post) / ((alpha_post + beta_post) ** 2 * (alpha_post + beta_post + 1))\n",
    "\n",
    "lower <- qbeta(0.025, alpha_post, beta_post)\n",
    "upper <- qbeta(0.975, alpha_post, beta_post)"
   ]
  },
  {
   "cell_type": "code",
   "execution_count": 11,
   "id": "8909d343-f766-4f8a-b52a-12987cd6461c",
   "metadata": {
    "vscode": {
     "languageId": "r"
    }
   },
   "outputs": [
    {
     "name": "stdout",
     "output_type": "stream",
     "text": [
      "posterior mean: 0.0866 \n",
      "posterior variance: 0.000618 \n",
      "95% CI: [ 0.0444 , 0.1411 ]\n",
      "\n"
     ]
    }
   ],
   "source": [
    "cat(\"posterior mean:\", round(mean_post, 4), \"\\n\")\n",
    "cat(\"posterior variance:\", round(var_post, 6), \"\\n\")\n",
    "cat(\"95% CI: [\", round(lower, 4), \",\", round(upper, 4), \"]\\n\\n\")"
   ]
  },
  {
   "cell_type": "markdown",
   "id": "79d08df8-1a63-46e9-aedc-d50e5002d7f0",
   "metadata": {},
   "source": [
    "#### 4)"
   ]
  },
  {
   "cell_type": "code",
   "execution_count": 12,
   "id": "6c1aaa48-7987-4652-b5de-c7ba15d3616c",
   "metadata": {
    "vscode": {
     "languageId": "r"
    }
   },
   "outputs": [
    {
     "name": "stdout",
     "output_type": "stream",
     "text": [
      "H test: H0: p = 0.1 vs H1: p /= 0.1\n",
      " frequentist:p-value: 0.7854 \n",
      "non reject H0 \n",
      "\n",
      "bayesian:\n",
      " - 95% CI for p0 = 0.1: non reject H0"
     ]
    }
   ],
   "source": [
    "#frequentis approach\n",
    "p_0 <- 0.1\n",
    "\n",
    "cat(\"H test: H0: p = 0.1 vs H1: p /= 0.1\\n frequentist:\")\n",
    "p_value <- 2 * min(pbinom(y, n, p_0), 1 - pbinom(y-1, n, p_0))\n",
    "\n",
    "cat(\"p-value:\", round(p_value, 4), \"\\n\")\n",
    "cat(ifelse(p_value < 0.05, \"reject H0\", \"non reject H0\"), \"\\n\")\n",
    "\n",
    "#bayesian\n",
    "reject <- ifelse(p_0 >= lower & p_0 <= upper, \"non reject H0\", \"reject H0\")\n",
    "cat(\"\\nbayesian:\\n - 95% CI for p0 = 0.1:\", reject)"
   ]
  },
  {
   "cell_type": "markdown",
   "id": "457d9152-3ea5-484c-b86f-21ab85d75e28",
   "metadata": {},
   "source": [
    "#### 5)"
   ]
  },
  {
   "cell_type": "code",
   "execution_count": 13,
   "id": "25f103d5-c2ec-41b1-88b8-fe34d38ce3e9",
   "metadata": {
    "vscode": {
     "languageId": "r"
    }
   },
   "outputs": [
    {
     "name": "stdout",
     "output_type": "stream",
     "text": [
      "2nd dataset: \n",
      "frequentist estimator = 9 / 165 = 0.0545 \n"
     ]
    }
   ],
   "source": [
    "n_new <- 165 \n",
    "y_new <- 9\n",
    "p_freq_new <- y_new / n_new\n",
    "cat(\"2nd dataset: \\nfrequentist estimator =\", y_new, \"/\", n_new, \"=\", round(p_freq_new, 4), \"\\n\")"
   ]
  },
  {
   "cell_type": "markdown",
   "id": "e9e9f278-3699-4dba-8264-af5557f432f5",
   "metadata": {},
   "source": [
    "#### 6)"
   ]
  },
  {
   "cell_type": "code",
   "execution_count": 14,
   "id": "7d657072-5744-41b0-875b-b607354a20a6",
   "metadata": {
    "vscode": {
     "languageId": "r"
    }
   },
   "outputs": [
    {
     "name": "stdout",
     "output_type": "stream",
     "text": [
      "prior: beta(1,10)\n",
      "posterior: beta( 10 , 166 )\n",
      "bayesian estimator: 0.0568"
     ]
    }
   ],
   "source": [
    "#prior beta(1,10)\n",
    "alpha_prior_new <- 1\n",
    "beta_prior_new <- 10\n",
    "\n",
    "alpha_post_new <- alpha_prior_new + y_new\n",
    "beta_post_new <- beta_prior_new + n_new - y_new\n",
    "\n",
    "post_mean_new <- alpha_post_new / (alpha_post_new + beta_post_new)\n",
    "cat(\"prior: beta(1,10)\\nposterior: beta(\", alpha_post_new, \",\", beta_post_new, \")\\n\")\n",
    "cat(\"bayesian estimator:\", round(post_mean_new,4))"
   ]
  },
  {
   "cell_type": "code",
   "execution_count": 15,
   "id": "daf3acd0-0e3b-42a5-9905-1e105c91227a",
   "metadata": {
    "vscode": {
     "languageId": "r"
    }
   },
   "outputs": [
    {
     "name": "stdout",
     "output_type": "stream",
     "text": [
      "prior: beta( 11 , 116 )\n",
      "posterior beta( 20 , 272 )\n",
      "beayesian estimaro: 0.0685 \n",
      "\n"
     ]
    }
   ],
   "source": [
    "#prior = posterior of previous data\n",
    "alpha_post_new_prev_prior <- alpha_post + y_new \n",
    "beta_post_new_prev_prior <- beta_post + n_new - y_new \n",
    "post_mean_new_prev_prior <- alpha_post_new_prev_prior / (alpha_post_new_prev_prior + beta_post_new_prev_prior)\n",
    "\n",
    "cat(\"prior: beta(\", alpha_post, \",\", beta_post, \")\\n\")\n",
    "cat(\"posterior beta(\", alpha_post_new_prev_prior, \",\", beta_post_new_prev_prior, \")\\n\")\n",
    "cat(\"beayesian estimaro:\", round(post_mean_new_prev_prior, 4), \"\\n\\n\")"
   ]
  },
  {
   "cell_type": "markdown",
   "id": "5f1b79e5-9050-4b51-9c20-8bad04551157",
   "metadata": {},
   "source": [
    "#### 7)"
   ]
  },
  {
   "cell_type": "code",
   "execution_count": 16,
   "id": "5648b6f0-3c81-4554-a5c4-e1e704eebe3a",
   "metadata": {
    "vscode": {
     "languageId": "r"
    }
   },
   "outputs": [
    {
     "name": "stdout",
     "output_type": "stream",
     "text": [
      "posterior mean: 0.0685 \n",
      "posterior variance: 0.000218 \n",
      "95% CI: [ 0.0425 , 0.1001 ]\n",
      "\n"
     ]
    }
   ],
   "source": [
    "var_post_new_prev_prior <- (alpha_post_new_prev_prior * beta_post_new_prev_prior) / ((alpha_post_new_prev_prior + beta_post_new_prev_prior) ** 2 * (alpha_post_new_prev_prior + beta_post_new_prev_prior + 1))\n",
    "\n",
    "lower_new <- qbeta(0.025, alpha_post_new_prev_prior, beta_post_new_prev_prior)\n",
    "upper_new <- qbeta(0.975, alpha_post_new_prev_prior, beta_post_new_prev_prior)\n",
    "\n",
    "cat(\"posterior mean:\", round(post_mean_new_prev_prior, 4), \"\\n\")\n",
    "cat(\"posterior variance:\", round(var_post_new_prev_prior, 6), \"\\n\")\n",
    "cat(\"95% CI: [\", round(lower_new, 4), \",\", round(upper_new, 4), \"]\\n\\n\")"
   ]
  },
  {
   "cell_type": "markdown",
   "id": "57c82511-eb64-4910-8569-f3e5a17d8dc3",
   "metadata": {},
   "source": [
    "#### 8)"
   ]
  },
  {
   "cell_type": "code",
   "execution_count": 17,
   "id": "507dfea9-1f6a-4c8b-bae9-54d0e97cf7d5",
   "metadata": {
    "vscode": {
     "languageId": "r"
    }
   },
   "outputs": [
    {
     "name": "stdout",
     "output_type": "stream",
     "text": [
      "H test: H0: p = 0.1 vs H1: p /= 0.1:\n",
      "\n",
      "frequentist:\n",
      "- p-value = 0.0549 \n",
      "non reject H0 \n",
      "\n",
      "bayesian:\n",
      "p_0 in CI = 95%: non reject H0"
     ]
    }
   ],
   "source": [
    "cat(\"H test: H0: p = 0.1 vs H1: p /= 0.1:\\n\")\n",
    "p_value_freq_new <- 2 * min(pbinom(y_new, n_new, p_0), 1 - pbinom(y_new-1, n_new, p_0))\n",
    "\n",
    "#frequentist\n",
    "cat(\"\\nfrequentist:\\n\")\n",
    "cat(\"- p-value =\", round(p_value_freq_new, 4), \"\\n\")\n",
    "cat(ifelse(p_value_freq_new < 0.05, \"reject H0\", \"non reject H0\"), \"\\n\")\n",
    "\n",
    "#bayesian\n",
    "bayesian_test <- ifelse(p_0 >= lower_new & p_0 <= upper_new, \"non reject H0\", \"reject H0\")\n",
    "\n",
    "cat(\"\\nbayesian:\\n\")\n",
    "cat(\"p_0 in CI = 95%:\", bayesian_test)"
   ]
  },
  {
   "cell_type": "markdown",
   "id": "aeea627c-16c8-4db3-b9b9-82cfaa28ec88",
   "metadata": {},
   "source": [
    "## Ex 3"
   ]
  },
  {
   "cell_type": "markdown",
   "id": "a436b79f-90cd-48cc-bb16-62ecb8135598",
   "metadata": {},
   "source": [
    "Analyze the data of Exercise 2 and solve points (2) and (3) building and running a MCMC using Stan."
   ]
  },
  {
   "cell_type": "code",
   "execution_count": 18,
   "id": "6de8d1c2-2cfa-4706-97bd-3ce407bb763b",
   "metadata": {
    "vscode": {
     "languageId": "r"
    }
   },
   "outputs": [],
   "source": [
    "stan_model <- \"\n",
    "data{\n",
    "    int<lower=0> n; \n",
    "    int<lower=0> y;\n",
    "    real<lower=0> alpha_prior;\n",
    "    real<lower=0> beta_prior;\n",
    "}\n",
    "parameters{\n",
    "    real<lower=0,upper=1> p;\n",
    "}\n",
    "model{\n",
    "    p ~ beta(alpha_prior, beta_prior); \n",
    "    y ~ binomial(n, p);\n",
    "}\""
   ]
  },
  {
   "cell_type": "code",
   "execution_count": 19,
   "id": "b7dfc85b-1273-4857-877e-958e0752a0b5",
   "metadata": {
    "vscode": {
     "languageId": "r"
    }
   },
   "outputs": [
    {
     "ename": "ERROR",
     "evalue": "Error in compileCode(f, code, language = language, verbose = verbose): /home/teobaldo/miniconda3/envs/ragain/lib/R/library/RcppEigen/include/Eigen/src/Core/ProductEvaluators.h:35:90:   required from 'Eigen::internal::evaluator<Eigen::Product<Lhs, Rhs, Option> >::evaluator(const XprType&) [with Lhs = Eigen::Product<Eigen::CwiseBinaryOp<Eigen::internal::scalar_product_op<double, double>, const Eigen::CwiseNullaryOp<Eigen::internal::scalar_constant_op<double>, const Eigen::Matrix<double, 1, -1> >, const Eigen::Transpose<Eigen::Matrix<double, -1, 1> > >, Eigen::Matrix<double, -1, -1>, 0>; Rhs = Eigen::Matrix<double, -1, 1>; int Options = 0; Eigen::internal::evaluator<Eigen::Product<Lhs, Rhs, Option> >::XprType = Eigen::Product<Eigen::Product<Eigen::CwiseBinaryOp<Eigen::internal::scalar_product_op<double, double>, const Eigen::CwiseNullaryOp<Eigen::internal::scalar_constant_op<double>, const Eigen::Matrix<double, 1, -1> >, const Eigen::Transpose<Eigen::Matrix<double, -1, 1> > >, Eigen::Matrix<double, -1, -1>, 0>, Eigen::Matrix<double, -1, 1>, 0>]'/home/teobaldo/miniconda3/envs/ragain/lib/R/library/RcppEigen/include/Eigen/src/Core/Product.h:132:22:   required from 'Eigen::internal::dense_product_base<Lhs, Rhs, Option, 6>::operator const Scalar() const [with Lhs = Eigen::Product<Eigen::CwiseBinaryOp<Eigen::internal::scalar_product_op<double, double>, const Eigen::CwiseNullaryOp<Eigen::internal::scalar_constant_op<double>, const Eigen::Matrix<double, 1, -1> >, const Eigen::Transpose<Eigen::Matrix<double, -1, 1> > >, Eigen::Matrix<double, -1, -1>, 0>; Rhs = Eigen::Matrix<double, -1, 1>; int Option = 0; Eigen::internal::dense_product_base<Lhs, Rhs, Option, 6>::Scalar = double]'/home/teobaldo/miniconda3/envs/ragain/lib/R/library/StanHeaders/include/src/stan/mcmc/hmc/hamiltonians/dense_e_metric.hpp:22:56:   required from 'double stan::mcmc::dense_e_metric<Model, BaseRNG>::T(stan::mcmc::dense_e_point&) [with Model = model6c936a56b1ba__namespace::model6c936a56b1ba_; BaseRNG = boost::random::additive_combine_engine<boost::random::linear_congruential_engine<unsigned int, 40014, 0, 2147483563>, boost::random::linear_congruential_engine<unsigned int, 40692, 0, 2147483399> >]'/home/teobaldo/miniconda3/envs/ragain/lib/R/library/StanHeaders/include/src/stan/mcmc/hmc/hamiltonians/dense_e_metric.hpp:21:10:   required from here/home/teobaldo/miniconda3/envs/ragain/lib/R/library/RcppEigen/include/Eigen/src/Core/DenseCoeffsBase.h:55:30: warning: ignoring attributes on template argument 'Eigen::internal::packet_traits<double>::type' {aka '__m128d'} [-Wignored-attributes]make: *** [/home/teobaldo/miniconda3/envs/ragain/lib/R/etc/Makeconf:200: file6c9353f4856a.o] Interruzione\n",
     "output_type": "error",
     "traceback": [
      "Error in compileCode(f, code, language = language, verbose = verbose): /home/teobaldo/miniconda3/envs/ragain/lib/R/library/RcppEigen/include/Eigen/src/Core/ProductEvaluators.h:35:90:   required from 'Eigen::internal::evaluator<Eigen::Product<Lhs, Rhs, Option> >::evaluator(const XprType&) [with Lhs = Eigen::Product<Eigen::CwiseBinaryOp<Eigen::internal::scalar_product_op<double, double>, const Eigen::CwiseNullaryOp<Eigen::internal::scalar_constant_op<double>, const Eigen::Matrix<double, 1, -1> >, const Eigen::Transpose<Eigen::Matrix<double, -1, 1> > >, Eigen::Matrix<double, -1, -1>, 0>; Rhs = Eigen::Matrix<double, -1, 1>; int Options = 0; Eigen::internal::evaluator<Eigen::Product<Lhs, Rhs, Option> >::XprType = Eigen::Product<Eigen::Product<Eigen::CwiseBinaryOp<Eigen::internal::scalar_product_op<double, double>, const Eigen::CwiseNullaryOp<Eigen::internal::scalar_constant_op<double>, const Eigen::Matrix<double, 1, -1> >, const Eigen::Transpose<Eigen::Matrix<double, -1, 1> > >, Eigen::Matrix<double, -1, -1>, 0>, Eigen::Matrix<double, -1, 1>, 0>]'/home/teobaldo/miniconda3/envs/ragain/lib/R/library/RcppEigen/include/Eigen/src/Core/Product.h:132:22:   required from 'Eigen::internal::dense_product_base<Lhs, Rhs, Option, 6>::operator const Scalar() const [with Lhs = Eigen::Product<Eigen::CwiseBinaryOp<Eigen::internal::scalar_product_op<double, double>, const Eigen::CwiseNullaryOp<Eigen::internal::scalar_constant_op<double>, const Eigen::Matrix<double, 1, -1> >, const Eigen::Transpose<Eigen::Matrix<double, -1, 1> > >, Eigen::Matrix<double, -1, -1>, 0>; Rhs = Eigen::Matrix<double, -1, 1>; int Option = 0; Eigen::internal::dense_product_base<Lhs, Rhs, Option, 6>::Scalar = double]'/home/teobaldo/miniconda3/envs/ragain/lib/R/library/StanHeaders/include/src/stan/mcmc/hmc/hamiltonians/dense_e_metric.hpp:22:56:   required from 'double stan::mcmc::dense_e_metric<Model, BaseRNG>::T(stan::mcmc::dense_e_point&) [with Model = model6c936a56b1ba__namespace::model6c936a56b1ba_; BaseRNG = boost::random::additive_combine_engine<boost::random::linear_congruential_engine<unsigned int, 40014, 0, 2147483563>, boost::random::linear_congruential_engine<unsigned int, 40692, 0, 2147483399> >]'/home/teobaldo/miniconda3/envs/ragain/lib/R/library/StanHeaders/include/src/stan/mcmc/hmc/hamiltonians/dense_e_metric.hpp:21:10:   required from here/home/teobaldo/miniconda3/envs/ragain/lib/R/library/RcppEigen/include/Eigen/src/Core/DenseCoeffsBase.h:55:30: warning: ignoring attributes on template argument 'Eigen::internal::packet_traits<double>::type' {aka '__m128d'} [-Wignored-attributes]make: *** [/home/teobaldo/miniconda3/envs/ragain/lib/R/etc/Makeconf:200: file6c9353f4856a.o] Interruzione\nTraceback:\n",
      "1. stan(model_code = stan_model, data = stan_data, iter = 4000, \n .     warmup = 1000, chains = 4, seed = 87035)",
      "2. stan_model(file, model_name = model_name, model_code = model_code, \n .     stanc_ret = NULL, boost_lib = boost_lib, eigen_lib = eigen_lib, \n .     save_dso = save_dso, verbose = verbose)",
      "3. cxxfunctionplus(signature(), body = paste(\" return Rcpp::wrap(\\\"\", \n .     model_name, \"\\\");\", sep = \"\"), includes = inc, plugin = \"rstan\", \n .     save_dso = save_dso | auto_write, module_name = paste(\"stan_fit4\", \n .         model_cppname, \"_mod\", sep = \"\"), verbose = verbose)",
      "4. pkgbuild::with_build_tools(cxxfunction(sig = sig, body = body, \n .     plugin = plugin, includes = includes, settings = settings, \n .     ..., verbose = verbose), required = rstan_options(\"required\") && \n .     !identical(Sys.getenv(\"WINDOWS\"), \"TRUE\") && !identical(Sys.getenv(\"R_PACKAGE_SOURCE\"), \n .     \"\"))",
      "5. cxxfunction(sig = sig, body = body, plugin = plugin, includes = includes, \n .     settings = settings, ..., verbose = verbose)",
      "6. compileCode(f, code, language = language, verbose = verbose)",
      "7. stop(tail(errmsg))"
     ]
    },
    {
     "ename": "ERROR",
     "evalue": "Error in sink(type = \"output\"): connessione non valida\n",
     "output_type": "error",
     "traceback": [
      "Error in sink(type = \"output\"): connessione non valida\nTraceback:\n",
      "1. stan(model_code = stan_model, data = stan_data, iter = 4000, \n .     warmup = 1000, chains = 4, seed = 87035)",
      "2. stan_model(file, model_name = model_name, model_code = model_code, \n .     stanc_ret = NULL, boost_lib = boost_lib, eigen_lib = eigen_lib, \n .     save_dso = save_dso, verbose = verbose)",
      "3. cxxfunctionplus(signature(), body = paste(\" return Rcpp::wrap(\\\"\", \n .     model_name, \"\\\");\", sep = \"\"), includes = inc, plugin = \"rstan\", \n .     save_dso = save_dso | auto_write, module_name = paste(\"stan_fit4\", \n .         model_cppname, \"_mod\", sep = \"\"), verbose = verbose)",
      "4. sink(type = \"output\")"
     ]
    }
   ],
   "source": [
    "stan_data <- list(n = n_new, y = y_new,\n",
    "                alpha_prior = alpha_post,\n",
    "                beta_prior = beta_post)\n",
    "\n",
    "fit <- stan(model_code = stan_model,\n",
    "            data = stan_data,\n",
    "            iter = 4000, warmup = 1000,\n",
    "            chains = 4, seed = 87035)\n",
    "\n",
    "print(fit, pars = \"p\", probs = c(0.025, 0.975))"
   ]
  },
  {
   "cell_type": "code",
   "execution_count": null,
   "id": "5836609d-ffeb-473c-8c9f-10c987b8080b",
   "metadata": {
    "vscode": {
     "languageId": "r"
    }
   },
   "outputs": [
    {
     "name": "stdout",
     "output_type": "stream",
     "text": [
      "posterior mean: 0.0684\n",
      "posterior variance: 0.000219\n",
      "95% CI: 0.0422 - 0.1"
     ]
    }
   ],
   "source": [
    "samples <- extract(fit)$p\n",
    "\n",
    "# mean, var posterior\n",
    "mean <- mean(samples)\n",
    "var <- var(samples)\n",
    "CI <- quantile(samples, probs = c(0.025, 0.975))\n",
    "\n",
    "cat(\"posterior mean:\", round(mean, 4))\n",
    "cat(\"\\nposterior variance:\", round(var, 6))\n",
    "cat(\"\\n95% CI:\", round(CI[1], 4), \"-\", round(CI[2], 4))"
   ]
  },
  {
   "cell_type": "code",
   "execution_count": null,
   "id": "c1590b74-9297-4f48-a8c1-4e57014bbfbb",
   "metadata": {
    "vscode": {
     "languageId": "r"
    }
   },
   "outputs": [],
   "source": []
  }
 ],
 "metadata": {
  "kernelspec": {
   "display_name": "R",
   "language": "R",
   "name": "ir"
  },
  "language_info": {
   "codemirror_mode": "r",
   "file_extension": ".r",
   "mimetype": "text/x-r-source",
   "name": "R",
   "pygments_lexer": "r",
   "version": "4.3.1"
  }
 },
 "nbformat": 4,
 "nbformat_minor": 5
}
